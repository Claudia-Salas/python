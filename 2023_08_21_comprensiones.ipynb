{
  "cells": [
    {
      "cell_type": "markdown",
      "metadata": {
        "id": "view-in-github",
        "colab_type": "text"
      },
      "source": [
        "<a href=\"https://colab.research.google.com/github/Claudia-Salas/python/blob/main/2023_08_21_comprensiones.ipynb\" target=\"_parent\"><img src=\"https://colab.research.google.com/assets/colab-badge.svg\" alt=\"Open In Colab\"/></a>"
      ]
    },
    {
      "cell_type": "markdown",
      "metadata": {
        "id": "JS4zIMkmlvkI"
      },
      "source": [
        "Comprensiones\n",
        "=============\n",
        "\n",
        "**Date:** 2023-08-21\n",
        "\n"
      ]
    },
    {
      "cell_type": "markdown",
      "metadata": {
        "id": "i7wgXURelvkN"
      },
      "source": [
        "## Comprensiones de listas\n",
        "\n"
      ]
    },
    {
      "cell_type": "markdown",
      "metadata": {
        "id": "xr5vXAQxlvkO"
      },
      "source": [
        "Muchas veces es conveniente este concepto para construir ciertas listas. Por ejemplo:\n",
        "\n"
      ]
    },
    {
      "cell_type": "code",
      "execution_count": 1,
      "metadata": {
        "colab": {
          "base_uri": "https://localhost:8080/"
        },
        "id": "Or8QGzpllvkP",
        "outputId": "a466665c-7fea-4be0-da13-58f4e24d1581"
      },
      "outputs": [
        {
          "output_type": "execute_result",
          "data": {
            "text/plain": [
              "[0, 1, 4, 9, 16]"
            ]
          },
          "metadata": {},
          "execution_count": 1
        }
      ],
      "source": [
        "cuadrados = []\n",
        "for i in range(5):\n",
        "    cuadrados.append(i**2)\n",
        "\n",
        "cuadrados"
      ]
    },
    {
      "cell_type": "markdown",
      "source": [
        "el range(5), nos dice que estamos tomando los números que  van del 0 al 4 y después nos dice que de esos numeros tomamos el cuadrado de cada uno"
      ],
      "metadata": {
        "id": "CP6fHeHDl7Ll"
      }
    },
    {
      "cell_type": "markdown",
      "metadata": {
        "id": "Lkyp1XtblvkS"
      },
      "source": [
        "Se puede usar una sintaxis parecida a la notación matemática $\\{i^{2}\\mid i\\in\\{0,1,2,3,4\\}\\}$. Esto en inglés se le llama *List Comprehension*.\n",
        "\n"
      ]
    },
    {
      "cell_type": "code",
      "execution_count": 2,
      "metadata": {
        "colab": {
          "base_uri": "https://localhost:8080/"
        },
        "id": "BgKzYr97lvkS",
        "outputId": "f8eb919a-e8ce-4cce-ba24-1184dc7bbca0"
      },
      "outputs": [
        {
          "output_type": "execute_result",
          "data": {
            "text/plain": [
              "[0, 1, 4, 9, 16]"
            ]
          },
          "metadata": {},
          "execution_count": 2
        }
      ],
      "source": [
        "cuadrados2 = [i**2 for i in range(5)]\n",
        "\n",
        "cuadrados2"
      ]
    },
    {
      "cell_type": "markdown",
      "source": [
        "Hace lo mismo que en el primero pero es de una forma mas corta son todos los i del 0 al 4 y se le toma el cuadrado"
      ],
      "metadata": {
        "id": "fkQkXHo2mLwD"
      }
    },
    {
      "cell_type": "code",
      "execution_count": 3,
      "metadata": {
        "colab": {
          "base_uri": "https://localhost:8080/"
        },
        "id": "G47ZEW0alvkT",
        "outputId": "628ebb01-9cf8-45bb-f84e-4add1abcc3f2"
      },
      "outputs": [
        {
          "output_type": "execute_result",
          "data": {
            "text/plain": [
              "[0, 4, 16, 36, 64]"
            ]
          },
          "metadata": {},
          "execution_count": 3
        }
      ],
      "source": [
        "cuadrados3 = [i**2 for i in range(10) if i % 2 == 0]\n",
        "cuadrados3"
      ]
    },
    {
      "cell_type": "markdown",
      "source": [
        "ahora son los números del 0 al 9, también se les toma el cuadrado pero solo estamos tomando los i que al dividirlos entre 2 tengan residuo cero"
      ],
      "metadata": {
        "id": "7T204AQimVDM"
      }
    },
    {
      "cell_type": "markdown",
      "metadata": {
        "id": "vH7pAr2clvkT"
      },
      "source": [
        "Usando comprensiones, podemos optimizar el código de una función que dado un conjunto regrese todos sus subconjuntos.\n",
        "\n"
      ]
    },
    {
      "cell_type": "code",
      "execution_count": 5,
      "metadata": {
        "colab": {
          "base_uri": "https://localhost:8080/"
        },
        "id": "Es8nkVYrlvkU",
        "outputId": "433652d0-6544-4220-e4ba-922fd19ab741"
      },
      "outputs": [
        {
          "output_type": "execute_result",
          "data": {
            "text/plain": [
              "[set(), {8}, {1}, {5}, {1, 8}, {5, 8}, {1, 5}, {1, 5, 8}]"
            ]
          },
          "metadata": {},
          "execution_count": 5
        }
      ],
      "source": [
        "from itertools import combinations\n",
        "\n",
        "def subconjuntos(conjunto):\n",
        "    todos = []\n",
        "    for i in range(len(conjunto)+1):\n",
        "        for sub in combinations(conjunto, i):\n",
        "            todos.append(set(sub))\n",
        "\n",
        "    return todos\n",
        "\n",
        "subconjuntos({1,5,8})"
      ]
    },
    {
      "cell_type": "markdown",
      "metadata": {
        "id": "c8dgNEzTlvkV"
      },
      "source": [
        "El conjunto vacío no se puede representar con `{}`, pues ese es el diccionario vacío. Sin embargo, se puede obtener aplicando `set` a la lista vacía:\n",
        "\n"
      ]
    },
    {
      "cell_type": "code",
      "execution_count": 7,
      "metadata": {
        "colab": {
          "base_uri": "https://localhost:8080/"
        },
        "id": "aYRJJgwulvkV",
        "outputId": "d99a5802-b6dd-4db1-85e5-2807efbfe6d9"
      },
      "outputs": [
        {
          "output_type": "execute_result",
          "data": {
            "text/plain": [
              "set"
            ]
          },
          "metadata": {},
          "execution_count": 7
        }
      ],
      "source": [
        "a = set([])\n",
        "type(a)"
      ]
    },
    {
      "cell_type": "markdown",
      "source": [
        "type para ver que tipo es"
      ],
      "metadata": {
        "id": "igT5zPCAnPf5"
      }
    },
    {
      "cell_type": "code",
      "execution_count": 8,
      "metadata": {
        "colab": {
          "base_uri": "https://localhost:8080/"
        },
        "outputId": "cf4c3659-b473-4e99-e030-2a081eedccfb",
        "id": "_WUI1Fm-nLFF"
      },
      "outputs": [
        {
          "output_type": "execute_result",
          "data": {
            "text/plain": [
              "set()"
            ]
          },
          "metadata": {},
          "execution_count": 8
        }
      ],
      "source": [
        "a = set([])\n",
        "a"
      ]
    },
    {
      "cell_type": "code",
      "execution_count": 9,
      "metadata": {
        "colab": {
          "base_uri": "https://localhost:8080/"
        },
        "id": "8dp8K-07lvkW",
        "outputId": "9935789c-9677-4e81-a7ca-e8ef9afc3057"
      },
      "outputs": [
        {
          "output_type": "execute_result",
          "data": {
            "text/plain": [
              "[(1, 3), (1, 9), (3, 9)]"
            ]
          },
          "metadata": {},
          "execution_count": 9
        }
      ],
      "source": [
        "ejemplo = {1, 3, 9}\n",
        "\n",
        "list(combinations(ejemplo, 2))"
      ]
    },
    {
      "cell_type": "markdown",
      "source": [
        "{ } significan conjunto, después creamos una lista (list) con ese conjunto y se hacen combinaciones de a 2 elementos, como se creo una lista por eso las combinaciones estan entre corchetes [ ]\n"
      ],
      "metadata": {
        "id": "1jyUd9_LnTPo"
      }
    },
    {
      "cell_type": "code",
      "execution_count": 10,
      "metadata": {
        "colab": {
          "base_uri": "https://localhost:8080/"
        },
        "id": "KBg0WZN6lvkW",
        "outputId": "389fab95-7621-424e-b064-cdcf2cab4a8e"
      },
      "outputs": [
        {
          "output_type": "execute_result",
          "data": {
            "text/plain": [
              "[{1, 3}, {1, 9}, {3, 9}]"
            ]
          },
          "metadata": {},
          "execution_count": 10
        }
      ],
      "source": [
        "subs = [set(sub) for sub in combinations(ejemplo, 2)]\n",
        "subs"
      ]
    },
    {
      "cell_type": "code",
      "execution_count": 11,
      "metadata": {
        "colab": {
          "base_uri": "https://localhost:8080/"
        },
        "id": "0bI5sD9xlvkX",
        "outputId": "cf077281-3a30-4551-b9ba-1abd2cb20d36"
      },
      "outputs": [
        {
          "output_type": "execute_result",
          "data": {
            "text/plain": [
              "[set(), {1}, {3}, {9}, {1, 3}, {1, 9}, {3, 9}, {1, 3, 9}]"
            ]
          },
          "metadata": {},
          "execution_count": 11
        }
      ],
      "source": [
        "subs = [set(sub) for i in range(4) for sub in combinations(ejemplo, i)]\n",
        "subs"
      ]
    },
    {
      "cell_type": "markdown",
      "metadata": {
        "id": "4P-x9ps_lvkX"
      },
      "source": [
        "## Otras comprensiones\n",
        "\n"
      ]
    },
    {
      "cell_type": "markdown",
      "metadata": {
        "id": "n1_vsFA3lvkX"
      },
      "source": [
        "También hay comprensiones de conjuntos:\n",
        "\n"
      ]
    },
    {
      "cell_type": "code",
      "execution_count": 12,
      "metadata": {
        "colab": {
          "base_uri": "https://localhost:8080/"
        },
        "id": "wekLBlzblvkY",
        "outputId": "9c635a79-3fee-43a1-fd87-63b74701f680"
      },
      "outputs": [
        {
          "output_type": "execute_result",
          "data": {
            "text/plain": [
              "{0, 1, 4, 9, 16, 25}"
            ]
          },
          "metadata": {},
          "execution_count": 12
        }
      ],
      "source": [
        "cuads = {i**2 for i in range(6)}\n",
        "cuads"
      ]
    },
    {
      "cell_type": "markdown",
      "metadata": {
        "id": "iyp7VJdNlvkY"
      },
      "source": [
        "Hay también comprensiones de diccionarios:\n",
        "\n"
      ]
    },
    {
      "cell_type": "code",
      "execution_count": 13,
      "metadata": {
        "colab": {
          "base_uri": "https://localhost:8080/"
        },
        "id": "AmZTHl7xlvkZ",
        "outputId": "69e76b35-af55-4e58-a440-1865ff49261d"
      },
      "outputs": [
        {
          "output_type": "execute_result",
          "data": {
            "text/plain": [
              "{0: 0, 1: 1, 2: 4, 3: 9, 4: 16, 5: 25}"
            ]
          },
          "metadata": {},
          "execution_count": 13
        }
      ],
      "source": [
        "dict_cuadrados = {i:i**2 for i in range(6)}\n",
        "dict_cuadrados"
      ]
    },
    {
      "cell_type": "markdown",
      "source": [
        "nos arroja cada i con su respectivo cuadrado"
      ],
      "metadata": {
        "id": "YNEHrtVkoLQn"
      }
    },
    {
      "cell_type": "markdown",
      "metadata": {
        "id": "sJYvm_0LlvkZ"
      },
      "source": [
        "## Subconjuntos\n",
        "\n"
      ]
    },
    {
      "cell_type": "markdown",
      "metadata": {
        "id": "G0TyUHWIlvkZ"
      },
      "source": [
        "Se puede usar la función `combinations` de la biblioteca `itertools` para obtener todos los subconjuntos de un conjunto de cierto tamaño.\n",
        "\n"
      ]
    },
    {
      "cell_type": "code",
      "execution_count": 14,
      "metadata": {
        "colab": {
          "base_uri": "https://localhost:8080/"
        },
        "id": "R1YKnpDTlvka",
        "outputId": "8741b4fd-9672-4147-9a59-cc84b8c313d3"
      },
      "outputs": [
        {
          "output_type": "execute_result",
          "data": {
            "text/plain": [
              "{(1, 4, 7), (8, 1, 4), (8, 1, 7), (8, 4, 7)}"
            ]
          },
          "metadata": {},
          "execution_count": 14
        }
      ],
      "source": [
        "from itertools import combinations\n",
        "\n",
        "ejemplo = {1,4,7,8}\n",
        "set(combinations(ejemplo, 3))"
      ]
    },
    {
      "cell_type": "markdown",
      "source": [
        "se hacen combinaciones con los números que estan en el conjunto \"ejemplo\" y que cada combinación contenga 3 números"
      ],
      "metadata": {
        "id": "36L0IaSmoTJR"
      }
    },
    {
      "cell_type": "markdown",
      "metadata": {
        "id": "zTkYJfc1lvka"
      },
      "source": [
        "Ejercicio: Definir una función que regrese todos los subconjuntos de un conjunto. Por ejemplo, para el conjunto `{1,4,7,8}` regrese:\n",
        "\n"
      ]
    },
    {
      "cell_type": "code",
      "execution_count": 15,
      "metadata": {
        "colab": {
          "base_uri": "https://localhost:8080/"
        },
        "id": "JcnbNhZulvka",
        "outputId": "f52f9ee7-973f-4f79-e774-30a6adb03aeb"
      },
      "outputs": [
        {
          "output_type": "execute_result",
          "data": {
            "text/plain": [
              "[set(),\n",
              " {8},\n",
              " {1},\n",
              " {4},\n",
              " {7},\n",
              " {1, 8},\n",
              " {4, 8},\n",
              " {7, 8},\n",
              " {1, 4},\n",
              " {1, 7},\n",
              " {4, 7},\n",
              " {1, 4, 8},\n",
              " {1, 7, 8},\n",
              " {4, 7, 8},\n",
              " {1, 4, 7},\n",
              " {1, 4, 7, 8}]"
            ]
          },
          "metadata": {},
          "execution_count": 15
        }
      ],
      "source": [
        "def todos_subconjuntos(conjunto):\n",
        "    todos = []\n",
        "    for i in range(len(conjunto)+1):\n",
        "        for subconjunto in combinations(conjunto, i):\n",
        "            todos.append(set(subconjunto))\n",
        "    return todos\n",
        "\n",
        "todos_subconjuntos(ejemplo)"
      ]
    },
    {
      "cell_type": "markdown",
      "metadata": {
        "id": "3-GeBgWIlvkb"
      },
      "source": [
        "## Knapsack problem\n",
        "\n"
      ]
    },
    {
      "cell_type": "code",
      "execution_count": 16,
      "metadata": {
        "colab": {
          "base_uri": "https://localhost:8080/"
        },
        "id": "QALlUvc-lvkb",
        "outputId": "11b715ee-8639-408a-8649-605e44728f93"
      },
      "outputs": [
        {
          "output_type": "execute_result",
          "data": {
            "text/plain": [
              "10715086071862673209484250490600018105614048117055336074437503883703510511249361224931983788156958581275946729175531468251871452856923140435984577574698574803934567774824230985421074605062371141877954182153046474983581941267398767559165543946077062914571196477686542167660429831652624386837205668069376"
            ]
          },
          "metadata": {},
          "execution_count": 16
        }
      ],
      "source": [
        "2**1000"
      ]
    },
    {
      "cell_type": "markdown",
      "metadata": {
        "id": "evmYw2uklvkb"
      },
      "source": [
        "utilidad -> *profit*\n",
        "\n",
        "peso -> *weight*\n",
        "\n"
      ]
    },
    {
      "cell_type": "code",
      "execution_count": 18,
      "metadata": {
        "id": "Yhl0ahUrlvkc"
      },
      "outputs": [],
      "source": [
        "utilidad = {\"linterna\":10, \"libro\":2, \"baterías\":4, \"lata\":7, \"bolsa de dormir\": 20, \"mapa\":6, \"celular\":7, \"encendedor\": 8, \"asador\":6, \"computadora\":7 }\n",
        "\n",
        "peso = {\"linterna\":3, \"libro\":5, \"baterías\":1, \"lata\":3, \"bolsa de dormir\": 8, \"mapa\":1, \"celular\": 2, \"encendedor\":1, \"asador\":10, \"computadora\":1}"
      ]
    },
    {
      "cell_type": "code",
      "execution_count": 19,
      "metadata": {
        "colab": {
          "base_uri": "https://localhost:8080/"
        },
        "id": "DBpAsDDzlvkc",
        "outputId": "ac8585d1-ddae-409e-fe11-f12b93b933fc"
      },
      "outputs": [
        {
          "output_type": "stream",
          "name": "stdout",
          "text": [
            "El objeto 'linterna' tiene utilidad 10.\n",
            "El objeto 'libro' tiene utilidad 2.\n",
            "El objeto 'baterías' tiene utilidad 4.\n",
            "El objeto 'lata' tiene utilidad 7.\n",
            "El objeto 'bolsa de dormir' tiene utilidad 20.\n",
            "El objeto 'mapa' tiene utilidad 6.\n",
            "El objeto 'celular' tiene utilidad 7.\n",
            "El objeto 'encendedor' tiene utilidad 8.\n",
            "El objeto 'asador' tiene utilidad 6.\n",
            "El objeto 'computadora' tiene utilidad 7.\n"
          ]
        }
      ],
      "source": [
        "for objeto in utilidad.keys():\n",
        "    print(f\"El objeto '{objeto}' tiene utilidad {utilidad[objeto]}.\")"
      ]
    },
    {
      "cell_type": "markdown",
      "metadata": {
        "id": "ylRfD1znlvkc"
      },
      "source": [
        "En realidad, no se necesita decir explícitamente que se van a recorrer las llaves para recorrer un diccionario:\n",
        "\n"
      ]
    },
    {
      "cell_type": "code",
      "execution_count": 20,
      "metadata": {
        "colab": {
          "base_uri": "https://localhost:8080/"
        },
        "id": "X3KUpqU3lvkd",
        "outputId": "6a13b735-4650-479c-a757-d7d02853230e"
      },
      "outputs": [
        {
          "output_type": "stream",
          "name": "stdout",
          "text": [
            "El objeto 'linterna' tiene utilidad 10.\n",
            "El objeto 'libro' tiene utilidad 2.\n",
            "El objeto 'baterías' tiene utilidad 4.\n",
            "El objeto 'lata' tiene utilidad 7.\n",
            "El objeto 'bolsa de dormir' tiene utilidad 20.\n",
            "El objeto 'mapa' tiene utilidad 6.\n",
            "El objeto 'celular' tiene utilidad 7.\n",
            "El objeto 'encendedor' tiene utilidad 8.\n",
            "El objeto 'asador' tiene utilidad 6.\n",
            "El objeto 'computadora' tiene utilidad 7.\n"
          ]
        }
      ],
      "source": [
        "for objeto in utilidad:\n",
        "    print(f\"El objeto '{objeto}' tiene utilidad {utilidad[objeto]}.\")"
      ]
    },
    {
      "cell_type": "markdown",
      "metadata": {
        "id": "ltc6TJXQlvkd"
      },
      "source": [
        "Ejercicio: Definir una función que, dado un subconjunto de los objetos, determine la suma de los pesos o de las utilidades. Es decir, `tarea({\"mapa\", \"celular\"}, utilidad)` debe regresar 13.\n",
        "\n",
        "Sugerencia: Usar la función `sum`.\n",
        "\n"
      ]
    },
    {
      "cell_type": "code",
      "execution_count": 21,
      "metadata": {
        "colab": {
          "base_uri": "https://localhost:8080/"
        },
        "id": "Ow6ayhAslvke",
        "outputId": "6b953e7b-c37a-4e26-d7b7-e373d411f9ef"
      },
      "outputs": [
        {
          "output_type": "execute_result",
          "data": {
            "text/plain": [
              "19"
            ]
          },
          "metadata": {},
          "execution_count": 21
        }
      ],
      "source": [
        "sum([4,5,10])"
      ]
    },
    {
      "cell_type": "code",
      "execution_count": 22,
      "metadata": {
        "colab": {
          "base_uri": "https://localhost:8080/"
        },
        "id": "pb-y1g5nlvke",
        "outputId": "49438a6f-a783-4d95-82d5-bfa876c19de2"
      },
      "outputs": [
        {
          "output_type": "execute_result",
          "data": {
            "text/plain": [
              "6"
            ]
          },
          "metadata": {},
          "execution_count": 22
        }
      ],
      "source": [
        "def suma(conjunto, parámetro):\n",
        "    valores = [parámetro[objeto] for objeto in conjunto]\n",
        "    return sum(valores)\n",
        "\n",
        "suma(conjunto={\"linterna\", \"lata\"}, parámetro=peso)"
      ]
    },
    {
      "cell_type": "code",
      "execution_count": 23,
      "metadata": {
        "colab": {
          "base_uri": "https://localhost:8080/"
        },
        "id": "TzFORDvhlvke",
        "outputId": "544de097-c918-4169-903f-81787724dbf8"
      },
      "outputs": [
        {
          "output_type": "execute_result",
          "data": {
            "text/plain": [
              "[set(), {1}, {-6}, {6}, {-6, 1}, {1, 6}, {-6, 6}, {-6, 1, 6}]"
            ]
          },
          "metadata": {},
          "execution_count": 23
        }
      ],
      "source": [
        "def todos_subconjuntos(conjunto):\n",
        "    return [set(subconjunto) for i in range(len(conjunto)+1) for subconjunto \\\n",
        "            in combinations(conjunto, i)]\n",
        "\n",
        "todos_subconjuntos({1,-6,6})"
      ]
    },
    {
      "cell_type": "code",
      "execution_count": 24,
      "metadata": {
        "colab": {
          "base_uri": "https://localhost:8080/"
        },
        "id": "-a7Cqswvlvkf",
        "outputId": "88136dc4-e987-4174-c1e4-cc46a70e623d"
      },
      "outputs": [
        {
          "output_type": "stream",
          "name": "stdout",
          "text": [
            "El conjunto set() tiene utilidad 0.\n",
            "El conjunto {'linterna'} tiene utilidad 10.\n",
            "El conjunto {'libro'} tiene utilidad 2.\n",
            "El conjunto {'baterías'} tiene utilidad 4.\n",
            "El conjunto {'lata'} tiene utilidad 7.\n",
            "El conjunto {'bolsa de dormir'} tiene utilidad 20.\n",
            "El conjunto {'mapa'} tiene utilidad 6.\n",
            "El conjunto {'celular'} tiene utilidad 7.\n",
            "El conjunto {'encendedor'} tiene utilidad 8.\n",
            "El conjunto {'asador'} tiene utilidad 6.\n",
            "El conjunto {'computadora'} tiene utilidad 7.\n",
            "El conjunto {'linterna', 'libro'} tiene utilidad 12.\n",
            "El conjunto {'linterna', 'baterías'} tiene utilidad 14.\n",
            "El conjunto {'linterna', 'lata'} tiene utilidad 17.\n",
            "El conjunto {'linterna', 'bolsa de dormir'} tiene utilidad 30.\n",
            "El conjunto {'mapa', 'linterna'} tiene utilidad 16.\n",
            "El conjunto {'linterna', 'celular'} tiene utilidad 17.\n",
            "El conjunto {'linterna', 'encendedor'} tiene utilidad 18.\n",
            "El conjunto {'linterna', 'asador'} tiene utilidad 16.\n",
            "El conjunto {'linterna', 'computadora'} tiene utilidad 17.\n",
            "El conjunto {'baterías', 'libro'} tiene utilidad 6.\n",
            "El conjunto {'lata', 'libro'} tiene utilidad 9.\n",
            "El conjunto {'bolsa de dormir', 'libro'} tiene utilidad 22.\n",
            "El conjunto {'mapa', 'libro'} tiene utilidad 8.\n",
            "El conjunto {'celular', 'libro'} tiene utilidad 9.\n",
            "El conjunto {'encendedor', 'libro'} tiene utilidad 10.\n",
            "El conjunto {'asador', 'libro'} tiene utilidad 8.\n",
            "El conjunto {'computadora', 'libro'} tiene utilidad 9.\n",
            "El conjunto {'lata', 'baterías'} tiene utilidad 11.\n",
            "El conjunto {'baterías', 'bolsa de dormir'} tiene utilidad 24.\n",
            "El conjunto {'mapa', 'baterías'} tiene utilidad 10.\n",
            "El conjunto {'baterías', 'celular'} tiene utilidad 11.\n",
            "El conjunto {'encendedor', 'baterías'} tiene utilidad 12.\n",
            "El conjunto {'asador', 'baterías'} tiene utilidad 10.\n",
            "El conjunto {'computadora', 'baterías'} tiene utilidad 11.\n",
            "El conjunto {'lata', 'bolsa de dormir'} tiene utilidad 27.\n",
            "El conjunto {'mapa', 'lata'} tiene utilidad 13.\n",
            "El conjunto {'lata', 'celular'} tiene utilidad 14.\n",
            "El conjunto {'encendedor', 'lata'} tiene utilidad 15.\n",
            "El conjunto {'asador', 'lata'} tiene utilidad 13.\n",
            "El conjunto {'computadora', 'lata'} tiene utilidad 14.\n",
            "El conjunto {'mapa', 'bolsa de dormir'} tiene utilidad 26.\n",
            "El conjunto {'celular', 'bolsa de dormir'} tiene utilidad 27.\n",
            "El conjunto {'encendedor', 'bolsa de dormir'} tiene utilidad 28.\n",
            "El conjunto {'asador', 'bolsa de dormir'} tiene utilidad 26.\n",
            "El conjunto {'computadora', 'bolsa de dormir'} tiene utilidad 27.\n",
            "El conjunto {'mapa', 'celular'} tiene utilidad 13.\n",
            "El conjunto {'mapa', 'encendedor'} tiene utilidad 14.\n",
            "El conjunto {'mapa', 'asador'} tiene utilidad 12.\n",
            "El conjunto {'mapa', 'computadora'} tiene utilidad 13.\n",
            "El conjunto {'encendedor', 'celular'} tiene utilidad 15.\n",
            "El conjunto {'asador', 'celular'} tiene utilidad 13.\n",
            "El conjunto {'computadora', 'celular'} tiene utilidad 14.\n",
            "El conjunto {'asador', 'encendedor'} tiene utilidad 14.\n",
            "El conjunto {'computadora', 'encendedor'} tiene utilidad 15.\n",
            "El conjunto {'asador', 'computadora'} tiene utilidad 13.\n",
            "El conjunto {'linterna', 'baterías', 'libro'} tiene utilidad 16.\n",
            "El conjunto {'linterna', 'lata', 'libro'} tiene utilidad 19.\n",
            "El conjunto {'linterna', 'bolsa de dormir', 'libro'} tiene utilidad 32.\n",
            "El conjunto {'mapa', 'linterna', 'libro'} tiene utilidad 18.\n",
            "El conjunto {'celular', 'linterna', 'libro'} tiene utilidad 19.\n",
            "El conjunto {'linterna', 'encendedor', 'libro'} tiene utilidad 20.\n",
            "El conjunto {'linterna', 'asador', 'libro'} tiene utilidad 18.\n",
            "El conjunto {'linterna', 'computadora', 'libro'} tiene utilidad 19.\n",
            "El conjunto {'lata', 'linterna', 'baterías'} tiene utilidad 21.\n",
            "El conjunto {'linterna', 'baterías', 'bolsa de dormir'} tiene utilidad 34.\n",
            "El conjunto {'mapa', 'linterna', 'baterías'} tiene utilidad 20.\n",
            "El conjunto {'linterna', 'baterías', 'celular'} tiene utilidad 21.\n",
            "El conjunto {'linterna', 'encendedor', 'baterías'} tiene utilidad 22.\n",
            "El conjunto {'linterna', 'asador', 'baterías'} tiene utilidad 20.\n",
            "El conjunto {'linterna', 'computadora', 'baterías'} tiene utilidad 21.\n",
            "El conjunto {'linterna', 'lata', 'bolsa de dormir'} tiene utilidad 37.\n",
            "El conjunto {'mapa', 'linterna', 'lata'} tiene utilidad 23.\n",
            "El conjunto {'linterna', 'lata', 'celular'} tiene utilidad 24.\n",
            "El conjunto {'linterna', 'encendedor', 'lata'} tiene utilidad 25.\n",
            "El conjunto {'linterna', 'asador', 'lata'} tiene utilidad 23.\n",
            "El conjunto {'linterna', 'computadora', 'lata'} tiene utilidad 24.\n",
            "El conjunto {'mapa', 'linterna', 'bolsa de dormir'} tiene utilidad 36.\n",
            "El conjunto {'celular', 'linterna', 'bolsa de dormir'} tiene utilidad 37.\n",
            "El conjunto {'linterna', 'encendedor', 'bolsa de dormir'} tiene utilidad 38.\n",
            "El conjunto {'linterna', 'asador', 'bolsa de dormir'} tiene utilidad 36.\n",
            "El conjunto {'linterna', 'computadora', 'bolsa de dormir'} tiene utilidad 37.\n",
            "El conjunto {'mapa', 'linterna', 'celular'} tiene utilidad 23.\n",
            "El conjunto {'mapa', 'linterna', 'encendedor'} tiene utilidad 24.\n",
            "El conjunto {'mapa', 'linterna', 'asador'} tiene utilidad 22.\n",
            "El conjunto {'mapa', 'linterna', 'computadora'} tiene utilidad 23.\n",
            "El conjunto {'linterna', 'encendedor', 'celular'} tiene utilidad 25.\n",
            "El conjunto {'linterna', 'asador', 'celular'} tiene utilidad 23.\n",
            "El conjunto {'linterna', 'computadora', 'celular'} tiene utilidad 24.\n",
            "El conjunto {'linterna', 'asador', 'encendedor'} tiene utilidad 24.\n",
            "El conjunto {'linterna', 'computadora', 'encendedor'} tiene utilidad 25.\n",
            "El conjunto {'linterna', 'asador', 'computadora'} tiene utilidad 23.\n",
            "El conjunto {'lata', 'baterías', 'libro'} tiene utilidad 13.\n",
            "El conjunto {'bolsa de dormir', 'baterías', 'libro'} tiene utilidad 26.\n",
            "El conjunto {'mapa', 'baterías', 'libro'} tiene utilidad 12.\n",
            "El conjunto {'celular', 'baterías', 'libro'} tiene utilidad 13.\n",
            "El conjunto {'encendedor', 'baterías', 'libro'} tiene utilidad 14.\n",
            "El conjunto {'asador', 'baterías', 'libro'} tiene utilidad 12.\n",
            "El conjunto {'computadora', 'baterías', 'libro'} tiene utilidad 13.\n",
            "El conjunto {'bolsa de dormir', 'lata', 'libro'} tiene utilidad 29.\n",
            "El conjunto {'mapa', 'lata', 'libro'} tiene utilidad 15.\n",
            "El conjunto {'celular', 'lata', 'libro'} tiene utilidad 16.\n",
            "El conjunto {'encendedor', 'lata', 'libro'} tiene utilidad 17.\n",
            "El conjunto {'asador', 'lata', 'libro'} tiene utilidad 15.\n",
            "El conjunto {'computadora', 'lata', 'libro'} tiene utilidad 16.\n",
            "El conjunto {'mapa', 'bolsa de dormir', 'libro'} tiene utilidad 28.\n",
            "El conjunto {'celular', 'bolsa de dormir', 'libro'} tiene utilidad 29.\n",
            "El conjunto {'bolsa de dormir', 'encendedor', 'libro'} tiene utilidad 30.\n",
            "El conjunto {'bolsa de dormir', 'asador', 'libro'} tiene utilidad 28.\n",
            "El conjunto {'bolsa de dormir', 'computadora', 'libro'} tiene utilidad 29.\n",
            "El conjunto {'mapa', 'celular', 'libro'} tiene utilidad 15.\n",
            "El conjunto {'mapa', 'encendedor', 'libro'} tiene utilidad 16.\n",
            "El conjunto {'mapa', 'asador', 'libro'} tiene utilidad 14.\n",
            "El conjunto {'mapa', 'computadora', 'libro'} tiene utilidad 15.\n",
            "El conjunto {'celular', 'encendedor', 'libro'} tiene utilidad 17.\n",
            "El conjunto {'celular', 'asador', 'libro'} tiene utilidad 15.\n",
            "El conjunto {'celular', 'computadora', 'libro'} tiene utilidad 16.\n",
            "El conjunto {'asador', 'encendedor', 'libro'} tiene utilidad 16.\n",
            "El conjunto {'computadora', 'encendedor', 'libro'} tiene utilidad 17.\n",
            "El conjunto {'asador', 'computadora', 'libro'} tiene utilidad 15.\n",
            "El conjunto {'lata', 'baterías', 'bolsa de dormir'} tiene utilidad 31.\n",
            "El conjunto {'lata', 'mapa', 'baterías'} tiene utilidad 17.\n",
            "El conjunto {'lata', 'baterías', 'celular'} tiene utilidad 18.\n",
            "El conjunto {'lata', 'encendedor', 'baterías'} tiene utilidad 19.\n",
            "El conjunto {'lata', 'asador', 'baterías'} tiene utilidad 17.\n",
            "El conjunto {'lata', 'computadora', 'baterías'} tiene utilidad 18.\n",
            "El conjunto {'mapa', 'baterías', 'bolsa de dormir'} tiene utilidad 30.\n",
            "El conjunto {'celular', 'baterías', 'bolsa de dormir'} tiene utilidad 31.\n",
            "El conjunto {'encendedor', 'baterías', 'bolsa de dormir'} tiene utilidad 32.\n",
            "El conjunto {'asador', 'baterías', 'bolsa de dormir'} tiene utilidad 30.\n",
            "El conjunto {'computadora', 'baterías', 'bolsa de dormir'} tiene utilidad 31.\n",
            "El conjunto {'mapa', 'baterías', 'celular'} tiene utilidad 17.\n",
            "El conjunto {'mapa', 'encendedor', 'baterías'} tiene utilidad 18.\n",
            "El conjunto {'mapa', 'asador', 'baterías'} tiene utilidad 16.\n",
            "El conjunto {'mapa', 'computadora', 'baterías'} tiene utilidad 17.\n",
            "El conjunto {'encendedor', 'baterías', 'celular'} tiene utilidad 19.\n",
            "El conjunto {'asador', 'baterías', 'celular'} tiene utilidad 17.\n",
            "El conjunto {'computadora', 'baterías', 'celular'} tiene utilidad 18.\n",
            "El conjunto {'asador', 'encendedor', 'baterías'} tiene utilidad 18.\n",
            "El conjunto {'computadora', 'encendedor', 'baterías'} tiene utilidad 19.\n",
            "El conjunto {'asador', 'computadora', 'baterías'} tiene utilidad 17.\n",
            "El conjunto {'mapa', 'lata', 'bolsa de dormir'} tiene utilidad 33.\n",
            "El conjunto {'celular', 'lata', 'bolsa de dormir'} tiene utilidad 34.\n",
            "El conjunto {'encendedor', 'lata', 'bolsa de dormir'} tiene utilidad 35.\n",
            "El conjunto {'asador', 'lata', 'bolsa de dormir'} tiene utilidad 33.\n",
            "El conjunto {'computadora', 'lata', 'bolsa de dormir'} tiene utilidad 34.\n",
            "El conjunto {'mapa', 'lata', 'celular'} tiene utilidad 20.\n",
            "El conjunto {'mapa', 'encendedor', 'lata'} tiene utilidad 21.\n",
            "El conjunto {'mapa', 'asador', 'lata'} tiene utilidad 19.\n",
            "El conjunto {'mapa', 'computadora', 'lata'} tiene utilidad 20.\n",
            "El conjunto {'encendedor', 'lata', 'celular'} tiene utilidad 22.\n",
            "El conjunto {'asador', 'lata', 'celular'} tiene utilidad 20.\n",
            "El conjunto {'computadora', 'lata', 'celular'} tiene utilidad 21.\n",
            "El conjunto {'asador', 'encendedor', 'lata'} tiene utilidad 21.\n",
            "El conjunto {'computadora', 'encendedor', 'lata'} tiene utilidad 22.\n",
            "El conjunto {'asador', 'computadora', 'lata'} tiene utilidad 20.\n",
            "El conjunto {'mapa', 'celular', 'bolsa de dormir'} tiene utilidad 33.\n",
            "El conjunto {'mapa', 'encendedor', 'bolsa de dormir'} tiene utilidad 34.\n",
            "El conjunto {'mapa', 'asador', 'bolsa de dormir'} tiene utilidad 32.\n",
            "El conjunto {'mapa', 'computadora', 'bolsa de dormir'} tiene utilidad 33.\n",
            "El conjunto {'celular', 'encendedor', 'bolsa de dormir'} tiene utilidad 35.\n",
            "El conjunto {'celular', 'asador', 'bolsa de dormir'} tiene utilidad 33.\n",
            "El conjunto {'celular', 'computadora', 'bolsa de dormir'} tiene utilidad 34.\n",
            "El conjunto {'asador', 'encendedor', 'bolsa de dormir'} tiene utilidad 34.\n",
            "El conjunto {'computadora', 'encendedor', 'bolsa de dormir'} tiene utilidad 35.\n",
            "El conjunto {'asador', 'computadora', 'bolsa de dormir'} tiene utilidad 33.\n",
            "El conjunto {'mapa', 'encendedor', 'celular'} tiene utilidad 21.\n",
            "El conjunto {'mapa', 'asador', 'celular'} tiene utilidad 19.\n",
            "El conjunto {'mapa', 'computadora', 'celular'} tiene utilidad 20.\n",
            "El conjunto {'mapa', 'asador', 'encendedor'} tiene utilidad 20.\n",
            "El conjunto {'mapa', 'computadora', 'encendedor'} tiene utilidad 21.\n",
            "El conjunto {'mapa', 'asador', 'computadora'} tiene utilidad 19.\n",
            "El conjunto {'asador', 'encendedor', 'celular'} tiene utilidad 21.\n",
            "El conjunto {'computadora', 'encendedor', 'celular'} tiene utilidad 22.\n",
            "El conjunto {'asador', 'computadora', 'celular'} tiene utilidad 20.\n",
            "El conjunto {'asador', 'computadora', 'encendedor'} tiene utilidad 21.\n",
            "El conjunto {'lata', 'linterna', 'baterías', 'libro'} tiene utilidad 23.\n",
            "El conjunto {'linterna', 'bolsa de dormir', 'baterías', 'libro'} tiene utilidad 36.\n",
            "El conjunto {'mapa', 'linterna', 'baterías', 'libro'} tiene utilidad 22.\n",
            "El conjunto {'celular', 'linterna', 'baterías', 'libro'} tiene utilidad 23.\n",
            "El conjunto {'linterna', 'encendedor', 'baterías', 'libro'} tiene utilidad 24.\n",
            "El conjunto {'linterna', 'asador', 'baterías', 'libro'} tiene utilidad 22.\n",
            "El conjunto {'linterna', 'computadora', 'baterías', 'libro'} tiene utilidad 23.\n",
            "El conjunto {'linterna', 'bolsa de dormir', 'lata', 'libro'} tiene utilidad 39.\n",
            "El conjunto {'mapa', 'linterna', 'lata', 'libro'} tiene utilidad 25.\n",
            "El conjunto {'celular', 'linterna', 'lata', 'libro'} tiene utilidad 26.\n",
            "El conjunto {'linterna', 'encendedor', 'lata', 'libro'} tiene utilidad 27.\n",
            "El conjunto {'linterna', 'asador', 'lata', 'libro'} tiene utilidad 25.\n",
            "El conjunto {'linterna', 'computadora', 'lata', 'libro'} tiene utilidad 26.\n",
            "El conjunto {'mapa', 'linterna', 'bolsa de dormir', 'libro'} tiene utilidad 38.\n",
            "El conjunto {'celular', 'linterna', 'bolsa de dormir', 'libro'} tiene utilidad 39.\n",
            "El conjunto {'linterna', 'bolsa de dormir', 'encendedor', 'libro'} tiene utilidad 40.\n",
            "El conjunto {'linterna', 'bolsa de dormir', 'asador', 'libro'} tiene utilidad 38.\n",
            "El conjunto {'linterna', 'bolsa de dormir', 'computadora', 'libro'} tiene utilidad 39.\n",
            "El conjunto {'mapa', 'linterna', 'celular', 'libro'} tiene utilidad 25.\n",
            "El conjunto {'mapa', 'linterna', 'encendedor', 'libro'} tiene utilidad 26.\n",
            "El conjunto {'mapa', 'linterna', 'asador', 'libro'} tiene utilidad 24.\n",
            "El conjunto {'mapa', 'linterna', 'computadora', 'libro'} tiene utilidad 25.\n",
            "El conjunto {'celular', 'linterna', 'encendedor', 'libro'} tiene utilidad 27.\n",
            "El conjunto {'celular', 'linterna', 'asador', 'libro'} tiene utilidad 25.\n",
            "El conjunto {'celular', 'linterna', 'computadora', 'libro'} tiene utilidad 26.\n",
            "El conjunto {'linterna', 'asador', 'encendedor', 'libro'} tiene utilidad 26.\n",
            "El conjunto {'linterna', 'computadora', 'encendedor', 'libro'} tiene utilidad 27.\n",
            "El conjunto {'linterna', 'asador', 'computadora', 'libro'} tiene utilidad 25.\n",
            "El conjunto {'lata', 'linterna', 'baterías', 'bolsa de dormir'} tiene utilidad 41.\n",
            "El conjunto {'lata', 'linterna', 'mapa', 'baterías'} tiene utilidad 27.\n",
            "El conjunto {'lata', 'linterna', 'baterías', 'celular'} tiene utilidad 28.\n",
            "El conjunto {'lata', 'linterna', 'encendedor', 'baterías'} tiene utilidad 29.\n",
            "El conjunto {'lata', 'linterna', 'asador', 'baterías'} tiene utilidad 27.\n",
            "El conjunto {'lata', 'linterna', 'computadora', 'baterías'} tiene utilidad 28.\n",
            "El conjunto {'mapa', 'linterna', 'baterías', 'bolsa de dormir'} tiene utilidad 40.\n",
            "El conjunto {'celular', 'linterna', 'baterías', 'bolsa de dormir'} tiene utilidad 41.\n",
            "El conjunto {'linterna', 'encendedor', 'baterías', 'bolsa de dormir'} tiene utilidad 42.\n",
            "El conjunto {'linterna', 'asador', 'baterías', 'bolsa de dormir'} tiene utilidad 40.\n",
            "El conjunto {'linterna', 'computadora', 'baterías', 'bolsa de dormir'} tiene utilidad 41.\n",
            "El conjunto {'mapa', 'linterna', 'baterías', 'celular'} tiene utilidad 27.\n",
            "El conjunto {'mapa', 'linterna', 'encendedor', 'baterías'} tiene utilidad 28.\n",
            "El conjunto {'mapa', 'linterna', 'asador', 'baterías'} tiene utilidad 26.\n",
            "El conjunto {'mapa', 'linterna', 'computadora', 'baterías'} tiene utilidad 27.\n",
            "El conjunto {'linterna', 'encendedor', 'baterías', 'celular'} tiene utilidad 29.\n",
            "El conjunto {'linterna', 'asador', 'baterías', 'celular'} tiene utilidad 27.\n",
            "El conjunto {'linterna', 'computadora', 'baterías', 'celular'} tiene utilidad 28.\n",
            "El conjunto {'linterna', 'asador', 'encendedor', 'baterías'} tiene utilidad 28.\n",
            "El conjunto {'linterna', 'computadora', 'encendedor', 'baterías'} tiene utilidad 29.\n",
            "El conjunto {'linterna', 'asador', 'computadora', 'baterías'} tiene utilidad 27.\n",
            "El conjunto {'mapa', 'linterna', 'lata', 'bolsa de dormir'} tiene utilidad 43.\n",
            "El conjunto {'celular', 'linterna', 'lata', 'bolsa de dormir'} tiene utilidad 44.\n",
            "El conjunto {'linterna', 'encendedor', 'lata', 'bolsa de dormir'} tiene utilidad 45.\n",
            "El conjunto {'linterna', 'asador', 'lata', 'bolsa de dormir'} tiene utilidad 43.\n",
            "El conjunto {'linterna', 'computadora', 'lata', 'bolsa de dormir'} tiene utilidad 44.\n",
            "El conjunto {'mapa', 'linterna', 'lata', 'celular'} tiene utilidad 30.\n",
            "El conjunto {'mapa', 'linterna', 'encendedor', 'lata'} tiene utilidad 31.\n",
            "El conjunto {'mapa', 'linterna', 'asador', 'lata'} tiene utilidad 29.\n",
            "El conjunto {'mapa', 'linterna', 'computadora', 'lata'} tiene utilidad 30.\n",
            "El conjunto {'linterna', 'encendedor', 'lata', 'celular'} tiene utilidad 32.\n",
            "El conjunto {'linterna', 'asador', 'lata', 'celular'} tiene utilidad 30.\n",
            "El conjunto {'linterna', 'computadora', 'lata', 'celular'} tiene utilidad 31.\n",
            "El conjunto {'linterna', 'asador', 'encendedor', 'lata'} tiene utilidad 31.\n",
            "El conjunto {'linterna', 'computadora', 'encendedor', 'lata'} tiene utilidad 32.\n",
            "El conjunto {'linterna', 'asador', 'computadora', 'lata'} tiene utilidad 30.\n",
            "El conjunto {'mapa', 'linterna', 'celular', 'bolsa de dormir'} tiene utilidad 43.\n",
            "El conjunto {'mapa', 'linterna', 'encendedor', 'bolsa de dormir'} tiene utilidad 44.\n",
            "El conjunto {'mapa', 'linterna', 'asador', 'bolsa de dormir'} tiene utilidad 42.\n",
            "El conjunto {'mapa', 'linterna', 'computadora', 'bolsa de dormir'} tiene utilidad 43.\n",
            "El conjunto {'celular', 'linterna', 'encendedor', 'bolsa de dormir'} tiene utilidad 45.\n",
            "El conjunto {'celular', 'linterna', 'asador', 'bolsa de dormir'} tiene utilidad 43.\n",
            "El conjunto {'celular', 'linterna', 'computadora', 'bolsa de dormir'} tiene utilidad 44.\n",
            "El conjunto {'linterna', 'asador', 'encendedor', 'bolsa de dormir'} tiene utilidad 44.\n",
            "El conjunto {'linterna', 'computadora', 'encendedor', 'bolsa de dormir'} tiene utilidad 45.\n",
            "El conjunto {'linterna', 'asador', 'computadora', 'bolsa de dormir'} tiene utilidad 43.\n",
            "El conjunto {'mapa', 'linterna', 'encendedor', 'celular'} tiene utilidad 31.\n",
            "El conjunto {'mapa', 'linterna', 'asador', 'celular'} tiene utilidad 29.\n",
            "El conjunto {'mapa', 'linterna', 'computadora', 'celular'} tiene utilidad 30.\n",
            "El conjunto {'mapa', 'linterna', 'asador', 'encendedor'} tiene utilidad 30.\n",
            "El conjunto {'mapa', 'linterna', 'computadora', 'encendedor'} tiene utilidad 31.\n",
            "El conjunto {'mapa', 'linterna', 'asador', 'computadora'} tiene utilidad 29.\n",
            "El conjunto {'linterna', 'asador', 'encendedor', 'celular'} tiene utilidad 31.\n",
            "El conjunto {'linterna', 'computadora', 'encendedor', 'celular'} tiene utilidad 32.\n",
            "El conjunto {'linterna', 'asador', 'computadora', 'celular'} tiene utilidad 30.\n",
            "El conjunto {'linterna', 'asador', 'computadora', 'encendedor'} tiene utilidad 31.\n",
            "El conjunto {'lata', 'bolsa de dormir', 'baterías', 'libro'} tiene utilidad 33.\n",
            "El conjunto {'lata', 'mapa', 'baterías', 'libro'} tiene utilidad 19.\n",
            "El conjunto {'lata', 'celular', 'baterías', 'libro'} tiene utilidad 20.\n",
            "El conjunto {'lata', 'encendedor', 'baterías', 'libro'} tiene utilidad 21.\n",
            "El conjunto {'lata', 'asador', 'baterías', 'libro'} tiene utilidad 19.\n",
            "El conjunto {'lata', 'computadora', 'baterías', 'libro'} tiene utilidad 20.\n",
            "El conjunto {'mapa', 'bolsa de dormir', 'baterías', 'libro'} tiene utilidad 32.\n",
            "El conjunto {'celular', 'bolsa de dormir', 'baterías', 'libro'} tiene utilidad 33.\n",
            "El conjunto {'bolsa de dormir', 'encendedor', 'baterías', 'libro'} tiene utilidad 34.\n",
            "El conjunto {'bolsa de dormir', 'asador', 'baterías', 'libro'} tiene utilidad 32.\n",
            "El conjunto {'bolsa de dormir', 'computadora', 'baterías', 'libro'} tiene utilidad 33.\n",
            "El conjunto {'mapa', 'celular', 'baterías', 'libro'} tiene utilidad 19.\n",
            "El conjunto {'mapa', 'encendedor', 'baterías', 'libro'} tiene utilidad 20.\n",
            "El conjunto {'mapa', 'asador', 'baterías', 'libro'} tiene utilidad 18.\n",
            "El conjunto {'mapa', 'computadora', 'baterías', 'libro'} tiene utilidad 19.\n",
            "El conjunto {'celular', 'encendedor', 'baterías', 'libro'} tiene utilidad 21.\n",
            "El conjunto {'celular', 'asador', 'baterías', 'libro'} tiene utilidad 19.\n",
            "El conjunto {'celular', 'computadora', 'baterías', 'libro'} tiene utilidad 20.\n",
            "El conjunto {'asador', 'encendedor', 'baterías', 'libro'} tiene utilidad 20.\n",
            "El conjunto {'computadora', 'encendedor', 'baterías', 'libro'} tiene utilidad 21.\n",
            "El conjunto {'asador', 'computadora', 'baterías', 'libro'} tiene utilidad 19.\n",
            "El conjunto {'mapa', 'bolsa de dormir', 'lata', 'libro'} tiene utilidad 35.\n",
            "El conjunto {'celular', 'bolsa de dormir', 'lata', 'libro'} tiene utilidad 36.\n",
            "El conjunto {'bolsa de dormir', 'encendedor', 'lata', 'libro'} tiene utilidad 37.\n",
            "El conjunto {'bolsa de dormir', 'asador', 'lata', 'libro'} tiene utilidad 35.\n",
            "El conjunto {'bolsa de dormir', 'computadora', 'lata', 'libro'} tiene utilidad 36.\n",
            "El conjunto {'mapa', 'celular', 'lata', 'libro'} tiene utilidad 22.\n",
            "El conjunto {'mapa', 'encendedor', 'lata', 'libro'} tiene utilidad 23.\n",
            "El conjunto {'mapa', 'asador', 'lata', 'libro'} tiene utilidad 21.\n",
            "El conjunto {'mapa', 'computadora', 'lata', 'libro'} tiene utilidad 22.\n",
            "El conjunto {'celular', 'encendedor', 'lata', 'libro'} tiene utilidad 24.\n",
            "El conjunto {'celular', 'asador', 'lata', 'libro'} tiene utilidad 22.\n",
            "El conjunto {'celular', 'computadora', 'lata', 'libro'} tiene utilidad 23.\n",
            "El conjunto {'asador', 'encendedor', 'lata', 'libro'} tiene utilidad 23.\n",
            "El conjunto {'computadora', 'encendedor', 'lata', 'libro'} tiene utilidad 24.\n",
            "El conjunto {'asador', 'computadora', 'lata', 'libro'} tiene utilidad 22.\n",
            "El conjunto {'mapa', 'bolsa de dormir', 'celular', 'libro'} tiene utilidad 35.\n",
            "El conjunto {'mapa', 'bolsa de dormir', 'encendedor', 'libro'} tiene utilidad 36.\n",
            "El conjunto {'mapa', 'bolsa de dormir', 'asador', 'libro'} tiene utilidad 34.\n",
            "El conjunto {'mapa', 'bolsa de dormir', 'computadora', 'libro'} tiene utilidad 35.\n",
            "El conjunto {'celular', 'bolsa de dormir', 'encendedor', 'libro'} tiene utilidad 37.\n",
            "El conjunto {'celular', 'bolsa de dormir', 'asador', 'libro'} tiene utilidad 35.\n",
            "El conjunto {'celular', 'bolsa de dormir', 'computadora', 'libro'} tiene utilidad 36.\n",
            "El conjunto {'bolsa de dormir', 'asador', 'encendedor', 'libro'} tiene utilidad 36.\n",
            "El conjunto {'bolsa de dormir', 'computadora', 'encendedor', 'libro'} tiene utilidad 37.\n",
            "El conjunto {'bolsa de dormir', 'asador', 'computadora', 'libro'} tiene utilidad 35.\n",
            "El conjunto {'mapa', 'encendedor', 'celular', 'libro'} tiene utilidad 23.\n",
            "El conjunto {'mapa', 'asador', 'celular', 'libro'} tiene utilidad 21.\n",
            "El conjunto {'mapa', 'computadora', 'celular', 'libro'} tiene utilidad 22.\n",
            "El conjunto {'mapa', 'asador', 'encendedor', 'libro'} tiene utilidad 22.\n",
            "El conjunto {'mapa', 'computadora', 'encendedor', 'libro'} tiene utilidad 23.\n",
            "El conjunto {'mapa', 'asador', 'computadora', 'libro'} tiene utilidad 21.\n",
            "El conjunto {'celular', 'asador', 'encendedor', 'libro'} tiene utilidad 23.\n",
            "El conjunto {'celular', 'computadora', 'encendedor', 'libro'} tiene utilidad 24.\n",
            "El conjunto {'celular', 'asador', 'computadora', 'libro'} tiene utilidad 22.\n",
            "El conjunto {'asador', 'computadora', 'encendedor', 'libro'} tiene utilidad 23.\n",
            "El conjunto {'lata', 'mapa', 'baterías', 'bolsa de dormir'} tiene utilidad 37.\n",
            "El conjunto {'lata', 'celular', 'baterías', 'bolsa de dormir'} tiene utilidad 38.\n",
            "El conjunto {'lata', 'encendedor', 'baterías', 'bolsa de dormir'} tiene utilidad 39.\n",
            "El conjunto {'lata', 'asador', 'baterías', 'bolsa de dormir'} tiene utilidad 37.\n",
            "El conjunto {'lata', 'computadora', 'baterías', 'bolsa de dormir'} tiene utilidad 38.\n",
            "El conjunto {'lata', 'mapa', 'baterías', 'celular'} tiene utilidad 24.\n",
            "El conjunto {'lata', 'mapa', 'encendedor', 'baterías'} tiene utilidad 25.\n",
            "El conjunto {'lata', 'mapa', 'asador', 'baterías'} tiene utilidad 23.\n",
            "El conjunto {'lata', 'mapa', 'computadora', 'baterías'} tiene utilidad 24.\n",
            "El conjunto {'lata', 'encendedor', 'baterías', 'celular'} tiene utilidad 26.\n",
            "El conjunto {'lata', 'asador', 'baterías', 'celular'} tiene utilidad 24.\n",
            "El conjunto {'lata', 'computadora', 'baterías', 'celular'} tiene utilidad 25.\n",
            "El conjunto {'lata', 'asador', 'encendedor', 'baterías'} tiene utilidad 25.\n",
            "El conjunto {'lata', 'computadora', 'encendedor', 'baterías'} tiene utilidad 26.\n",
            "El conjunto {'lata', 'asador', 'computadora', 'baterías'} tiene utilidad 24.\n",
            "El conjunto {'mapa', 'celular', 'baterías', 'bolsa de dormir'} tiene utilidad 37.\n",
            "El conjunto {'mapa', 'encendedor', 'baterías', 'bolsa de dormir'} tiene utilidad 38.\n",
            "El conjunto {'mapa', 'asador', 'baterías', 'bolsa de dormir'} tiene utilidad 36.\n",
            "El conjunto {'mapa', 'computadora', 'baterías', 'bolsa de dormir'} tiene utilidad 37.\n",
            "El conjunto {'celular', 'encendedor', 'baterías', 'bolsa de dormir'} tiene utilidad 39.\n",
            "El conjunto {'celular', 'asador', 'baterías', 'bolsa de dormir'} tiene utilidad 37.\n",
            "El conjunto {'celular', 'computadora', 'baterías', 'bolsa de dormir'} tiene utilidad 38.\n",
            "El conjunto {'asador', 'encendedor', 'baterías', 'bolsa de dormir'} tiene utilidad 38.\n",
            "El conjunto {'computadora', 'encendedor', 'baterías', 'bolsa de dormir'} tiene utilidad 39.\n",
            "El conjunto {'asador', 'computadora', 'baterías', 'bolsa de dormir'} tiene utilidad 37.\n",
            "El conjunto {'mapa', 'encendedor', 'baterías', 'celular'} tiene utilidad 25.\n",
            "El conjunto {'mapa', 'asador', 'baterías', 'celular'} tiene utilidad 23.\n",
            "El conjunto {'mapa', 'computadora', 'baterías', 'celular'} tiene utilidad 24.\n",
            "El conjunto {'mapa', 'asador', 'encendedor', 'baterías'} tiene utilidad 24.\n",
            "El conjunto {'mapa', 'computadora', 'encendedor', 'baterías'} tiene utilidad 25.\n",
            "El conjunto {'mapa', 'asador', 'computadora', 'baterías'} tiene utilidad 23.\n",
            "El conjunto {'asador', 'encendedor', 'baterías', 'celular'} tiene utilidad 25.\n",
            "El conjunto {'computadora', 'encendedor', 'baterías', 'celular'} tiene utilidad 26.\n",
            "El conjunto {'asador', 'computadora', 'baterías', 'celular'} tiene utilidad 24.\n",
            "El conjunto {'asador', 'computadora', 'encendedor', 'baterías'} tiene utilidad 25.\n",
            "El conjunto {'mapa', 'celular', 'lata', 'bolsa de dormir'} tiene utilidad 40.\n",
            "El conjunto {'mapa', 'encendedor', 'lata', 'bolsa de dormir'} tiene utilidad 41.\n",
            "El conjunto {'mapa', 'asador', 'lata', 'bolsa de dormir'} tiene utilidad 39.\n",
            "El conjunto {'mapa', 'computadora', 'lata', 'bolsa de dormir'} tiene utilidad 40.\n",
            "El conjunto {'celular', 'encendedor', 'lata', 'bolsa de dormir'} tiene utilidad 42.\n",
            "El conjunto {'celular', 'asador', 'lata', 'bolsa de dormir'} tiene utilidad 40.\n",
            "El conjunto {'celular', 'computadora', 'lata', 'bolsa de dormir'} tiene utilidad 41.\n",
            "El conjunto {'asador', 'encendedor', 'lata', 'bolsa de dormir'} tiene utilidad 41.\n",
            "El conjunto {'computadora', 'encendedor', 'lata', 'bolsa de dormir'} tiene utilidad 42.\n",
            "El conjunto {'asador', 'computadora', 'lata', 'bolsa de dormir'} tiene utilidad 40.\n",
            "El conjunto {'mapa', 'encendedor', 'lata', 'celular'} tiene utilidad 28.\n",
            "El conjunto {'mapa', 'asador', 'lata', 'celular'} tiene utilidad 26.\n",
            "El conjunto {'mapa', 'computadora', 'lata', 'celular'} tiene utilidad 27.\n",
            "El conjunto {'mapa', 'asador', 'encendedor', 'lata'} tiene utilidad 27.\n",
            "El conjunto {'mapa', 'computadora', 'encendedor', 'lata'} tiene utilidad 28.\n",
            "El conjunto {'mapa', 'asador', 'computadora', 'lata'} tiene utilidad 26.\n",
            "El conjunto {'asador', 'encendedor', 'lata', 'celular'} tiene utilidad 28.\n",
            "El conjunto {'computadora', 'encendedor', 'lata', 'celular'} tiene utilidad 29.\n",
            "El conjunto {'asador', 'computadora', 'lata', 'celular'} tiene utilidad 27.\n",
            "El conjunto {'asador', 'computadora', 'encendedor', 'lata'} tiene utilidad 28.\n",
            "El conjunto {'mapa', 'encendedor', 'celular', 'bolsa de dormir'} tiene utilidad 41.\n",
            "El conjunto {'mapa', 'asador', 'celular', 'bolsa de dormir'} tiene utilidad 39.\n",
            "El conjunto {'mapa', 'computadora', 'celular', 'bolsa de dormir'} tiene utilidad 40.\n",
            "El conjunto {'mapa', 'asador', 'encendedor', 'bolsa de dormir'} tiene utilidad 40.\n",
            "El conjunto {'mapa', 'computadora', 'encendedor', 'bolsa de dormir'} tiene utilidad 41.\n",
            "El conjunto {'mapa', 'asador', 'computadora', 'bolsa de dormir'} tiene utilidad 39.\n",
            "El conjunto {'celular', 'asador', 'encendedor', 'bolsa de dormir'} tiene utilidad 41.\n",
            "El conjunto {'celular', 'computadora', 'encendedor', 'bolsa de dormir'} tiene utilidad 42.\n",
            "El conjunto {'celular', 'asador', 'computadora', 'bolsa de dormir'} tiene utilidad 40.\n",
            "El conjunto {'asador', 'computadora', 'encendedor', 'bolsa de dormir'} tiene utilidad 41.\n",
            "El conjunto {'mapa', 'asador', 'encendedor', 'celular'} tiene utilidad 27.\n",
            "El conjunto {'mapa', 'computadora', 'encendedor', 'celular'} tiene utilidad 28.\n",
            "El conjunto {'mapa', 'asador', 'computadora', 'celular'} tiene utilidad 26.\n",
            "El conjunto {'mapa', 'asador', 'computadora', 'encendedor'} tiene utilidad 27.\n",
            "El conjunto {'asador', 'computadora', 'encendedor', 'celular'} tiene utilidad 28.\n",
            "El conjunto {'lata', 'bolsa de dormir', 'baterías', 'linterna', 'libro'} tiene utilidad 43.\n",
            "El conjunto {'lata', 'baterías', 'mapa', 'linterna', 'libro'} tiene utilidad 29.\n",
            "El conjunto {'lata', 'baterías', 'linterna', 'celular', 'libro'} tiene utilidad 30.\n",
            "El conjunto {'lata', 'baterías', 'linterna', 'libro', 'encendedor'} tiene utilidad 31.\n",
            "El conjunto {'lata', 'baterías', 'linterna', 'libro', 'asador'} tiene utilidad 29.\n",
            "El conjunto {'lata', 'baterías', 'linterna', 'libro', 'computadora'} tiene utilidad 30.\n",
            "El conjunto {'baterías', 'bolsa de dormir', 'mapa', 'linterna', 'libro'} tiene utilidad 42.\n",
            "El conjunto {'baterías', 'bolsa de dormir', 'linterna', 'celular', 'libro'} tiene utilidad 43.\n",
            "El conjunto {'baterías', 'bolsa de dormir', 'linterna', 'libro', 'encendedor'} tiene utilidad 44.\n",
            "El conjunto {'baterías', 'bolsa de dormir', 'linterna', 'libro', 'asador'} tiene utilidad 42.\n",
            "El conjunto {'baterías', 'bolsa de dormir', 'linterna', 'libro', 'computadora'} tiene utilidad 43.\n",
            "El conjunto {'baterías', 'mapa', 'linterna', 'celular', 'libro'} tiene utilidad 29.\n",
            "El conjunto {'baterías', 'mapa', 'linterna', 'libro', 'encendedor'} tiene utilidad 30.\n",
            "El conjunto {'baterías', 'mapa', 'linterna', 'libro', 'asador'} tiene utilidad 28.\n",
            "El conjunto {'baterías', 'mapa', 'linterna', 'libro', 'computadora'} tiene utilidad 29.\n",
            "El conjunto {'baterías', 'linterna', 'celular', 'libro', 'encendedor'} tiene utilidad 31.\n",
            "El conjunto {'baterías', 'linterna', 'celular', 'libro', 'asador'} tiene utilidad 29.\n",
            "El conjunto {'baterías', 'linterna', 'celular', 'libro', 'computadora'} tiene utilidad 30.\n",
            "El conjunto {'baterías', 'linterna', 'libro', 'encendedor', 'asador'} tiene utilidad 30.\n",
            "El conjunto {'baterías', 'linterna', 'libro', 'encendedor', 'computadora'} tiene utilidad 31.\n",
            "El conjunto {'baterías', 'linterna', 'libro', 'asador', 'computadora'} tiene utilidad 29.\n",
            "El conjunto {'lata', 'bolsa de dormir', 'mapa', 'linterna', 'libro'} tiene utilidad 45.\n",
            "El conjunto {'lata', 'bolsa de dormir', 'linterna', 'celular', 'libro'} tiene utilidad 46.\n",
            "El conjunto {'lata', 'bolsa de dormir', 'linterna', 'libro', 'encendedor'} tiene utilidad 47.\n",
            "El conjunto {'lata', 'bolsa de dormir', 'linterna', 'libro', 'asador'} tiene utilidad 45.\n",
            "El conjunto {'lata', 'bolsa de dormir', 'linterna', 'libro', 'computadora'} tiene utilidad 46.\n",
            "El conjunto {'lata', 'mapa', 'linterna', 'celular', 'libro'} tiene utilidad 32.\n",
            "El conjunto {'lata', 'mapa', 'linterna', 'libro', 'encendedor'} tiene utilidad 33.\n",
            "El conjunto {'lata', 'mapa', 'linterna', 'libro', 'asador'} tiene utilidad 31.\n",
            "El conjunto {'lata', 'mapa', 'linterna', 'libro', 'computadora'} tiene utilidad 32.\n",
            "El conjunto {'lata', 'linterna', 'celular', 'libro', 'encendedor'} tiene utilidad 34.\n",
            "El conjunto {'lata', 'linterna', 'celular', 'libro', 'asador'} tiene utilidad 32.\n",
            "El conjunto {'lata', 'linterna', 'celular', 'libro', 'computadora'} tiene utilidad 33.\n",
            "El conjunto {'lata', 'linterna', 'libro', 'encendedor', 'asador'} tiene utilidad 33.\n",
            "El conjunto {'lata', 'linterna', 'libro', 'encendedor', 'computadora'} tiene utilidad 34.\n",
            "El conjunto {'lata', 'linterna', 'libro', 'asador', 'computadora'} tiene utilidad 32.\n",
            "El conjunto {'bolsa de dormir', 'mapa', 'linterna', 'celular', 'libro'} tiene utilidad 45.\n",
            "El conjunto {'bolsa de dormir', 'mapa', 'linterna', 'libro', 'encendedor'} tiene utilidad 46.\n",
            "El conjunto {'bolsa de dormir', 'mapa', 'linterna', 'libro', 'asador'} tiene utilidad 44.\n",
            "El conjunto {'bolsa de dormir', 'mapa', 'linterna', 'libro', 'computadora'} tiene utilidad 45.\n",
            "El conjunto {'bolsa de dormir', 'linterna', 'celular', 'libro', 'encendedor'} tiene utilidad 47.\n",
            "El conjunto {'bolsa de dormir', 'linterna', 'celular', 'libro', 'asador'} tiene utilidad 45.\n",
            "El conjunto {'bolsa de dormir', 'linterna', 'celular', 'libro', 'computadora'} tiene utilidad 46.\n",
            "El conjunto {'bolsa de dormir', 'linterna', 'libro', 'encendedor', 'asador'} tiene utilidad 46.\n",
            "El conjunto {'bolsa de dormir', 'linterna', 'libro', 'encendedor', 'computadora'} tiene utilidad 47.\n",
            "El conjunto {'bolsa de dormir', 'linterna', 'libro', 'asador', 'computadora'} tiene utilidad 45.\n",
            "El conjunto {'mapa', 'linterna', 'celular', 'libro', 'encendedor'} tiene utilidad 33.\n",
            "El conjunto {'mapa', 'linterna', 'celular', 'libro', 'asador'} tiene utilidad 31.\n",
            "El conjunto {'mapa', 'linterna', 'celular', 'libro', 'computadora'} tiene utilidad 32.\n",
            "El conjunto {'mapa', 'linterna', 'libro', 'encendedor', 'asador'} tiene utilidad 32.\n",
            "El conjunto {'mapa', 'linterna', 'libro', 'encendedor', 'computadora'} tiene utilidad 33.\n",
            "El conjunto {'mapa', 'linterna', 'libro', 'asador', 'computadora'} tiene utilidad 31.\n",
            "El conjunto {'linterna', 'celular', 'libro', 'encendedor', 'asador'} tiene utilidad 33.\n",
            "El conjunto {'linterna', 'celular', 'libro', 'encendedor', 'computadora'} tiene utilidad 34.\n",
            "El conjunto {'linterna', 'celular', 'libro', 'asador', 'computadora'} tiene utilidad 32.\n",
            "El conjunto {'linterna', 'libro', 'encendedor', 'asador', 'computadora'} tiene utilidad 33.\n",
            "El conjunto {'lata', 'baterías', 'mapa', 'linterna', 'bolsa de dormir'} tiene utilidad 47.\n",
            "El conjunto {'lata', 'baterías', 'bolsa de dormir', 'linterna', 'celular'} tiene utilidad 48.\n",
            "El conjunto {'lata', 'baterías', 'bolsa de dormir', 'linterna', 'encendedor'} tiene utilidad 49.\n",
            "El conjunto {'lata', 'baterías', 'bolsa de dormir', 'linterna', 'asador'} tiene utilidad 47.\n",
            "El conjunto {'lata', 'baterías', 'bolsa de dormir', 'linterna', 'computadora'} tiene utilidad 48.\n",
            "El conjunto {'lata', 'baterías', 'mapa', 'linterna', 'celular'} tiene utilidad 34.\n",
            "El conjunto {'lata', 'baterías', 'mapa', 'linterna', 'encendedor'} tiene utilidad 35.\n",
            "El conjunto {'lata', 'baterías', 'mapa', 'linterna', 'asador'} tiene utilidad 33.\n",
            "El conjunto {'lata', 'baterías', 'mapa', 'linterna', 'computadora'} tiene utilidad 34.\n",
            "El conjunto {'lata', 'baterías', 'linterna', 'celular', 'encendedor'} tiene utilidad 36.\n",
            "El conjunto {'lata', 'baterías', 'linterna', 'celular', 'asador'} tiene utilidad 34.\n",
            "El conjunto {'lata', 'baterías', 'linterna', 'celular', 'computadora'} tiene utilidad 35.\n",
            "El conjunto {'lata', 'baterías', 'linterna', 'encendedor', 'asador'} tiene utilidad 35.\n",
            "El conjunto {'lata', 'baterías', 'linterna', 'encendedor', 'computadora'} tiene utilidad 36.\n",
            "El conjunto {'lata', 'baterías', 'linterna', 'asador', 'computadora'} tiene utilidad 34.\n",
            "El conjunto {'baterías', 'bolsa de dormir', 'mapa', 'linterna', 'celular'} tiene utilidad 47.\n",
            "El conjunto {'baterías', 'bolsa de dormir', 'mapa', 'linterna', 'encendedor'} tiene utilidad 48.\n",
            "El conjunto {'baterías', 'bolsa de dormir', 'mapa', 'linterna', 'asador'} tiene utilidad 46.\n",
            "El conjunto {'baterías', 'bolsa de dormir', 'mapa', 'linterna', 'computadora'} tiene utilidad 47.\n",
            "El conjunto {'baterías', 'bolsa de dormir', 'linterna', 'celular', 'encendedor'} tiene utilidad 49.\n",
            "El conjunto {'baterías', 'bolsa de dormir', 'linterna', 'celular', 'asador'} tiene utilidad 47.\n",
            "El conjunto {'baterías', 'bolsa de dormir', 'linterna', 'celular', 'computadora'} tiene utilidad 48.\n",
            "El conjunto {'baterías', 'bolsa de dormir', 'linterna', 'encendedor', 'asador'} tiene utilidad 48.\n",
            "El conjunto {'baterías', 'bolsa de dormir', 'linterna', 'encendedor', 'computadora'} tiene utilidad 49.\n",
            "El conjunto {'baterías', 'bolsa de dormir', 'linterna', 'asador', 'computadora'} tiene utilidad 47.\n",
            "El conjunto {'baterías', 'mapa', 'linterna', 'celular', 'encendedor'} tiene utilidad 35.\n",
            "El conjunto {'baterías', 'mapa', 'linterna', 'celular', 'asador'} tiene utilidad 33.\n",
            "El conjunto {'baterías', 'mapa', 'linterna', 'celular', 'computadora'} tiene utilidad 34.\n",
            "El conjunto {'baterías', 'mapa', 'linterna', 'encendedor', 'asador'} tiene utilidad 34.\n",
            "El conjunto {'baterías', 'mapa', 'linterna', 'encendedor', 'computadora'} tiene utilidad 35.\n",
            "El conjunto {'baterías', 'mapa', 'linterna', 'asador', 'computadora'} tiene utilidad 33.\n",
            "El conjunto {'baterías', 'linterna', 'celular', 'encendedor', 'asador'} tiene utilidad 35.\n",
            "El conjunto {'baterías', 'linterna', 'celular', 'encendedor', 'computadora'} tiene utilidad 36.\n",
            "El conjunto {'baterías', 'linterna', 'celular', 'asador', 'computadora'} tiene utilidad 34.\n",
            "El conjunto {'baterías', 'linterna', 'encendedor', 'asador', 'computadora'} tiene utilidad 35.\n",
            "El conjunto {'lata', 'bolsa de dormir', 'mapa', 'linterna', 'celular'} tiene utilidad 50.\n",
            "El conjunto {'lata', 'bolsa de dormir', 'mapa', 'linterna', 'encendedor'} tiene utilidad 51.\n",
            "El conjunto {'lata', 'bolsa de dormir', 'mapa', 'linterna', 'asador'} tiene utilidad 49.\n",
            "El conjunto {'lata', 'bolsa de dormir', 'mapa', 'linterna', 'computadora'} tiene utilidad 50.\n",
            "El conjunto {'lata', 'bolsa de dormir', 'linterna', 'celular', 'encendedor'} tiene utilidad 52.\n",
            "El conjunto {'lata', 'bolsa de dormir', 'linterna', 'celular', 'asador'} tiene utilidad 50.\n",
            "El conjunto {'lata', 'bolsa de dormir', 'linterna', 'celular', 'computadora'} tiene utilidad 51.\n",
            "El conjunto {'lata', 'bolsa de dormir', 'linterna', 'encendedor', 'asador'} tiene utilidad 51.\n",
            "El conjunto {'lata', 'bolsa de dormir', 'linterna', 'encendedor', 'computadora'} tiene utilidad 52.\n",
            "El conjunto {'lata', 'bolsa de dormir', 'linterna', 'asador', 'computadora'} tiene utilidad 50.\n",
            "El conjunto {'lata', 'mapa', 'linterna', 'celular', 'encendedor'} tiene utilidad 38.\n",
            "El conjunto {'lata', 'mapa', 'linterna', 'celular', 'asador'} tiene utilidad 36.\n",
            "El conjunto {'lata', 'mapa', 'linterna', 'celular', 'computadora'} tiene utilidad 37.\n",
            "El conjunto {'lata', 'mapa', 'linterna', 'encendedor', 'asador'} tiene utilidad 37.\n",
            "El conjunto {'lata', 'mapa', 'linterna', 'encendedor', 'computadora'} tiene utilidad 38.\n",
            "El conjunto {'lata', 'mapa', 'linterna', 'asador', 'computadora'} tiene utilidad 36.\n",
            "El conjunto {'lata', 'linterna', 'celular', 'encendedor', 'asador'} tiene utilidad 38.\n",
            "El conjunto {'lata', 'linterna', 'celular', 'encendedor', 'computadora'} tiene utilidad 39.\n",
            "El conjunto {'lata', 'linterna', 'celular', 'asador', 'computadora'} tiene utilidad 37.\n",
            "El conjunto {'lata', 'linterna', 'encendedor', 'asador', 'computadora'} tiene utilidad 38.\n",
            "El conjunto {'bolsa de dormir', 'mapa', 'linterna', 'celular', 'encendedor'} tiene utilidad 51.\n",
            "El conjunto {'bolsa de dormir', 'mapa', 'linterna', 'celular', 'asador'} tiene utilidad 49.\n",
            "El conjunto {'bolsa de dormir', 'mapa', 'linterna', 'celular', 'computadora'} tiene utilidad 50.\n",
            "El conjunto {'bolsa de dormir', 'mapa', 'linterna', 'encendedor', 'asador'} tiene utilidad 50.\n",
            "El conjunto {'bolsa de dormir', 'mapa', 'linterna', 'encendedor', 'computadora'} tiene utilidad 51.\n",
            "El conjunto {'bolsa de dormir', 'mapa', 'linterna', 'asador', 'computadora'} tiene utilidad 49.\n",
            "El conjunto {'bolsa de dormir', 'linterna', 'celular', 'encendedor', 'asador'} tiene utilidad 51.\n",
            "El conjunto {'bolsa de dormir', 'linterna', 'celular', 'encendedor', 'computadora'} tiene utilidad 52.\n",
            "El conjunto {'bolsa de dormir', 'linterna', 'celular', 'asador', 'computadora'} tiene utilidad 50.\n",
            "El conjunto {'bolsa de dormir', 'linterna', 'encendedor', 'asador', 'computadora'} tiene utilidad 51.\n",
            "El conjunto {'mapa', 'linterna', 'celular', 'encendedor', 'asador'} tiene utilidad 37.\n",
            "El conjunto {'mapa', 'linterna', 'celular', 'encendedor', 'computadora'} tiene utilidad 38.\n",
            "El conjunto {'mapa', 'linterna', 'celular', 'asador', 'computadora'} tiene utilidad 36.\n",
            "El conjunto {'mapa', 'linterna', 'encendedor', 'asador', 'computadora'} tiene utilidad 37.\n",
            "El conjunto {'linterna', 'celular', 'encendedor', 'asador', 'computadora'} tiene utilidad 38.\n",
            "El conjunto {'lata', 'bolsa de dormir', 'mapa', 'baterías', 'libro'} tiene utilidad 39.\n",
            "El conjunto {'lata', 'bolsa de dormir', 'baterías', 'celular', 'libro'} tiene utilidad 40.\n",
            "El conjunto {'lata', 'bolsa de dormir', 'baterías', 'libro', 'encendedor'} tiene utilidad 41.\n",
            "El conjunto {'lata', 'bolsa de dormir', 'baterías', 'libro', 'asador'} tiene utilidad 39.\n",
            "El conjunto {'lata', 'bolsa de dormir', 'baterías', 'libro', 'computadora'} tiene utilidad 40.\n",
            "El conjunto {'lata', 'baterías', 'mapa', 'celular', 'libro'} tiene utilidad 26.\n",
            "El conjunto {'lata', 'baterías', 'mapa', 'libro', 'encendedor'} tiene utilidad 27.\n",
            "El conjunto {'lata', 'baterías', 'mapa', 'libro', 'asador'} tiene utilidad 25.\n",
            "El conjunto {'lata', 'baterías', 'mapa', 'libro', 'computadora'} tiene utilidad 26.\n",
            "El conjunto {'lata', 'baterías', 'celular', 'libro', 'encendedor'} tiene utilidad 28.\n",
            "El conjunto {'lata', 'baterías', 'celular', 'libro', 'asador'} tiene utilidad 26.\n",
            "El conjunto {'lata', 'baterías', 'celular', 'libro', 'computadora'} tiene utilidad 27.\n",
            "El conjunto {'lata', 'baterías', 'libro', 'encendedor', 'asador'} tiene utilidad 27.\n",
            "El conjunto {'lata', 'baterías', 'libro', 'encendedor', 'computadora'} tiene utilidad 28.\n",
            "El conjunto {'lata', 'baterías', 'libro', 'asador', 'computadora'} tiene utilidad 26.\n",
            "El conjunto {'baterías', 'bolsa de dormir', 'mapa', 'celular', 'libro'} tiene utilidad 39.\n",
            "El conjunto {'baterías', 'bolsa de dormir', 'mapa', 'libro', 'encendedor'} tiene utilidad 40.\n",
            "El conjunto {'baterías', 'bolsa de dormir', 'mapa', 'libro', 'asador'} tiene utilidad 38.\n",
            "El conjunto {'baterías', 'bolsa de dormir', 'mapa', 'libro', 'computadora'} tiene utilidad 39.\n",
            "El conjunto {'baterías', 'bolsa de dormir', 'celular', 'libro', 'encendedor'} tiene utilidad 41.\n",
            "El conjunto {'baterías', 'bolsa de dormir', 'celular', 'libro', 'asador'} tiene utilidad 39.\n",
            "El conjunto {'baterías', 'bolsa de dormir', 'celular', 'libro', 'computadora'} tiene utilidad 40.\n",
            "El conjunto {'baterías', 'bolsa de dormir', 'libro', 'encendedor', 'asador'} tiene utilidad 40.\n",
            "El conjunto {'baterías', 'bolsa de dormir', 'libro', 'encendedor', 'computadora'} tiene utilidad 41.\n",
            "El conjunto {'baterías', 'bolsa de dormir', 'libro', 'asador', 'computadora'} tiene utilidad 39.\n",
            "El conjunto {'baterías', 'mapa', 'celular', 'libro', 'encendedor'} tiene utilidad 27.\n",
            "El conjunto {'baterías', 'mapa', 'celular', 'libro', 'asador'} tiene utilidad 25.\n",
            "El conjunto {'baterías', 'mapa', 'celular', 'libro', 'computadora'} tiene utilidad 26.\n",
            "El conjunto {'baterías', 'mapa', 'libro', 'encendedor', 'asador'} tiene utilidad 26.\n",
            "El conjunto {'baterías', 'mapa', 'libro', 'encendedor', 'computadora'} tiene utilidad 27.\n",
            "El conjunto {'baterías', 'mapa', 'libro', 'asador', 'computadora'} tiene utilidad 25.\n",
            "El conjunto {'baterías', 'celular', 'libro', 'encendedor', 'asador'} tiene utilidad 27.\n",
            "El conjunto {'baterías', 'celular', 'libro', 'encendedor', 'computadora'} tiene utilidad 28.\n",
            "El conjunto {'baterías', 'celular', 'libro', 'asador', 'computadora'} tiene utilidad 26.\n",
            "El conjunto {'baterías', 'libro', 'encendedor', 'asador', 'computadora'} tiene utilidad 27.\n",
            "El conjunto {'lata', 'bolsa de dormir', 'mapa', 'celular', 'libro'} tiene utilidad 42.\n",
            "El conjunto {'lata', 'bolsa de dormir', 'mapa', 'libro', 'encendedor'} tiene utilidad 43.\n",
            "El conjunto {'lata', 'bolsa de dormir', 'mapa', 'libro', 'asador'} tiene utilidad 41.\n",
            "El conjunto {'lata', 'bolsa de dormir', 'mapa', 'libro', 'computadora'} tiene utilidad 42.\n",
            "El conjunto {'lata', 'bolsa de dormir', 'celular', 'libro', 'encendedor'} tiene utilidad 44.\n",
            "El conjunto {'lata', 'bolsa de dormir', 'celular', 'libro', 'asador'} tiene utilidad 42.\n",
            "El conjunto {'lata', 'bolsa de dormir', 'celular', 'libro', 'computadora'} tiene utilidad 43.\n",
            "El conjunto {'lata', 'bolsa de dormir', 'libro', 'encendedor', 'asador'} tiene utilidad 43.\n",
            "El conjunto {'lata', 'bolsa de dormir', 'libro', 'encendedor', 'computadora'} tiene utilidad 44.\n",
            "El conjunto {'lata', 'bolsa de dormir', 'libro', 'asador', 'computadora'} tiene utilidad 42.\n",
            "El conjunto {'lata', 'mapa', 'celular', 'libro', 'encendedor'} tiene utilidad 30.\n",
            "El conjunto {'lata', 'mapa', 'celular', 'libro', 'asador'} tiene utilidad 28.\n",
            "El conjunto {'lata', 'mapa', 'celular', 'libro', 'computadora'} tiene utilidad 29.\n",
            "El conjunto {'lata', 'mapa', 'libro', 'encendedor', 'asador'} tiene utilidad 29.\n",
            "El conjunto {'lata', 'mapa', 'libro', 'encendedor', 'computadora'} tiene utilidad 30.\n",
            "El conjunto {'lata', 'mapa', 'libro', 'asador', 'computadora'} tiene utilidad 28.\n",
            "El conjunto {'lata', 'celular', 'libro', 'encendedor', 'asador'} tiene utilidad 30.\n",
            "El conjunto {'lata', 'celular', 'libro', 'encendedor', 'computadora'} tiene utilidad 31.\n",
            "El conjunto {'lata', 'celular', 'libro', 'asador', 'computadora'} tiene utilidad 29.\n",
            "El conjunto {'lata', 'libro', 'encendedor', 'asador', 'computadora'} tiene utilidad 30.\n",
            "El conjunto {'bolsa de dormir', 'mapa', 'celular', 'libro', 'encendedor'} tiene utilidad 43.\n",
            "El conjunto {'bolsa de dormir', 'mapa', 'celular', 'libro', 'asador'} tiene utilidad 41.\n",
            "El conjunto {'bolsa de dormir', 'mapa', 'celular', 'libro', 'computadora'} tiene utilidad 42.\n",
            "El conjunto {'bolsa de dormir', 'mapa', 'libro', 'encendedor', 'asador'} tiene utilidad 42.\n",
            "El conjunto {'bolsa de dormir', 'mapa', 'libro', 'encendedor', 'computadora'} tiene utilidad 43.\n",
            "El conjunto {'bolsa de dormir', 'mapa', 'libro', 'asador', 'computadora'} tiene utilidad 41.\n",
            "El conjunto {'bolsa de dormir', 'celular', 'libro', 'encendedor', 'asador'} tiene utilidad 43.\n",
            "El conjunto {'bolsa de dormir', 'celular', 'libro', 'encendedor', 'computadora'} tiene utilidad 44.\n",
            "El conjunto {'bolsa de dormir', 'celular', 'libro', 'asador', 'computadora'} tiene utilidad 42.\n",
            "El conjunto {'bolsa de dormir', 'libro', 'encendedor', 'asador', 'computadora'} tiene utilidad 43.\n",
            "El conjunto {'mapa', 'celular', 'libro', 'encendedor', 'asador'} tiene utilidad 29.\n",
            "El conjunto {'mapa', 'celular', 'libro', 'encendedor', 'computadora'} tiene utilidad 30.\n",
            "El conjunto {'mapa', 'celular', 'libro', 'asador', 'computadora'} tiene utilidad 28.\n",
            "El conjunto {'mapa', 'libro', 'encendedor', 'asador', 'computadora'} tiene utilidad 29.\n",
            "El conjunto {'celular', 'libro', 'encendedor', 'asador', 'computadora'} tiene utilidad 30.\n",
            "El conjunto {'lata', 'baterías', 'mapa', 'bolsa de dormir', 'celular'} tiene utilidad 44.\n",
            "El conjunto {'lata', 'baterías', 'mapa', 'bolsa de dormir', 'encendedor'} tiene utilidad 45.\n",
            "El conjunto {'lata', 'baterías', 'mapa', 'bolsa de dormir', 'asador'} tiene utilidad 43.\n",
            "El conjunto {'lata', 'baterías', 'mapa', 'bolsa de dormir', 'computadora'} tiene utilidad 44.\n",
            "El conjunto {'lata', 'baterías', 'bolsa de dormir', 'celular', 'encendedor'} tiene utilidad 46.\n",
            "El conjunto {'lata', 'baterías', 'bolsa de dormir', 'celular', 'asador'} tiene utilidad 44.\n",
            "El conjunto {'lata', 'baterías', 'bolsa de dormir', 'celular', 'computadora'} tiene utilidad 45.\n",
            "El conjunto {'lata', 'baterías', 'bolsa de dormir', 'encendedor', 'asador'} tiene utilidad 45.\n",
            "El conjunto {'lata', 'baterías', 'bolsa de dormir', 'encendedor', 'computadora'} tiene utilidad 46.\n",
            "El conjunto {'lata', 'baterías', 'bolsa de dormir', 'asador', 'computadora'} tiene utilidad 44.\n",
            "El conjunto {'lata', 'baterías', 'mapa', 'celular', 'encendedor'} tiene utilidad 32.\n",
            "El conjunto {'lata', 'baterías', 'mapa', 'celular', 'asador'} tiene utilidad 30.\n",
            "El conjunto {'lata', 'baterías', 'mapa', 'celular', 'computadora'} tiene utilidad 31.\n",
            "El conjunto {'lata', 'baterías', 'mapa', 'encendedor', 'asador'} tiene utilidad 31.\n",
            "El conjunto {'lata', 'baterías', 'mapa', 'encendedor', 'computadora'} tiene utilidad 32.\n",
            "El conjunto {'lata', 'baterías', 'mapa', 'asador', 'computadora'} tiene utilidad 30.\n",
            "El conjunto {'lata', 'baterías', 'celular', 'encendedor', 'asador'} tiene utilidad 32.\n",
            "El conjunto {'lata', 'baterías', 'celular', 'encendedor', 'computadora'} tiene utilidad 33.\n",
            "El conjunto {'lata', 'baterías', 'celular', 'asador', 'computadora'} tiene utilidad 31.\n",
            "El conjunto {'lata', 'baterías', 'encendedor', 'asador', 'computadora'} tiene utilidad 32.\n",
            "El conjunto {'baterías', 'bolsa de dormir', 'mapa', 'celular', 'encendedor'} tiene utilidad 45.\n",
            "El conjunto {'baterías', 'bolsa de dormir', 'mapa', 'celular', 'asador'} tiene utilidad 43.\n",
            "El conjunto {'baterías', 'bolsa de dormir', 'mapa', 'celular', 'computadora'} tiene utilidad 44.\n",
            "El conjunto {'baterías', 'bolsa de dormir', 'mapa', 'encendedor', 'asador'} tiene utilidad 44.\n",
            "El conjunto {'baterías', 'bolsa de dormir', 'mapa', 'encendedor', 'computadora'} tiene utilidad 45.\n",
            "El conjunto {'baterías', 'bolsa de dormir', 'mapa', 'asador', 'computadora'} tiene utilidad 43.\n",
            "El conjunto {'baterías', 'bolsa de dormir', 'celular', 'encendedor', 'asador'} tiene utilidad 45.\n",
            "El conjunto {'baterías', 'bolsa de dormir', 'celular', 'encendedor', 'computadora'} tiene utilidad 46.\n",
            "El conjunto {'baterías', 'bolsa de dormir', 'celular', 'asador', 'computadora'} tiene utilidad 44.\n",
            "El conjunto {'baterías', 'bolsa de dormir', 'encendedor', 'asador', 'computadora'} tiene utilidad 45.\n",
            "El conjunto {'baterías', 'mapa', 'celular', 'encendedor', 'asador'} tiene utilidad 31.\n",
            "El conjunto {'baterías', 'mapa', 'celular', 'encendedor', 'computadora'} tiene utilidad 32.\n",
            "El conjunto {'baterías', 'mapa', 'celular', 'asador', 'computadora'} tiene utilidad 30.\n",
            "El conjunto {'baterías', 'mapa', 'encendedor', 'asador', 'computadora'} tiene utilidad 31.\n",
            "El conjunto {'baterías', 'celular', 'encendedor', 'asador', 'computadora'} tiene utilidad 32.\n",
            "El conjunto {'lata', 'bolsa de dormir', 'mapa', 'celular', 'encendedor'} tiene utilidad 48.\n",
            "El conjunto {'lata', 'bolsa de dormir', 'mapa', 'celular', 'asador'} tiene utilidad 46.\n",
            "El conjunto {'lata', 'bolsa de dormir', 'mapa', 'celular', 'computadora'} tiene utilidad 47.\n",
            "El conjunto {'lata', 'bolsa de dormir', 'mapa', 'encendedor', 'asador'} tiene utilidad 47.\n",
            "El conjunto {'lata', 'bolsa de dormir', 'mapa', 'encendedor', 'computadora'} tiene utilidad 48.\n",
            "El conjunto {'lata', 'bolsa de dormir', 'mapa', 'asador', 'computadora'} tiene utilidad 46.\n",
            "El conjunto {'lata', 'bolsa de dormir', 'celular', 'encendedor', 'asador'} tiene utilidad 48.\n",
            "El conjunto {'lata', 'bolsa de dormir', 'celular', 'encendedor', 'computadora'} tiene utilidad 49.\n",
            "El conjunto {'lata', 'bolsa de dormir', 'celular', 'asador', 'computadora'} tiene utilidad 47.\n",
            "El conjunto {'lata', 'bolsa de dormir', 'encendedor', 'asador', 'computadora'} tiene utilidad 48.\n",
            "El conjunto {'lata', 'mapa', 'celular', 'encendedor', 'asador'} tiene utilidad 34.\n",
            "El conjunto {'lata', 'mapa', 'celular', 'encendedor', 'computadora'} tiene utilidad 35.\n",
            "El conjunto {'lata', 'mapa', 'celular', 'asador', 'computadora'} tiene utilidad 33.\n",
            "El conjunto {'lata', 'mapa', 'encendedor', 'asador', 'computadora'} tiene utilidad 34.\n",
            "El conjunto {'lata', 'celular', 'encendedor', 'asador', 'computadora'} tiene utilidad 35.\n",
            "El conjunto {'bolsa de dormir', 'mapa', 'celular', 'encendedor', 'asador'} tiene utilidad 47.\n",
            "El conjunto {'bolsa de dormir', 'mapa', 'celular', 'encendedor', 'computadora'} tiene utilidad 48.\n",
            "El conjunto {'bolsa de dormir', 'mapa', 'celular', 'asador', 'computadora'} tiene utilidad 46.\n",
            "El conjunto {'bolsa de dormir', 'mapa', 'encendedor', 'asador', 'computadora'} tiene utilidad 47.\n",
            "El conjunto {'bolsa de dormir', 'celular', 'encendedor', 'asador', 'computadora'} tiene utilidad 48.\n",
            "El conjunto {'mapa', 'celular', 'encendedor', 'asador', 'computadora'} tiene utilidad 34.\n",
            "El conjunto {'lata', 'bolsa de dormir', 'baterías', 'linterna', 'mapa', 'libro'} tiene utilidad 49.\n",
            "El conjunto {'lata', 'bolsa de dormir', 'baterías', 'linterna', 'libro', 'celular'} tiene utilidad 50.\n",
            "El conjunto {'lata', 'bolsa de dormir', 'baterías', 'linterna', 'libro', 'encendedor'} tiene utilidad 51.\n",
            "El conjunto {'lata', 'bolsa de dormir', 'baterías', 'linterna', 'libro', 'asador'} tiene utilidad 49.\n",
            "El conjunto {'lata', 'bolsa de dormir', 'baterías', 'linterna', 'libro', 'computadora'} tiene utilidad 50.\n",
            "El conjunto {'lata', 'baterías', 'mapa', 'linterna', 'libro', 'celular'} tiene utilidad 36.\n",
            "El conjunto {'lata', 'baterías', 'mapa', 'linterna', 'libro', 'encendedor'} tiene utilidad 37.\n",
            "El conjunto {'lata', 'baterías', 'mapa', 'linterna', 'libro', 'asador'} tiene utilidad 35.\n",
            "El conjunto {'lata', 'baterías', 'mapa', 'linterna', 'libro', 'computadora'} tiene utilidad 36.\n",
            "El conjunto {'lata', 'baterías', 'linterna', 'celular', 'libro', 'encendedor'} tiene utilidad 38.\n",
            "El conjunto {'lata', 'baterías', 'linterna', 'celular', 'libro', 'asador'} tiene utilidad 36.\n",
            "El conjunto {'lata', 'baterías', 'linterna', 'celular', 'libro', 'computadora'} tiene utilidad 37.\n",
            "El conjunto {'lata', 'baterías', 'linterna', 'libro', 'encendedor', 'asador'} tiene utilidad 37.\n",
            "El conjunto {'lata', 'baterías', 'linterna', 'libro', 'encendedor', 'computadora'} tiene utilidad 38.\n",
            "El conjunto {'lata', 'baterías', 'linterna', 'libro', 'asador', 'computadora'} tiene utilidad 36.\n",
            "El conjunto {'baterías', 'bolsa de dormir', 'mapa', 'linterna', 'libro', 'celular'} tiene utilidad 49.\n",
            "El conjunto {'baterías', 'bolsa de dormir', 'mapa', 'linterna', 'libro', 'encendedor'} tiene utilidad 50.\n",
            "El conjunto {'baterías', 'bolsa de dormir', 'mapa', 'linterna', 'libro', 'asador'} tiene utilidad 48.\n",
            "El conjunto {'baterías', 'bolsa de dormir', 'mapa', 'linterna', 'libro', 'computadora'} tiene utilidad 49.\n",
            "El conjunto {'baterías', 'bolsa de dormir', 'linterna', 'celular', 'libro', 'encendedor'} tiene utilidad 51.\n",
            "El conjunto {'baterías', 'bolsa de dormir', 'linterna', 'celular', 'libro', 'asador'} tiene utilidad 49.\n",
            "El conjunto {'baterías', 'bolsa de dormir', 'linterna', 'celular', 'libro', 'computadora'} tiene utilidad 50.\n",
            "El conjunto {'baterías', 'bolsa de dormir', 'linterna', 'libro', 'encendedor', 'asador'} tiene utilidad 50.\n",
            "El conjunto {'baterías', 'bolsa de dormir', 'linterna', 'libro', 'encendedor', 'computadora'} tiene utilidad 51.\n",
            "El conjunto {'baterías', 'bolsa de dormir', 'linterna', 'libro', 'asador', 'computadora'} tiene utilidad 49.\n",
            "El conjunto {'baterías', 'mapa', 'linterna', 'celular', 'libro', 'encendedor'} tiene utilidad 37.\n",
            "El conjunto {'baterías', 'mapa', 'linterna', 'celular', 'libro', 'asador'} tiene utilidad 35.\n",
            "El conjunto {'baterías', 'mapa', 'linterna', 'celular', 'libro', 'computadora'} tiene utilidad 36.\n",
            "El conjunto {'baterías', 'mapa', 'linterna', 'libro', 'encendedor', 'asador'} tiene utilidad 36.\n",
            "El conjunto {'baterías', 'mapa', 'linterna', 'libro', 'encendedor', 'computadora'} tiene utilidad 37.\n",
            "El conjunto {'baterías', 'mapa', 'linterna', 'libro', 'asador', 'computadora'} tiene utilidad 35.\n",
            "El conjunto {'baterías', 'linterna', 'celular', 'libro', 'encendedor', 'asador'} tiene utilidad 37.\n",
            "El conjunto {'baterías', 'linterna', 'celular', 'libro', 'encendedor', 'computadora'} tiene utilidad 38.\n",
            "El conjunto {'baterías', 'linterna', 'celular', 'libro', 'asador', 'computadora'} tiene utilidad 36.\n",
            "El conjunto {'baterías', 'linterna', 'libro', 'encendedor', 'asador', 'computadora'} tiene utilidad 37.\n",
            "El conjunto {'lata', 'bolsa de dormir', 'mapa', 'linterna', 'libro', 'celular'} tiene utilidad 52.\n",
            "El conjunto {'lata', 'bolsa de dormir', 'mapa', 'linterna', 'libro', 'encendedor'} tiene utilidad 53.\n",
            "El conjunto {'lata', 'bolsa de dormir', 'mapa', 'linterna', 'libro', 'asador'} tiene utilidad 51.\n",
            "El conjunto {'lata', 'bolsa de dormir', 'mapa', 'linterna', 'libro', 'computadora'} tiene utilidad 52.\n",
            "El conjunto {'lata', 'bolsa de dormir', 'linterna', 'celular', 'libro', 'encendedor'} tiene utilidad 54.\n",
            "El conjunto {'lata', 'bolsa de dormir', 'linterna', 'celular', 'libro', 'asador'} tiene utilidad 52.\n",
            "El conjunto {'lata', 'bolsa de dormir', 'linterna', 'celular', 'libro', 'computadora'} tiene utilidad 53.\n",
            "El conjunto {'lata', 'bolsa de dormir', 'linterna', 'libro', 'encendedor', 'asador'} tiene utilidad 53.\n",
            "El conjunto {'lata', 'bolsa de dormir', 'linterna', 'libro', 'encendedor', 'computadora'} tiene utilidad 54.\n",
            "El conjunto {'lata', 'bolsa de dormir', 'linterna', 'libro', 'asador', 'computadora'} tiene utilidad 52.\n",
            "El conjunto {'lata', 'mapa', 'linterna', 'celular', 'libro', 'encendedor'} tiene utilidad 40.\n",
            "El conjunto {'lata', 'mapa', 'linterna', 'celular', 'libro', 'asador'} tiene utilidad 38.\n",
            "El conjunto {'lata', 'mapa', 'linterna', 'celular', 'libro', 'computadora'} tiene utilidad 39.\n",
            "El conjunto {'lata', 'mapa', 'linterna', 'libro', 'encendedor', 'asador'} tiene utilidad 39.\n",
            "El conjunto {'lata', 'mapa', 'linterna', 'libro', 'encendedor', 'computadora'} tiene utilidad 40.\n",
            "El conjunto {'lata', 'mapa', 'linterna', 'libro', 'asador', 'computadora'} tiene utilidad 38.\n",
            "El conjunto {'lata', 'linterna', 'celular', 'libro', 'encendedor', 'asador'} tiene utilidad 40.\n",
            "El conjunto {'lata', 'linterna', 'celular', 'libro', 'encendedor', 'computadora'} tiene utilidad 41.\n",
            "El conjunto {'lata', 'linterna', 'celular', 'libro', 'asador', 'computadora'} tiene utilidad 39.\n",
            "El conjunto {'lata', 'linterna', 'libro', 'encendedor', 'asador', 'computadora'} tiene utilidad 40.\n",
            "El conjunto {'bolsa de dormir', 'mapa', 'linterna', 'celular', 'libro', 'encendedor'} tiene utilidad 53.\n",
            "El conjunto {'bolsa de dormir', 'mapa', 'linterna', 'celular', 'libro', 'asador'} tiene utilidad 51.\n",
            "El conjunto {'bolsa de dormir', 'mapa', 'linterna', 'celular', 'libro', 'computadora'} tiene utilidad 52.\n",
            "El conjunto {'bolsa de dormir', 'mapa', 'linterna', 'libro', 'encendedor', 'asador'} tiene utilidad 52.\n",
            "El conjunto {'bolsa de dormir', 'mapa', 'linterna', 'libro', 'encendedor', 'computadora'} tiene utilidad 53.\n",
            "El conjunto {'bolsa de dormir', 'mapa', 'linterna', 'libro', 'asador', 'computadora'} tiene utilidad 51.\n",
            "El conjunto {'bolsa de dormir', 'linterna', 'celular', 'libro', 'encendedor', 'asador'} tiene utilidad 53.\n",
            "El conjunto {'bolsa de dormir', 'linterna', 'celular', 'libro', 'encendedor', 'computadora'} tiene utilidad 54.\n",
            "El conjunto {'bolsa de dormir', 'linterna', 'celular', 'libro', 'asador', 'computadora'} tiene utilidad 52.\n",
            "El conjunto {'bolsa de dormir', 'linterna', 'libro', 'encendedor', 'asador', 'computadora'} tiene utilidad 53.\n",
            "El conjunto {'mapa', 'linterna', 'celular', 'libro', 'encendedor', 'asador'} tiene utilidad 39.\n",
            "El conjunto {'mapa', 'linterna', 'celular', 'libro', 'encendedor', 'computadora'} tiene utilidad 40.\n",
            "El conjunto {'mapa', 'linterna', 'celular', 'libro', 'asador', 'computadora'} tiene utilidad 38.\n",
            "El conjunto {'mapa', 'linterna', 'libro', 'encendedor', 'asador', 'computadora'} tiene utilidad 39.\n",
            "El conjunto {'linterna', 'celular', 'libro', 'encendedor', 'asador', 'computadora'} tiene utilidad 40.\n",
            "El conjunto {'lata', 'baterías', 'mapa', 'linterna', 'bolsa de dormir', 'celular'} tiene utilidad 54.\n",
            "El conjunto {'lata', 'baterías', 'mapa', 'linterna', 'bolsa de dormir', 'encendedor'} tiene utilidad 55.\n",
            "El conjunto {'lata', 'baterías', 'mapa', 'linterna', 'bolsa de dormir', 'asador'} tiene utilidad 53.\n",
            "El conjunto {'lata', 'baterías', 'mapa', 'linterna', 'bolsa de dormir', 'computadora'} tiene utilidad 54.\n",
            "El conjunto {'lata', 'baterías', 'bolsa de dormir', 'linterna', 'celular', 'encendedor'} tiene utilidad 56.\n",
            "El conjunto {'lata', 'baterías', 'bolsa de dormir', 'linterna', 'celular', 'asador'} tiene utilidad 54.\n",
            "El conjunto {'lata', 'baterías', 'bolsa de dormir', 'linterna', 'celular', 'computadora'} tiene utilidad 55.\n",
            "El conjunto {'lata', 'baterías', 'bolsa de dormir', 'linterna', 'encendedor', 'asador'} tiene utilidad 55.\n",
            "El conjunto {'lata', 'baterías', 'bolsa de dormir', 'linterna', 'encendedor', 'computadora'} tiene utilidad 56.\n",
            "El conjunto {'lata', 'baterías', 'bolsa de dormir', 'linterna', 'asador', 'computadora'} tiene utilidad 54.\n",
            "El conjunto {'lata', 'baterías', 'mapa', 'linterna', 'celular', 'encendedor'} tiene utilidad 42.\n",
            "El conjunto {'lata', 'baterías', 'mapa', 'linterna', 'celular', 'asador'} tiene utilidad 40.\n",
            "El conjunto {'lata', 'baterías', 'mapa', 'linterna', 'celular', 'computadora'} tiene utilidad 41.\n",
            "El conjunto {'lata', 'baterías', 'mapa', 'linterna', 'encendedor', 'asador'} tiene utilidad 41.\n",
            "El conjunto {'lata', 'baterías', 'mapa', 'linterna', 'encendedor', 'computadora'} tiene utilidad 42.\n",
            "El conjunto {'lata', 'baterías', 'mapa', 'linterna', 'asador', 'computadora'} tiene utilidad 40.\n",
            "El conjunto {'lata', 'baterías', 'linterna', 'celular', 'encendedor', 'asador'} tiene utilidad 42.\n",
            "El conjunto {'lata', 'baterías', 'linterna', 'celular', 'encendedor', 'computadora'} tiene utilidad 43.\n",
            "El conjunto {'lata', 'baterías', 'linterna', 'celular', 'asador', 'computadora'} tiene utilidad 41.\n",
            "El conjunto {'lata', 'baterías', 'linterna', 'encendedor', 'asador', 'computadora'} tiene utilidad 42.\n",
            "El conjunto {'baterías', 'bolsa de dormir', 'mapa', 'linterna', 'celular', 'encendedor'} tiene utilidad 55.\n",
            "El conjunto {'baterías', 'bolsa de dormir', 'mapa', 'linterna', 'celular', 'asador'} tiene utilidad 53.\n",
            "El conjunto {'baterías', 'bolsa de dormir', 'mapa', 'linterna', 'celular', 'computadora'} tiene utilidad 54.\n",
            "El conjunto {'baterías', 'bolsa de dormir', 'mapa', 'linterna', 'encendedor', 'asador'} tiene utilidad 54.\n",
            "El conjunto {'baterías', 'bolsa de dormir', 'mapa', 'linterna', 'encendedor', 'computadora'} tiene utilidad 55.\n",
            "El conjunto {'baterías', 'bolsa de dormir', 'mapa', 'linterna', 'asador', 'computadora'} tiene utilidad 53.\n",
            "El conjunto {'baterías', 'bolsa de dormir', 'linterna', 'celular', 'encendedor', 'asador'} tiene utilidad 55.\n",
            "El conjunto {'baterías', 'bolsa de dormir', 'linterna', 'celular', 'encendedor', 'computadora'} tiene utilidad 56.\n",
            "El conjunto {'baterías', 'bolsa de dormir', 'linterna', 'celular', 'asador', 'computadora'} tiene utilidad 54.\n",
            "El conjunto {'baterías', 'bolsa de dormir', 'linterna', 'encendedor', 'asador', 'computadora'} tiene utilidad 55.\n",
            "El conjunto {'baterías', 'mapa', 'linterna', 'celular', 'encendedor', 'asador'} tiene utilidad 41.\n",
            "El conjunto {'baterías', 'mapa', 'linterna', 'celular', 'encendedor', 'computadora'} tiene utilidad 42.\n",
            "El conjunto {'baterías', 'mapa', 'linterna', 'celular', 'asador', 'computadora'} tiene utilidad 40.\n",
            "El conjunto {'baterías', 'mapa', 'linterna', 'encendedor', 'asador', 'computadora'} tiene utilidad 41.\n",
            "El conjunto {'baterías', 'linterna', 'celular', 'encendedor', 'asador', 'computadora'} tiene utilidad 42.\n",
            "El conjunto {'lata', 'bolsa de dormir', 'mapa', 'linterna', 'celular', 'encendedor'} tiene utilidad 58.\n",
            "El conjunto {'lata', 'bolsa de dormir', 'mapa', 'linterna', 'celular', 'asador'} tiene utilidad 56.\n",
            "El conjunto {'lata', 'bolsa de dormir', 'mapa', 'linterna', 'celular', 'computadora'} tiene utilidad 57.\n",
            "El conjunto {'lata', 'bolsa de dormir', 'mapa', 'linterna', 'encendedor', 'asador'} tiene utilidad 57.\n",
            "El conjunto {'lata', 'bolsa de dormir', 'mapa', 'linterna', 'encendedor', 'computadora'} tiene utilidad 58.\n",
            "El conjunto {'lata', 'bolsa de dormir', 'mapa', 'linterna', 'asador', 'computadora'} tiene utilidad 56.\n",
            "El conjunto {'lata', 'bolsa de dormir', 'linterna', 'celular', 'encendedor', 'asador'} tiene utilidad 58.\n",
            "El conjunto {'lata', 'bolsa de dormir', 'linterna', 'celular', 'encendedor', 'computadora'} tiene utilidad 59.\n",
            "El conjunto {'lata', 'bolsa de dormir', 'linterna', 'celular', 'asador', 'computadora'} tiene utilidad 57.\n",
            "El conjunto {'lata', 'bolsa de dormir', 'linterna', 'encendedor', 'asador', 'computadora'} tiene utilidad 58.\n",
            "El conjunto {'lata', 'mapa', 'linterna', 'celular', 'encendedor', 'asador'} tiene utilidad 44.\n",
            "El conjunto {'lata', 'mapa', 'linterna', 'celular', 'encendedor', 'computadora'} tiene utilidad 45.\n",
            "El conjunto {'lata', 'mapa', 'linterna', 'celular', 'asador', 'computadora'} tiene utilidad 43.\n",
            "El conjunto {'lata', 'mapa', 'linterna', 'encendedor', 'asador', 'computadora'} tiene utilidad 44.\n",
            "El conjunto {'lata', 'linterna', 'celular', 'encendedor', 'asador', 'computadora'} tiene utilidad 45.\n",
            "El conjunto {'bolsa de dormir', 'mapa', 'linterna', 'celular', 'encendedor', 'asador'} tiene utilidad 57.\n",
            "El conjunto {'bolsa de dormir', 'mapa', 'linterna', 'celular', 'encendedor', 'computadora'} tiene utilidad 58.\n",
            "El conjunto {'bolsa de dormir', 'mapa', 'linterna', 'celular', 'asador', 'computadora'} tiene utilidad 56.\n",
            "El conjunto {'bolsa de dormir', 'mapa', 'linterna', 'encendedor', 'asador', 'computadora'} tiene utilidad 57.\n",
            "El conjunto {'bolsa de dormir', 'linterna', 'celular', 'encendedor', 'asador', 'computadora'} tiene utilidad 58.\n",
            "El conjunto {'mapa', 'linterna', 'celular', 'encendedor', 'asador', 'computadora'} tiene utilidad 44.\n",
            "El conjunto {'lata', 'bolsa de dormir', 'mapa', 'baterías', 'libro', 'celular'} tiene utilidad 46.\n",
            "El conjunto {'lata', 'bolsa de dormir', 'mapa', 'baterías', 'libro', 'encendedor'} tiene utilidad 47.\n",
            "El conjunto {'lata', 'bolsa de dormir', 'mapa', 'baterías', 'libro', 'asador'} tiene utilidad 45.\n",
            "El conjunto {'lata', 'bolsa de dormir', 'mapa', 'baterías', 'libro', 'computadora'} tiene utilidad 46.\n",
            "El conjunto {'lata', 'bolsa de dormir', 'baterías', 'celular', 'libro', 'encendedor'} tiene utilidad 48.\n",
            "El conjunto {'lata', 'bolsa de dormir', 'baterías', 'celular', 'libro', 'asador'} tiene utilidad 46.\n",
            "El conjunto {'lata', 'bolsa de dormir', 'baterías', 'celular', 'libro', 'computadora'} tiene utilidad 47.\n",
            "El conjunto {'lata', 'bolsa de dormir', 'baterías', 'libro', 'encendedor', 'asador'} tiene utilidad 47.\n",
            "El conjunto {'lata', 'bolsa de dormir', 'baterías', 'libro', 'encendedor', 'computadora'} tiene utilidad 48.\n",
            "El conjunto {'lata', 'bolsa de dormir', 'baterías', 'libro', 'asador', 'computadora'} tiene utilidad 46.\n",
            "El conjunto {'lata', 'baterías', 'mapa', 'celular', 'libro', 'encendedor'} tiene utilidad 34.\n",
            "El conjunto {'lata', 'baterías', 'mapa', 'celular', 'libro', 'asador'} tiene utilidad 32.\n",
            "El conjunto {'lata', 'baterías', 'mapa', 'celular', 'libro', 'computadora'} tiene utilidad 33.\n",
            "El conjunto {'lata', 'baterías', 'mapa', 'libro', 'encendedor', 'asador'} tiene utilidad 33.\n",
            "El conjunto {'lata', 'baterías', 'mapa', 'libro', 'encendedor', 'computadora'} tiene utilidad 34.\n",
            "El conjunto {'lata', 'baterías', 'mapa', 'libro', 'asador', 'computadora'} tiene utilidad 32.\n",
            "El conjunto {'lata', 'baterías', 'celular', 'libro', 'encendedor', 'asador'} tiene utilidad 34.\n",
            "El conjunto {'lata', 'baterías', 'celular', 'libro', 'encendedor', 'computadora'} tiene utilidad 35.\n",
            "El conjunto {'lata', 'baterías', 'celular', 'libro', 'asador', 'computadora'} tiene utilidad 33.\n",
            "El conjunto {'lata', 'baterías', 'libro', 'encendedor', 'asador', 'computadora'} tiene utilidad 34.\n",
            "El conjunto {'baterías', 'bolsa de dormir', 'mapa', 'celular', 'libro', 'encendedor'} tiene utilidad 47.\n",
            "El conjunto {'baterías', 'bolsa de dormir', 'mapa', 'celular', 'libro', 'asador'} tiene utilidad 45.\n",
            "El conjunto {'baterías', 'bolsa de dormir', 'mapa', 'celular', 'libro', 'computadora'} tiene utilidad 46.\n",
            "El conjunto {'baterías', 'bolsa de dormir', 'mapa', 'libro', 'encendedor', 'asador'} tiene utilidad 46.\n",
            "El conjunto {'baterías', 'bolsa de dormir', 'mapa', 'libro', 'encendedor', 'computadora'} tiene utilidad 47.\n",
            "El conjunto {'baterías', 'bolsa de dormir', 'mapa', 'libro', 'asador', 'computadora'} tiene utilidad 45.\n",
            "El conjunto {'baterías', 'bolsa de dormir', 'celular', 'libro', 'encendedor', 'asador'} tiene utilidad 47.\n",
            "El conjunto {'baterías', 'bolsa de dormir', 'celular', 'libro', 'encendedor', 'computadora'} tiene utilidad 48.\n",
            "El conjunto {'baterías', 'bolsa de dormir', 'celular', 'libro', 'asador', 'computadora'} tiene utilidad 46.\n",
            "El conjunto {'baterías', 'bolsa de dormir', 'libro', 'encendedor', 'asador', 'computadora'} tiene utilidad 47.\n",
            "El conjunto {'baterías', 'mapa', 'celular', 'libro', 'encendedor', 'asador'} tiene utilidad 33.\n",
            "El conjunto {'baterías', 'mapa', 'celular', 'libro', 'encendedor', 'computadora'} tiene utilidad 34.\n",
            "El conjunto {'baterías', 'mapa', 'celular', 'libro', 'asador', 'computadora'} tiene utilidad 32.\n",
            "El conjunto {'baterías', 'mapa', 'libro', 'encendedor', 'asador', 'computadora'} tiene utilidad 33.\n",
            "El conjunto {'baterías', 'celular', 'libro', 'encendedor', 'asador', 'computadora'} tiene utilidad 34.\n",
            "El conjunto {'lata', 'bolsa de dormir', 'mapa', 'celular', 'libro', 'encendedor'} tiene utilidad 50.\n",
            "El conjunto {'lata', 'bolsa de dormir', 'mapa', 'celular', 'libro', 'asador'} tiene utilidad 48.\n",
            "El conjunto {'lata', 'bolsa de dormir', 'mapa', 'celular', 'libro', 'computadora'} tiene utilidad 49.\n",
            "El conjunto {'lata', 'bolsa de dormir', 'mapa', 'libro', 'encendedor', 'asador'} tiene utilidad 49.\n",
            "El conjunto {'lata', 'bolsa de dormir', 'mapa', 'libro', 'encendedor', 'computadora'} tiene utilidad 50.\n",
            "El conjunto {'lata', 'bolsa de dormir', 'mapa', 'libro', 'asador', 'computadora'} tiene utilidad 48.\n",
            "El conjunto {'lata', 'bolsa de dormir', 'celular', 'libro', 'encendedor', 'asador'} tiene utilidad 50.\n",
            "El conjunto {'lata', 'bolsa de dormir', 'celular', 'libro', 'encendedor', 'computadora'} tiene utilidad 51.\n",
            "El conjunto {'lata', 'bolsa de dormir', 'celular', 'libro', 'asador', 'computadora'} tiene utilidad 49.\n",
            "El conjunto {'lata', 'bolsa de dormir', 'libro', 'encendedor', 'asador', 'computadora'} tiene utilidad 50.\n",
            "El conjunto {'lata', 'mapa', 'celular', 'libro', 'encendedor', 'asador'} tiene utilidad 36.\n",
            "El conjunto {'lata', 'mapa', 'celular', 'libro', 'encendedor', 'computadora'} tiene utilidad 37.\n",
            "El conjunto {'lata', 'mapa', 'celular', 'libro', 'asador', 'computadora'} tiene utilidad 35.\n",
            "El conjunto {'lata', 'mapa', 'libro', 'encendedor', 'asador', 'computadora'} tiene utilidad 36.\n",
            "El conjunto {'lata', 'celular', 'libro', 'encendedor', 'asador', 'computadora'} tiene utilidad 37.\n",
            "El conjunto {'bolsa de dormir', 'mapa', 'celular', 'libro', 'encendedor', 'asador'} tiene utilidad 49.\n",
            "El conjunto {'bolsa de dormir', 'mapa', 'celular', 'libro', 'encendedor', 'computadora'} tiene utilidad 50.\n",
            "El conjunto {'bolsa de dormir', 'mapa', 'celular', 'libro', 'asador', 'computadora'} tiene utilidad 48.\n",
            "El conjunto {'bolsa de dormir', 'mapa', 'libro', 'encendedor', 'asador', 'computadora'} tiene utilidad 49.\n",
            "El conjunto {'bolsa de dormir', 'celular', 'libro', 'encendedor', 'asador', 'computadora'} tiene utilidad 50.\n",
            "El conjunto {'mapa', 'celular', 'libro', 'encendedor', 'asador', 'computadora'} tiene utilidad 36.\n",
            "El conjunto {'lata', 'baterías', 'mapa', 'bolsa de dormir', 'celular', 'encendedor'} tiene utilidad 52.\n",
            "El conjunto {'lata', 'baterías', 'mapa', 'bolsa de dormir', 'celular', 'asador'} tiene utilidad 50.\n",
            "El conjunto {'lata', 'baterías', 'mapa', 'bolsa de dormir', 'celular', 'computadora'} tiene utilidad 51.\n",
            "El conjunto {'lata', 'baterías', 'mapa', 'bolsa de dormir', 'encendedor', 'asador'} tiene utilidad 51.\n",
            "El conjunto {'lata', 'baterías', 'mapa', 'bolsa de dormir', 'encendedor', 'computadora'} tiene utilidad 52.\n",
            "El conjunto {'lata', 'baterías', 'mapa', 'bolsa de dormir', 'asador', 'computadora'} tiene utilidad 50.\n",
            "El conjunto {'lata', 'baterías', 'bolsa de dormir', 'celular', 'encendedor', 'asador'} tiene utilidad 52.\n",
            "El conjunto {'lata', 'baterías', 'bolsa de dormir', 'celular', 'encendedor', 'computadora'} tiene utilidad 53.\n",
            "El conjunto {'lata', 'baterías', 'bolsa de dormir', 'celular', 'asador', 'computadora'} tiene utilidad 51.\n",
            "El conjunto {'lata', 'baterías', 'bolsa de dormir', 'encendedor', 'asador', 'computadora'} tiene utilidad 52.\n",
            "El conjunto {'lata', 'baterías', 'mapa', 'celular', 'encendedor', 'asador'} tiene utilidad 38.\n",
            "El conjunto {'lata', 'baterías', 'mapa', 'celular', 'encendedor', 'computadora'} tiene utilidad 39.\n",
            "El conjunto {'lata', 'baterías', 'mapa', 'celular', 'asador', 'computadora'} tiene utilidad 37.\n",
            "El conjunto {'lata', 'baterías', 'mapa', 'encendedor', 'asador', 'computadora'} tiene utilidad 38.\n",
            "El conjunto {'lata', 'baterías', 'celular', 'encendedor', 'asador', 'computadora'} tiene utilidad 39.\n",
            "El conjunto {'baterías', 'bolsa de dormir', 'mapa', 'celular', 'encendedor', 'asador'} tiene utilidad 51.\n",
            "El conjunto {'baterías', 'bolsa de dormir', 'mapa', 'celular', 'encendedor', 'computadora'} tiene utilidad 52.\n",
            "El conjunto {'baterías', 'bolsa de dormir', 'mapa', 'celular', 'asador', 'computadora'} tiene utilidad 50.\n",
            "El conjunto {'baterías', 'bolsa de dormir', 'mapa', 'encendedor', 'asador', 'computadora'} tiene utilidad 51.\n",
            "El conjunto {'baterías', 'bolsa de dormir', 'celular', 'encendedor', 'asador', 'computadora'} tiene utilidad 52.\n",
            "El conjunto {'baterías', 'mapa', 'celular', 'encendedor', 'asador', 'computadora'} tiene utilidad 38.\n",
            "El conjunto {'lata', 'bolsa de dormir', 'mapa', 'celular', 'encendedor', 'asador'} tiene utilidad 54.\n",
            "El conjunto {'lata', 'bolsa de dormir', 'mapa', 'celular', 'encendedor', 'computadora'} tiene utilidad 55.\n",
            "El conjunto {'lata', 'bolsa de dormir', 'mapa', 'celular', 'asador', 'computadora'} tiene utilidad 53.\n",
            "El conjunto {'lata', 'bolsa de dormir', 'mapa', 'encendedor', 'asador', 'computadora'} tiene utilidad 54.\n",
            "El conjunto {'lata', 'bolsa de dormir', 'celular', 'encendedor', 'asador', 'computadora'} tiene utilidad 55.\n",
            "El conjunto {'lata', 'mapa', 'celular', 'encendedor', 'asador', 'computadora'} tiene utilidad 41.\n",
            "El conjunto {'bolsa de dormir', 'mapa', 'celular', 'encendedor', 'asador', 'computadora'} tiene utilidad 54.\n",
            "El conjunto {'lata', 'bolsa de dormir', 'baterías', 'linterna', 'mapa', 'libro', 'celular'} tiene utilidad 56.\n",
            "El conjunto {'lata', 'bolsa de dormir', 'baterías', 'linterna', 'mapa', 'libro', 'encendedor'} tiene utilidad 57.\n",
            "El conjunto {'lata', 'bolsa de dormir', 'baterías', 'linterna', 'mapa', 'libro', 'asador'} tiene utilidad 55.\n",
            "El conjunto {'lata', 'bolsa de dormir', 'baterías', 'linterna', 'mapa', 'libro', 'computadora'} tiene utilidad 56.\n",
            "El conjunto {'lata', 'bolsa de dormir', 'baterías', 'linterna', 'libro', 'celular', 'encendedor'} tiene utilidad 58.\n",
            "El conjunto {'lata', 'bolsa de dormir', 'baterías', 'linterna', 'libro', 'celular', 'asador'} tiene utilidad 56.\n",
            "El conjunto {'lata', 'bolsa de dormir', 'baterías', 'linterna', 'libro', 'celular', 'computadora'} tiene utilidad 57.\n",
            "El conjunto {'lata', 'bolsa de dormir', 'baterías', 'linterna', 'libro', 'encendedor', 'asador'} tiene utilidad 57.\n",
            "El conjunto {'lata', 'bolsa de dormir', 'baterías', 'linterna', 'libro', 'encendedor', 'computadora'} tiene utilidad 58.\n",
            "El conjunto {'lata', 'bolsa de dormir', 'baterías', 'linterna', 'libro', 'asador', 'computadora'} tiene utilidad 56.\n",
            "El conjunto {'lata', 'baterías', 'mapa', 'linterna', 'libro', 'celular', 'encendedor'} tiene utilidad 44.\n",
            "El conjunto {'lata', 'baterías', 'mapa', 'linterna', 'libro', 'celular', 'asador'} tiene utilidad 42.\n",
            "El conjunto {'lata', 'baterías', 'mapa', 'linterna', 'libro', 'celular', 'computadora'} tiene utilidad 43.\n",
            "El conjunto {'lata', 'baterías', 'mapa', 'linterna', 'libro', 'encendedor', 'asador'} tiene utilidad 43.\n",
            "El conjunto {'lata', 'baterías', 'mapa', 'linterna', 'libro', 'encendedor', 'computadora'} tiene utilidad 44.\n",
            "El conjunto {'lata', 'baterías', 'mapa', 'linterna', 'libro', 'asador', 'computadora'} tiene utilidad 42.\n",
            "El conjunto {'lata', 'baterías', 'linterna', 'celular', 'libro', 'encendedor', 'asador'} tiene utilidad 44.\n",
            "El conjunto {'lata', 'baterías', 'linterna', 'celular', 'libro', 'encendedor', 'computadora'} tiene utilidad 45.\n",
            "El conjunto {'lata', 'baterías', 'linterna', 'celular', 'libro', 'asador', 'computadora'} tiene utilidad 43.\n",
            "El conjunto {'lata', 'baterías', 'linterna', 'libro', 'encendedor', 'asador', 'computadora'} tiene utilidad 44.\n",
            "El conjunto {'baterías', 'bolsa de dormir', 'mapa', 'linterna', 'libro', 'celular', 'encendedor'} tiene utilidad 57.\n",
            "El conjunto {'baterías', 'bolsa de dormir', 'mapa', 'linterna', 'libro', 'celular', 'asador'} tiene utilidad 55.\n",
            "El conjunto {'baterías', 'bolsa de dormir', 'mapa', 'linterna', 'libro', 'celular', 'computadora'} tiene utilidad 56.\n",
            "El conjunto {'baterías', 'bolsa de dormir', 'mapa', 'linterna', 'libro', 'encendedor', 'asador'} tiene utilidad 56.\n",
            "El conjunto {'baterías', 'bolsa de dormir', 'mapa', 'linterna', 'libro', 'encendedor', 'computadora'} tiene utilidad 57.\n",
            "El conjunto {'baterías', 'bolsa de dormir', 'mapa', 'linterna', 'libro', 'asador', 'computadora'} tiene utilidad 55.\n",
            "El conjunto {'baterías', 'bolsa de dormir', 'linterna', 'celular', 'libro', 'encendedor', 'asador'} tiene utilidad 57.\n",
            "El conjunto {'baterías', 'bolsa de dormir', 'linterna', 'celular', 'libro', 'encendedor', 'computadora'} tiene utilidad 58.\n",
            "El conjunto {'baterías', 'bolsa de dormir', 'linterna', 'celular', 'libro', 'asador', 'computadora'} tiene utilidad 56.\n",
            "El conjunto {'baterías', 'bolsa de dormir', 'linterna', 'libro', 'encendedor', 'asador', 'computadora'} tiene utilidad 57.\n",
            "El conjunto {'baterías', 'mapa', 'linterna', 'celular', 'libro', 'encendedor', 'asador'} tiene utilidad 43.\n",
            "El conjunto {'baterías', 'mapa', 'linterna', 'celular', 'libro', 'encendedor', 'computadora'} tiene utilidad 44.\n",
            "El conjunto {'baterías', 'mapa', 'linterna', 'celular', 'libro', 'asador', 'computadora'} tiene utilidad 42.\n",
            "El conjunto {'baterías', 'mapa', 'linterna', 'libro', 'encendedor', 'asador', 'computadora'} tiene utilidad 43.\n",
            "El conjunto {'baterías', 'linterna', 'celular', 'libro', 'encendedor', 'asador', 'computadora'} tiene utilidad 44.\n",
            "El conjunto {'lata', 'bolsa de dormir', 'mapa', 'linterna', 'libro', 'celular', 'encendedor'} tiene utilidad 60.\n",
            "El conjunto {'lata', 'bolsa de dormir', 'mapa', 'linterna', 'libro', 'celular', 'asador'} tiene utilidad 58.\n",
            "El conjunto {'lata', 'bolsa de dormir', 'mapa', 'linterna', 'libro', 'celular', 'computadora'} tiene utilidad 59.\n",
            "El conjunto {'lata', 'bolsa de dormir', 'mapa', 'linterna', 'libro', 'encendedor', 'asador'} tiene utilidad 59.\n",
            "El conjunto {'lata', 'bolsa de dormir', 'mapa', 'linterna', 'libro', 'encendedor', 'computadora'} tiene utilidad 60.\n",
            "El conjunto {'lata', 'bolsa de dormir', 'mapa', 'linterna', 'libro', 'asador', 'computadora'} tiene utilidad 58.\n",
            "El conjunto {'lata', 'bolsa de dormir', 'linterna', 'celular', 'libro', 'encendedor', 'asador'} tiene utilidad 60.\n",
            "El conjunto {'lata', 'bolsa de dormir', 'linterna', 'celular', 'libro', 'encendedor', 'computadora'} tiene utilidad 61.\n",
            "El conjunto {'lata', 'bolsa de dormir', 'linterna', 'celular', 'libro', 'asador', 'computadora'} tiene utilidad 59.\n",
            "El conjunto {'lata', 'bolsa de dormir', 'linterna', 'libro', 'encendedor', 'asador', 'computadora'} tiene utilidad 60.\n",
            "El conjunto {'lata', 'mapa', 'linterna', 'celular', 'libro', 'encendedor', 'asador'} tiene utilidad 46.\n",
            "El conjunto {'lata', 'mapa', 'linterna', 'celular', 'libro', 'encendedor', 'computadora'} tiene utilidad 47.\n",
            "El conjunto {'lata', 'mapa', 'linterna', 'celular', 'libro', 'asador', 'computadora'} tiene utilidad 45.\n",
            "El conjunto {'lata', 'mapa', 'linterna', 'libro', 'encendedor', 'asador', 'computadora'} tiene utilidad 46.\n",
            "El conjunto {'lata', 'linterna', 'celular', 'libro', 'encendedor', 'asador', 'computadora'} tiene utilidad 47.\n",
            "El conjunto {'bolsa de dormir', 'mapa', 'linterna', 'celular', 'libro', 'encendedor', 'asador'} tiene utilidad 59.\n",
            "El conjunto {'bolsa de dormir', 'mapa', 'linterna', 'celular', 'libro', 'encendedor', 'computadora'} tiene utilidad 60.\n",
            "El conjunto {'bolsa de dormir', 'mapa', 'linterna', 'celular', 'libro', 'asador', 'computadora'} tiene utilidad 58.\n",
            "El conjunto {'bolsa de dormir', 'mapa', 'linterna', 'libro', 'encendedor', 'asador', 'computadora'} tiene utilidad 59.\n",
            "El conjunto {'bolsa de dormir', 'linterna', 'celular', 'libro', 'encendedor', 'asador', 'computadora'} tiene utilidad 60.\n",
            "El conjunto {'mapa', 'linterna', 'celular', 'libro', 'encendedor', 'asador', 'computadora'} tiene utilidad 46.\n",
            "El conjunto {'lata', 'baterías', 'mapa', 'linterna', 'bolsa de dormir', 'celular', 'encendedor'} tiene utilidad 62.\n",
            "El conjunto {'lata', 'baterías', 'mapa', 'linterna', 'bolsa de dormir', 'celular', 'asador'} tiene utilidad 60.\n",
            "El conjunto {'lata', 'baterías', 'mapa', 'linterna', 'bolsa de dormir', 'celular', 'computadora'} tiene utilidad 61.\n",
            "El conjunto {'lata', 'baterías', 'mapa', 'linterna', 'bolsa de dormir', 'encendedor', 'asador'} tiene utilidad 61.\n",
            "El conjunto {'lata', 'baterías', 'mapa', 'linterna', 'bolsa de dormir', 'encendedor', 'computadora'} tiene utilidad 62.\n",
            "El conjunto {'lata', 'baterías', 'mapa', 'linterna', 'bolsa de dormir', 'asador', 'computadora'} tiene utilidad 60.\n",
            "El conjunto {'lata', 'baterías', 'bolsa de dormir', 'linterna', 'celular', 'encendedor', 'asador'} tiene utilidad 62.\n",
            "El conjunto {'lata', 'baterías', 'bolsa de dormir', 'linterna', 'celular', 'encendedor', 'computadora'} tiene utilidad 63.\n",
            "El conjunto {'lata', 'baterías', 'bolsa de dormir', 'linterna', 'celular', 'asador', 'computadora'} tiene utilidad 61.\n",
            "El conjunto {'lata', 'baterías', 'bolsa de dormir', 'linterna', 'encendedor', 'asador', 'computadora'} tiene utilidad 62.\n",
            "El conjunto {'lata', 'baterías', 'mapa', 'linterna', 'celular', 'encendedor', 'asador'} tiene utilidad 48.\n",
            "El conjunto {'lata', 'baterías', 'mapa', 'linterna', 'celular', 'encendedor', 'computadora'} tiene utilidad 49.\n",
            "El conjunto {'lata', 'baterías', 'mapa', 'linterna', 'celular', 'asador', 'computadora'} tiene utilidad 47.\n",
            "El conjunto {'lata', 'baterías', 'mapa', 'linterna', 'encendedor', 'asador', 'computadora'} tiene utilidad 48.\n",
            "El conjunto {'lata', 'baterías', 'linterna', 'celular', 'encendedor', 'asador', 'computadora'} tiene utilidad 49.\n",
            "El conjunto {'baterías', 'bolsa de dormir', 'mapa', 'linterna', 'celular', 'encendedor', 'asador'} tiene utilidad 61.\n",
            "El conjunto {'baterías', 'bolsa de dormir', 'mapa', 'linterna', 'celular', 'encendedor', 'computadora'} tiene utilidad 62.\n",
            "El conjunto {'baterías', 'bolsa de dormir', 'mapa', 'linterna', 'celular', 'asador', 'computadora'} tiene utilidad 60.\n",
            "El conjunto {'baterías', 'bolsa de dormir', 'mapa', 'linterna', 'encendedor', 'asador', 'computadora'} tiene utilidad 61.\n",
            "El conjunto {'baterías', 'bolsa de dormir', 'linterna', 'celular', 'encendedor', 'asador', 'computadora'} tiene utilidad 62.\n",
            "El conjunto {'baterías', 'mapa', 'linterna', 'celular', 'encendedor', 'asador', 'computadora'} tiene utilidad 48.\n",
            "El conjunto {'lata', 'bolsa de dormir', 'mapa', 'linterna', 'celular', 'encendedor', 'asador'} tiene utilidad 64.\n",
            "El conjunto {'lata', 'bolsa de dormir', 'mapa', 'linterna', 'celular', 'encendedor', 'computadora'} tiene utilidad 65.\n",
            "El conjunto {'lata', 'bolsa de dormir', 'mapa', 'linterna', 'celular', 'asador', 'computadora'} tiene utilidad 63.\n",
            "El conjunto {'lata', 'bolsa de dormir', 'mapa', 'linterna', 'encendedor', 'asador', 'computadora'} tiene utilidad 64.\n",
            "El conjunto {'lata', 'bolsa de dormir', 'linterna', 'celular', 'encendedor', 'asador', 'computadora'} tiene utilidad 65.\n",
            "El conjunto {'lata', 'mapa', 'linterna', 'celular', 'encendedor', 'asador', 'computadora'} tiene utilidad 51.\n",
            "El conjunto {'bolsa de dormir', 'mapa', 'linterna', 'celular', 'encendedor', 'asador', 'computadora'} tiene utilidad 64.\n",
            "El conjunto {'lata', 'bolsa de dormir', 'mapa', 'baterías', 'libro', 'celular', 'encendedor'} tiene utilidad 54.\n",
            "El conjunto {'lata', 'bolsa de dormir', 'mapa', 'baterías', 'libro', 'celular', 'asador'} tiene utilidad 52.\n",
            "El conjunto {'lata', 'bolsa de dormir', 'mapa', 'baterías', 'libro', 'celular', 'computadora'} tiene utilidad 53.\n",
            "El conjunto {'lata', 'bolsa de dormir', 'mapa', 'baterías', 'libro', 'encendedor', 'asador'} tiene utilidad 53.\n",
            "El conjunto {'lata', 'bolsa de dormir', 'mapa', 'baterías', 'libro', 'encendedor', 'computadora'} tiene utilidad 54.\n",
            "El conjunto {'lata', 'bolsa de dormir', 'mapa', 'baterías', 'libro', 'asador', 'computadora'} tiene utilidad 52.\n",
            "El conjunto {'lata', 'bolsa de dormir', 'baterías', 'celular', 'libro', 'encendedor', 'asador'} tiene utilidad 54.\n",
            "El conjunto {'lata', 'bolsa de dormir', 'baterías', 'celular', 'libro', 'encendedor', 'computadora'} tiene utilidad 55.\n",
            "El conjunto {'lata', 'bolsa de dormir', 'baterías', 'celular', 'libro', 'asador', 'computadora'} tiene utilidad 53.\n",
            "El conjunto {'lata', 'bolsa de dormir', 'baterías', 'libro', 'encendedor', 'asador', 'computadora'} tiene utilidad 54.\n",
            "El conjunto {'lata', 'baterías', 'mapa', 'celular', 'libro', 'encendedor', 'asador'} tiene utilidad 40.\n",
            "El conjunto {'lata', 'baterías', 'mapa', 'celular', 'libro', 'encendedor', 'computadora'} tiene utilidad 41.\n",
            "El conjunto {'lata', 'baterías', 'mapa', 'celular', 'libro', 'asador', 'computadora'} tiene utilidad 39.\n",
            "El conjunto {'lata', 'baterías', 'mapa', 'libro', 'encendedor', 'asador', 'computadora'} tiene utilidad 40.\n",
            "El conjunto {'lata', 'baterías', 'celular', 'libro', 'encendedor', 'asador', 'computadora'} tiene utilidad 41.\n",
            "El conjunto {'baterías', 'bolsa de dormir', 'mapa', 'celular', 'libro', 'encendedor', 'asador'} tiene utilidad 53.\n",
            "El conjunto {'baterías', 'bolsa de dormir', 'mapa', 'celular', 'libro', 'encendedor', 'computadora'} tiene utilidad 54.\n",
            "El conjunto {'baterías', 'bolsa de dormir', 'mapa', 'celular', 'libro', 'asador', 'computadora'} tiene utilidad 52.\n",
            "El conjunto {'baterías', 'bolsa de dormir', 'mapa', 'libro', 'encendedor', 'asador', 'computadora'} tiene utilidad 53.\n",
            "El conjunto {'baterías', 'bolsa de dormir', 'celular', 'libro', 'encendedor', 'asador', 'computadora'} tiene utilidad 54.\n",
            "El conjunto {'baterías', 'mapa', 'celular', 'libro', 'encendedor', 'asador', 'computadora'} tiene utilidad 40.\n",
            "El conjunto {'lata', 'bolsa de dormir', 'mapa', 'celular', 'libro', 'encendedor', 'asador'} tiene utilidad 56.\n",
            "El conjunto {'lata', 'bolsa de dormir', 'mapa', 'celular', 'libro', 'encendedor', 'computadora'} tiene utilidad 57.\n",
            "El conjunto {'lata', 'bolsa de dormir', 'mapa', 'celular', 'libro', 'asador', 'computadora'} tiene utilidad 55.\n",
            "El conjunto {'lata', 'bolsa de dormir', 'mapa', 'libro', 'encendedor', 'asador', 'computadora'} tiene utilidad 56.\n",
            "El conjunto {'lata', 'bolsa de dormir', 'celular', 'libro', 'encendedor', 'asador', 'computadora'} tiene utilidad 57.\n",
            "El conjunto {'lata', 'mapa', 'celular', 'libro', 'encendedor', 'asador', 'computadora'} tiene utilidad 43.\n",
            "El conjunto {'bolsa de dormir', 'mapa', 'celular', 'libro', 'encendedor', 'asador', 'computadora'} tiene utilidad 56.\n",
            "El conjunto {'lata', 'baterías', 'mapa', 'bolsa de dormir', 'celular', 'encendedor', 'asador'} tiene utilidad 58.\n",
            "El conjunto {'lata', 'baterías', 'mapa', 'bolsa de dormir', 'celular', 'encendedor', 'computadora'} tiene utilidad 59.\n",
            "El conjunto {'lata', 'baterías', 'mapa', 'bolsa de dormir', 'celular', 'asador', 'computadora'} tiene utilidad 57.\n",
            "El conjunto {'lata', 'baterías', 'mapa', 'bolsa de dormir', 'encendedor', 'asador', 'computadora'} tiene utilidad 58.\n",
            "El conjunto {'lata', 'baterías', 'bolsa de dormir', 'celular', 'encendedor', 'asador', 'computadora'} tiene utilidad 59.\n",
            "El conjunto {'lata', 'baterías', 'mapa', 'celular', 'encendedor', 'asador', 'computadora'} tiene utilidad 45.\n",
            "El conjunto {'baterías', 'bolsa de dormir', 'mapa', 'celular', 'encendedor', 'asador', 'computadora'} tiene utilidad 58.\n",
            "El conjunto {'lata', 'bolsa de dormir', 'mapa', 'celular', 'encendedor', 'asador', 'computadora'} tiene utilidad 61.\n",
            "El conjunto {'lata', 'bolsa de dormir', 'baterías', 'linterna', 'mapa', 'libro', 'celular', 'encendedor'} tiene utilidad 64.\n",
            "El conjunto {'lata', 'bolsa de dormir', 'baterías', 'linterna', 'mapa', 'libro', 'celular', 'asador'} tiene utilidad 62.\n",
            "El conjunto {'lata', 'bolsa de dormir', 'baterías', 'linterna', 'mapa', 'libro', 'celular', 'computadora'} tiene utilidad 63.\n",
            "El conjunto {'lata', 'bolsa de dormir', 'baterías', 'linterna', 'mapa', 'libro', 'encendedor', 'asador'} tiene utilidad 63.\n",
            "El conjunto {'lata', 'bolsa de dormir', 'baterías', 'linterna', 'mapa', 'libro', 'encendedor', 'computadora'} tiene utilidad 64.\n",
            "El conjunto {'lata', 'bolsa de dormir', 'baterías', 'linterna', 'mapa', 'libro', 'asador', 'computadora'} tiene utilidad 62.\n",
            "El conjunto {'lata', 'bolsa de dormir', 'baterías', 'linterna', 'libro', 'celular', 'encendedor', 'asador'} tiene utilidad 64.\n",
            "El conjunto {'lata', 'bolsa de dormir', 'baterías', 'linterna', 'libro', 'celular', 'encendedor', 'computadora'} tiene utilidad 65.\n",
            "El conjunto {'lata', 'bolsa de dormir', 'baterías', 'linterna', 'libro', 'celular', 'asador', 'computadora'} tiene utilidad 63.\n",
            "El conjunto {'lata', 'bolsa de dormir', 'baterías', 'linterna', 'libro', 'encendedor', 'asador', 'computadora'} tiene utilidad 64.\n",
            "El conjunto {'lata', 'baterías', 'mapa', 'linterna', 'libro', 'celular', 'encendedor', 'asador'} tiene utilidad 50.\n",
            "El conjunto {'lata', 'baterías', 'mapa', 'linterna', 'libro', 'celular', 'encendedor', 'computadora'} tiene utilidad 51.\n",
            "El conjunto {'lata', 'baterías', 'mapa', 'linterna', 'libro', 'celular', 'asador', 'computadora'} tiene utilidad 49.\n",
            "El conjunto {'lata', 'baterías', 'mapa', 'linterna', 'libro', 'encendedor', 'asador', 'computadora'} tiene utilidad 50.\n",
            "El conjunto {'lata', 'baterías', 'linterna', 'celular', 'libro', 'encendedor', 'asador', 'computadora'} tiene utilidad 51.\n",
            "El conjunto {'baterías', 'bolsa de dormir', 'mapa', 'linterna', 'libro', 'celular', 'encendedor', 'asador'} tiene utilidad 63.\n",
            "El conjunto {'baterías', 'bolsa de dormir', 'mapa', 'linterna', 'libro', 'celular', 'encendedor', 'computadora'} tiene utilidad 64.\n",
            "El conjunto {'baterías', 'bolsa de dormir', 'mapa', 'linterna', 'libro', 'celular', 'asador', 'computadora'} tiene utilidad 62.\n",
            "El conjunto {'baterías', 'bolsa de dormir', 'mapa', 'linterna', 'libro', 'encendedor', 'asador', 'computadora'} tiene utilidad 63.\n",
            "El conjunto {'baterías', 'bolsa de dormir', 'linterna', 'celular', 'libro', 'encendedor', 'asador', 'computadora'} tiene utilidad 64.\n",
            "El conjunto {'baterías', 'mapa', 'linterna', 'celular', 'libro', 'encendedor', 'asador', 'computadora'} tiene utilidad 50.\n",
            "El conjunto {'lata', 'bolsa de dormir', 'mapa', 'linterna', 'libro', 'celular', 'encendedor', 'asador'} tiene utilidad 66.\n",
            "El conjunto {'lata', 'bolsa de dormir', 'mapa', 'linterna', 'libro', 'celular', 'encendedor', 'computadora'} tiene utilidad 67.\n",
            "El conjunto {'lata', 'bolsa de dormir', 'mapa', 'linterna', 'libro', 'celular', 'asador', 'computadora'} tiene utilidad 65.\n",
            "El conjunto {'lata', 'bolsa de dormir', 'mapa', 'linterna', 'libro', 'encendedor', 'asador', 'computadora'} tiene utilidad 66.\n",
            "El conjunto {'lata', 'bolsa de dormir', 'linterna', 'celular', 'libro', 'encendedor', 'asador', 'computadora'} tiene utilidad 67.\n",
            "El conjunto {'lata', 'mapa', 'linterna', 'celular', 'libro', 'encendedor', 'asador', 'computadora'} tiene utilidad 53.\n",
            "El conjunto {'bolsa de dormir', 'mapa', 'linterna', 'celular', 'libro', 'encendedor', 'asador', 'computadora'} tiene utilidad 66.\n",
            "El conjunto {'lata', 'baterías', 'mapa', 'linterna', 'bolsa de dormir', 'celular', 'encendedor', 'asador'} tiene utilidad 68.\n",
            "El conjunto {'lata', 'baterías', 'mapa', 'linterna', 'bolsa de dormir', 'celular', 'encendedor', 'computadora'} tiene utilidad 69.\n",
            "El conjunto {'lata', 'baterías', 'mapa', 'linterna', 'bolsa de dormir', 'celular', 'asador', 'computadora'} tiene utilidad 67.\n",
            "El conjunto {'lata', 'baterías', 'mapa', 'linterna', 'bolsa de dormir', 'encendedor', 'asador', 'computadora'} tiene utilidad 68.\n",
            "El conjunto {'lata', 'baterías', 'bolsa de dormir', 'linterna', 'celular', 'encendedor', 'asador', 'computadora'} tiene utilidad 69.\n",
            "El conjunto {'lata', 'baterías', 'mapa', 'linterna', 'celular', 'encendedor', 'asador', 'computadora'} tiene utilidad 55.\n",
            "El conjunto {'baterías', 'bolsa de dormir', 'mapa', 'linterna', 'celular', 'encendedor', 'asador', 'computadora'} tiene utilidad 68.\n",
            "El conjunto {'lata', 'bolsa de dormir', 'mapa', 'linterna', 'celular', 'encendedor', 'asador', 'computadora'} tiene utilidad 71.\n",
            "El conjunto {'lata', 'bolsa de dormir', 'mapa', 'baterías', 'libro', 'celular', 'encendedor', 'asador'} tiene utilidad 60.\n",
            "El conjunto {'lata', 'bolsa de dormir', 'mapa', 'baterías', 'libro', 'celular', 'encendedor', 'computadora'} tiene utilidad 61.\n",
            "El conjunto {'lata', 'bolsa de dormir', 'mapa', 'baterías', 'libro', 'celular', 'asador', 'computadora'} tiene utilidad 59.\n",
            "El conjunto {'lata', 'bolsa de dormir', 'mapa', 'baterías', 'libro', 'encendedor', 'asador', 'computadora'} tiene utilidad 60.\n",
            "El conjunto {'lata', 'bolsa de dormir', 'baterías', 'celular', 'libro', 'encendedor', 'asador', 'computadora'} tiene utilidad 61.\n",
            "El conjunto {'lata', 'baterías', 'mapa', 'celular', 'libro', 'encendedor', 'asador', 'computadora'} tiene utilidad 47.\n",
            "El conjunto {'baterías', 'bolsa de dormir', 'mapa', 'celular', 'libro', 'encendedor', 'asador', 'computadora'} tiene utilidad 60.\n",
            "El conjunto {'lata', 'bolsa de dormir', 'mapa', 'celular', 'libro', 'encendedor', 'asador', 'computadora'} tiene utilidad 63.\n",
            "El conjunto {'lata', 'baterías', 'mapa', 'bolsa de dormir', 'celular', 'encendedor', 'asador', 'computadora'} tiene utilidad 65.\n",
            "El conjunto {'lata', 'bolsa de dormir', 'baterías', 'linterna', 'mapa', 'libro', 'celular', 'encendedor', 'asador'} tiene utilidad 70.\n",
            "El conjunto {'lata', 'bolsa de dormir', 'baterías', 'linterna', 'mapa', 'libro', 'celular', 'encendedor', 'computadora'} tiene utilidad 71.\n",
            "El conjunto {'lata', 'bolsa de dormir', 'baterías', 'linterna', 'mapa', 'libro', 'celular', 'asador', 'computadora'} tiene utilidad 69.\n",
            "El conjunto {'lata', 'bolsa de dormir', 'baterías', 'linterna', 'mapa', 'libro', 'encendedor', 'asador', 'computadora'} tiene utilidad 70.\n",
            "El conjunto {'lata', 'bolsa de dormir', 'baterías', 'linterna', 'libro', 'celular', 'encendedor', 'asador', 'computadora'} tiene utilidad 71.\n",
            "El conjunto {'lata', 'baterías', 'mapa', 'linterna', 'libro', 'celular', 'encendedor', 'asador', 'computadora'} tiene utilidad 57.\n",
            "El conjunto {'baterías', 'bolsa de dormir', 'mapa', 'linterna', 'libro', 'celular', 'encendedor', 'asador', 'computadora'} tiene utilidad 70.\n",
            "El conjunto {'lata', 'bolsa de dormir', 'mapa', 'linterna', 'libro', 'celular', 'encendedor', 'asador', 'computadora'} tiene utilidad 73.\n",
            "El conjunto {'lata', 'baterías', 'mapa', 'linterna', 'bolsa de dormir', 'celular', 'encendedor', 'asador', 'computadora'} tiene utilidad 75.\n",
            "El conjunto {'lata', 'bolsa de dormir', 'mapa', 'baterías', 'libro', 'celular', 'encendedor', 'asador', 'computadora'} tiene utilidad 67.\n",
            "El conjunto {'lata', 'bolsa de dormir', 'baterías', 'linterna', 'mapa', 'libro', 'celular', 'encendedor', 'asador', 'computadora'} tiene utilidad 77.\n"
          ]
        }
      ],
      "source": [
        "for conjunto in todos_subconjuntos(utilidad):\n",
        "    print(f\"El conjunto {conjunto} tiene utilidad {suma(conjunto, utilidad)}.\")"
      ]
    },
    {
      "cell_type": "markdown",
      "metadata": {
        "id": "wfkUVMu1lvkf"
      },
      "source": [
        "Definimos una función que dado un subconjunto de objetos y un límite, determine si el conjunto es factible (si su peso total es cuando mucho el límite).\n",
        "\n",
        "factible -> feasible\n",
        "\n"
      ]
    },
    {
      "cell_type": "code",
      "execution_count": 25,
      "metadata": {
        "colab": {
          "base_uri": "https://localhost:8080/"
        },
        "id": "amN6VHtqlvkf",
        "outputId": "9d2e97b1-eb02-4dfe-d590-7ff5a950f854"
      },
      "outputs": [
        {
          "output_type": "execute_result",
          "data": {
            "text/plain": [
              "False"
            ]
          },
          "metadata": {},
          "execution_count": 25
        }
      ],
      "source": [
        "def es_factible(conjunto, límite, parámetro=peso):\n",
        "    return suma(conjunto, parámetro) <= límite\n",
        "\n",
        "es_factible({\"bolsa de dormir\", \"asador\"}, 15)"
      ]
    },
    {
      "cell_type": "markdown",
      "metadata": {
        "id": "Tll6t3iGlvkg"
      },
      "source": [
        "Con esto, definimos una función para resolver el problema de la mochila.\n",
        "\n"
      ]
    },
    {
      "cell_type": "code",
      "execution_count": 26,
      "metadata": {
        "colab": {
          "base_uri": "https://localhost:8080/"
        },
        "id": "TT5_MIPYlvki",
        "outputId": "0c7bd6c9-aa90-4a65-9d93-5029d8e6b80a"
      },
      "outputs": [
        {
          "output_type": "execute_result",
          "data": {
            "text/plain": [
              "{'baterías',\n",
              " 'bolsa de dormir',\n",
              " 'computadora',\n",
              " 'encendedor',\n",
              " 'linterna',\n",
              " 'mapa'}"
            ]
          },
          "metadata": {},
          "execution_count": 26
        }
      ],
      "source": [
        "def problema_mochila(pesos, utilidades, límite):\n",
        "    subconjuntos = todos_subconjuntos(pesos)\n",
        "    conjunto_óptimo = set()\n",
        "    for conjunto in subconjuntos:\n",
        "        if es_factible(conjunto, límite, parámetro=pesos):\n",
        "            if suma(conjunto, utilidad) > suma(conjunto_óptimo, utilidad):\n",
        "                conjunto_óptimo = conjunto.copy()\n",
        "                # print(f\"El conjunto óptimo hasta ahora es {conjunto_óptimo}\")\n",
        "                # print(f\"Con peso {suma(conjunto_óptimo, peso)} y utilidad {suma(conjunto_óptimo, utilidad)}\")\n",
        "    return conjunto_óptimo\n",
        "\n",
        "resultado = problema_mochila(peso, utilidad, 15)\n",
        "resultado"
      ]
    },
    {
      "cell_type": "code",
      "execution_count": 27,
      "metadata": {
        "colab": {
          "base_uri": "https://localhost:8080/"
        },
        "id": "di93WQE0lvkj",
        "outputId": "0ce8b60a-47ed-4abf-bbf2-040129a22f3a"
      },
      "outputs": [
        {
          "output_type": "execute_result",
          "data": {
            "text/plain": [
              "(55, 15)"
            ]
          },
          "metadata": {},
          "execution_count": 27
        }
      ],
      "source": [
        "suma(resultado, utilidad), suma(resultado, peso)"
      ]
    },
    {
      "cell_type": "markdown",
      "metadata": {
        "id": "6haq6O_rlvkk"
      },
      "source": [
        "## Otra manera de resolver el problema\n",
        "\n"
      ]
    },
    {
      "cell_type": "markdown",
      "metadata": {
        "id": "rQwrZB4Blvkk"
      },
      "source": [
        "Usaremos que la función `max` obtiene el máximo de los elementos de una lista\n",
        "\n"
      ]
    },
    {
      "cell_type": "code",
      "execution_count": 28,
      "metadata": {
        "colab": {
          "base_uri": "https://localhost:8080/"
        },
        "id": "MscuNgdYlvkk",
        "outputId": "42474de7-8ce1-4b3b-ee75-0970ca8b7f72"
      },
      "outputs": [
        {
          "output_type": "execute_result",
          "data": {
            "text/plain": [
              "21"
            ]
          },
          "metadata": {},
          "execution_count": 28
        }
      ],
      "source": [
        "max([3, 4, 21, 20, 5, -3, 9, 12])"
      ]
    },
    {
      "cell_type": "markdown",
      "source": [
        "cual de los números es el máximo"
      ],
      "metadata": {
        "id": "QMhba_nPpipz"
      }
    },
    {
      "cell_type": "markdown",
      "metadata": {
        "id": "S8c6T920lvkl"
      },
      "source": [
        "También funciona en tuplas, puesto que las tuplas se ordenan por *orden del diccionario*.\n",
        "\n"
      ]
    },
    {
      "cell_type": "code",
      "execution_count": 29,
      "metadata": {
        "colab": {
          "base_uri": "https://localhost:8080/"
        },
        "id": "VAXj87E5lvkl",
        "outputId": "f04b4884-6f73-4190-f2a3-4cc8fa632a9a"
      },
      "outputs": [
        {
          "output_type": "execute_result",
          "data": {
            "text/plain": [
              "(4, 8)"
            ]
          },
          "metadata": {},
          "execution_count": 29
        }
      ],
      "source": [
        "max([(2, 10), (4, 3), (-2, 3), (4, 8)])"
      ]
    },
    {
      "cell_type": "code",
      "execution_count": 30,
      "metadata": {
        "colab": {
          "base_uri": "https://localhost:8080/"
        },
        "id": "pp7iEL--lvkm",
        "outputId": "1d0272ca-ed35-488c-aa2d-6d1b11e6dfa1"
      },
      "outputs": [
        {
          "output_type": "execute_result",
          "data": {
            "text/plain": [
              "(True, 1024)"
            ]
          },
          "metadata": {},
          "execution_count": 30
        }
      ],
      "source": [
        "todos = todos_subconjuntos(peso)\n",
        "len(todos) == 2**len(peso), len(todos)"
      ]
    },
    {
      "cell_type": "markdown",
      "metadata": {
        "id": "VG-hcJFUlvkm"
      },
      "source": [
        "Vamos ahora a filtrar los subconjuntos factibles.\n",
        "\n"
      ]
    },
    {
      "cell_type": "code",
      "execution_count": 31,
      "metadata": {
        "colab": {
          "base_uri": "https://localhost:8080/"
        },
        "id": "vDZzrs6Vlvkn",
        "outputId": "fc27c89d-fbb4-4097-e5a7-b166360bc7b6"
      },
      "outputs": [
        {
          "output_type": "execute_result",
          "data": {
            "text/plain": [
              "410"
            ]
          },
          "metadata": {},
          "execution_count": 31
        }
      ],
      "source": [
        "factibles = [sub for sub in todos if es_factible(sub, 15)]\n",
        "len(factibles)"
      ]
    },
    {
      "cell_type": "code",
      "execution_count": 32,
      "metadata": {
        "colab": {
          "base_uri": "https://localhost:8080/"
        },
        "id": "b6Lblmc3lvkn",
        "outputId": "9d5d4f33-b9b0-4c3a-cbf9-6d7a7c0366c5"
      },
      "outputs": [
        {
          "output_type": "execute_result",
          "data": {
            "text/plain": [
              "(55,\n",
              " {'baterías',\n",
              "  'bolsa de dormir',\n",
              "  'computadora',\n",
              "  'encendedor',\n",
              "  'linterna',\n",
              "  'mapa'},\n",
              " 15)"
            ]
          },
          "metadata": {},
          "execution_count": 32
        }
      ],
      "source": [
        "utilidades = [(suma(sub, utilidad), sub, suma(sub, peso)) for sub in factibles]\n",
        "max(utilidades)"
      ]
    },
    {
      "cell_type": "code",
      "execution_count": 33,
      "metadata": {
        "colab": {
          "base_uri": "https://localhost:8080/"
        },
        "id": "oPVys6YMlvko",
        "outputId": "0ba2de58-bfd8-4515-d27a-01208569460a"
      },
      "outputs": [
        {
          "output_type": "execute_result",
          "data": {
            "text/plain": [
              "[]"
            ]
          },
          "metadata": {},
          "execution_count": 33
        }
      ],
      "source": [
        "[]"
      ]
    },
    {
      "cell_type": "markdown",
      "metadata": {
        "id": "gUgA6kgqlvko"
      },
      "source": [
        "## Tarea\n",
        "\n"
      ]
    },
    {
      "cell_type": "markdown",
      "metadata": {
        "id": "9Wp78KdElvko"
      },
      "source": [
        "TAREA: Generar datos para el problema de la mochila.\n",
        "\n",
        "Sirve la biblioteca `random`\n",
        "\n"
      ]
    },
    {
      "cell_type": "code",
      "execution_count": 34,
      "metadata": {
        "colab": {
          "base_uri": "https://localhost:8080/"
        },
        "id": "9lACp750lvkp",
        "outputId": "d172ef19-09d2-424f-ba56-d756ee3c680f"
      },
      "outputs": [
        {
          "output_type": "execute_result",
          "data": {
            "text/plain": [
              "0"
            ]
          },
          "metadata": {},
          "execution_count": 34
        }
      ],
      "source": [
        "from random import randint\n",
        "\n",
        "randint(0,20)"
      ]
    },
    {
      "cell_type": "code",
      "execution_count": 35,
      "metadata": {
        "colab": {
          "base_uri": "https://localhost:8080/"
        },
        "id": "2000-Q1mlvkp",
        "outputId": "41cb182a-f36a-4c0e-f78a-29943225d2e9"
      },
      "outputs": [
        {
          "output_type": "execute_result",
          "data": {
            "text/plain": [
              "({0: 22, 1: 25, 2: 27, 3: 11, 4: 2, 5: 18, 6: 23, 7: 10, 8: 22, 9: 14},\n",
              " {0: 1, 1: 3, 2: 30, 3: 30, 4: 24, 5: 3, 6: 23, 7: 17, 8: 7, 9: 18})"
            ]
          },
          "metadata": {},
          "execution_count": 35
        }
      ],
      "source": [
        "peso = {i: randint(1, 30) for i in range(10)}\n",
        "utilidad = {i: randint(1, 30) for i in range(10)}\n",
        "peso, utilidad"
      ]
    },
    {
      "cell_type": "markdown",
      "metadata": {
        "id": "UVy5cpABlvkq"
      },
      "source": [
        "27, 10\n",
        "8, 10\n",
        "11, 2\n",
        "22, 6\n",
        "\n"
      ]
    },
    {
      "cell_type": "code",
      "execution_count": 36,
      "metadata": {
        "colab": {
          "base_uri": "https://localhost:8080/"
        },
        "id": "Rfexjy3Zlvkq",
        "outputId": "f3a5ead0-c0fa-41d6-92a3-c0fdc0b8a6f9"
      },
      "outputs": [
        {
          "output_type": "execute_result",
          "data": {
            "text/plain": [
              "{3, 4}"
            ]
          },
          "metadata": {},
          "execution_count": 36
        }
      ],
      "source": [
        "resultado = problema_mochila(peso, utilidad, 16)\n",
        "resultado"
      ]
    },
    {
      "cell_type": "code",
      "execution_count": 37,
      "metadata": {
        "colab": {
          "base_uri": "https://localhost:8080/"
        },
        "id": "gTN55JBalvkr",
        "outputId": "a5fc00ab-002a-48b4-80ce-a1461b7df053"
      },
      "outputs": [
        {
          "output_type": "execute_result",
          "data": {
            "text/plain": [
              "(54, 13)"
            ]
          },
          "metadata": {},
          "execution_count": 37
        }
      ],
      "source": [
        "suma(resultado, utilidad), suma(resultado, peso)"
      ]
    },
    {
      "cell_type": "markdown",
      "metadata": {
        "id": "uaDTPpsflvkr"
      },
      "source": [
        "Un aspecto que podemos mejorar, es que los datos que definen una instancia del problema de la mochila deben considerarse como un todo. Un intento de resolverlo, podría ser que incluyéramos en un diccionario, juntos el peso y la utilidad.\n",
        "\n"
      ]
    },
    {
      "cell_type": "code",
      "execution_count": 38,
      "metadata": {
        "colab": {
          "base_uri": "https://localhost:8080/"
        },
        "id": "LNoE_0sMlvkr",
        "outputId": "ba04728b-30e8-41f1-dc96-d0f79c36ab14"
      },
      "outputs": [
        {
          "output_type": "execute_result",
          "data": {
            "text/plain": [
              "{0: [14, 14],\n",
              " 1: [5, 10],\n",
              " 2: [14, 2],\n",
              " 3: [8, 9],\n",
              " 4: [4, 7],\n",
              " 5: [7, 1],\n",
              " 6: [3, 12],\n",
              " 7: [4, 10],\n",
              " 8: [5, 3],\n",
              " 9: [17, 14]}"
            ]
          },
          "metadata": {},
          "execution_count": 38
        }
      ],
      "source": [
        "datos_mochila = {i: [randint(1, 20), randint(1,20)] for i in range(10)}\n",
        "datos_mochila"
      ]
    },
    {
      "cell_type": "markdown",
      "metadata": {
        "id": "PT_uVMrqlvkr"
      },
      "source": [
        "Pero en este caso, podríamos olvidar que el primer elemento de la lista es el peso y el segundo la utilidad. Más adelante, cuando veamos el concepto *clases*, éste nos servirá para crear nuevos objetos con las características que deseemos, como por ejemplo, juntar la lista de objetos, sus utilidades, sus pesos, y el límite de la mochila en un solo objeto.\n",
        "\n"
      ]
    },
    {
      "cell_type": "code",
      "execution_count": 39,
      "metadata": {
        "colab": {
          "base_uri": "https://localhost:8080/"
        },
        "id": "k-IynCZmlvks",
        "outputId": "035e7356-d393-4b26-a4ad-86fd0cdf9a3f"
      },
      "outputs": [
        {
          "output_type": "execute_result",
          "data": {
            "text/plain": [
              "({0: 22, 1: 25, 2: 27, 3: 11, 4: 2, 5: 18, 6: 23, 7: 10, 8: 22, 9: 14},\n",
              " {0: 1, 1: 3, 2: 30, 3: 30, 4: 24, 5: 3, 6: 23, 7: 17, 8: 7, 9: 18},\n",
              " 40)"
            ]
          },
          "metadata": {},
          "execution_count": 39
        }
      ],
      "source": [
        "problema = (peso, utilidad, 40)\n",
        "problema"
      ]
    },
    {
      "cell_type": "markdown",
      "metadata": {
        "id": "oB1-XuJclvks"
      },
      "source": [
        "*unpacking*  <- Desempacar una tupla, para poder usar sus tres componentes como argumentos de una función que espera los tres argumentos.\n",
        "\n"
      ]
    },
    {
      "cell_type": "code",
      "execution_count": 40,
      "metadata": {
        "colab": {
          "base_uri": "https://localhost:8080/"
        },
        "id": "ENyTWvVJlvks",
        "outputId": "8ac323b9-8241-4dd0-8eaf-30eac58f7665"
      },
      "outputs": [
        {
          "output_type": "execute_result",
          "data": {
            "text/plain": [
              "{3, 4, 7, 9}"
            ]
          },
          "metadata": {},
          "execution_count": 40
        }
      ],
      "source": [
        "problema_mochila(*problema)"
      ]
    }
  ],
  "metadata": {
    "org": null,
    "kernelspec": {
      "display_name": "Python 3",
      "language": "python",
      "name": "python3"
    },
    "language_info": {
      "codemirror_mode": {
        "name": "ipython",
        "version": 3
      },
      "file_extension": ".py",
      "mimetype": "text/x-python",
      "name": "python",
      "nbconvert_exporter": "python",
      "pygments_lexer": "ipython3",
      "version": "3.5.2"
    },
    "colab": {
      "provenance": [],
      "include_colab_link": true
    }
  },
  "nbformat": 4,
  "nbformat_minor": 0
}