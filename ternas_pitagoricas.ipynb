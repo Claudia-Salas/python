{
  "nbformat": 4,
  "nbformat_minor": 0,
  "metadata": {
    "colab": {
      "provenance": [],
      "authorship_tag": "ABX9TyP4AjWpAQV3fOOS98qproRe",
      "include_colab_link": true
    },
    "kernelspec": {
      "name": "python3",
      "display_name": "Python 3"
    },
    "language_info": {
      "name": "python"
    }
  },
  "cells": [
    {
      "cell_type": "markdown",
      "metadata": {
        "id": "view-in-github",
        "colab_type": "text"
      },
      "source": [
        "<a href=\"https://colab.research.google.com/github/Claudia-Salas/python/blob/main/ternas_pitagoricas.ipynb\" target=\"_parent\"><img src=\"https://colab.research.google.com/assets/colab-badge.svg\" alt=\"Open In Colab\"/></a>"
      ]
    },
    {
      "cell_type": "code",
      "execution_count": null,
      "metadata": {
        "id": "73dSHkTEXlm3"
      },
      "outputs": [],
      "source": [
        "x=[i**2 for i in range(1,1001)]\n",
        "y=[i**2 for i in range(1,1001)]\n",
        "z=[i**2 for i in range(1,1001)]\n",
        "\n",
        "def terna(a,b,c):\n",
        "    ternas_Pitagoricas=[]\n",
        "    if a+b==c:\n",
        "        ternas_Pitagoricas.append((a,b,c))\n",
        "        print(a,b,c)\n",
        "for i in range(1000):\n",
        "    for j in range(1000):\n",
        "        for k in range(1000):\n",
        "            terna(x[i],y[j],z[k])"
      ]
    }
  ]
}