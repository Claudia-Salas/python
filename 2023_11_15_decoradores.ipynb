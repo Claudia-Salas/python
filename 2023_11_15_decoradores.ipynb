{
  "cells": [
    {
      "cell_type": "markdown",
      "metadata": {
        "id": "view-in-github",
        "colab_type": "text"
      },
      "source": [
        "<a href=\"https://colab.research.google.com/github/Claudia-Salas/python/blob/main/2023_11_15_decoradores.ipynb\" target=\"_parent\"><img src=\"https://colab.research.google.com/assets/colab-badge.svg\" alt=\"Open In Colab\"/></a>"
      ]
    },
    {
      "cell_type": "markdown",
      "metadata": {
        "id": "6e6fkOm-9ZoQ"
      },
      "source": [
        "Decoradores\n",
        "===========\n",
        "\n",
        "**Date:** 2023-11-15\n",
        "\n"
      ]
    },
    {
      "cell_type": "markdown",
      "metadata": {
        "id": "aaxmKgmp9ZoU"
      },
      "source": [
        "## Idea\n",
        "\n"
      ]
    },
    {
      "cell_type": "markdown",
      "metadata": {
        "id": "mBBP8zSn9ZoV"
      },
      "source": [
        "Los *decorators* son un caso particular de funciones que aceptan funciones y regresan funciones. Por ejemplo:\n",
        "\n"
      ]
    },
    {
      "cell_type": "code",
      "execution_count": 5,
      "metadata": {
        "colab": {
          "base_uri": "https://localhost:8080/"
        },
        "id": "E1s3D9ds9ZoW",
        "outputId": "12aa9f78-418e-4ea1-cbf2-e304f270ca30"
      },
      "outputs": [
        {
          "output_type": "stream",
          "name": "stdout",
          "text": [
            "Voy a ejecutar una función\n",
            "Hola mundo\n",
            "Ya terminé\n"
          ]
        }
      ],
      "source": [
        "def saludo_func(func):\n",
        "    def salida():\n",
        "        print(\"Voy a ejecutar una función\")\n",
        "        func()\n",
        "        print(\"Ya terminé\")\n",
        "    return salida\n",
        "\n",
        "def hello():\n",
        "    print(\"Hello world\")\n",
        "\n",
        "def hola():\n",
        "    print(\"Hola mundo\")\n",
        "\n",
        "\n",
        "#hello()\n",
        "#hello2 = saludo_func(hello)\n",
        "#hello2()\n",
        "hola = saludo_func(hola)\n",
        "hola()"
      ]
    },
    {
      "cell_type": "markdown",
      "source": [
        "execute_twice hace que la funcion que le demos la regresa dos veces"
      ],
      "metadata": {
        "id": "hwQyD6tO-rHn"
      }
    },
    {
      "cell_type": "code",
      "execution_count": 6,
      "metadata": {
        "colab": {
          "base_uri": "https://localhost:8080/"
        },
        "id": "jlRj1kqO9ZoX",
        "outputId": "7f017020-d012-499d-9927-82e592925494"
      },
      "outputs": [
        {
          "output_type": "stream",
          "name": "stdout",
          "text": [
            "Hello world\n",
            "Hello world\n"
          ]
        }
      ],
      "source": [
        "def execute_twice(func):\n",
        "    def twice():\n",
        "        func()\n",
        "        func()\n",
        "    return twice\n",
        "\n",
        "hello3 = execute_twice(hello)\n",
        "hello3()"
      ]
    },
    {
      "cell_type": "markdown",
      "metadata": {
        "id": "0oIgLTqh9ZoY"
      },
      "source": [
        "Un resultado parecido se obtiene \"decorando\" la función.\n",
        "\n"
      ]
    },
    {
      "cell_type": "code",
      "execution_count": 7,
      "metadata": {
        "colab": {
          "base_uri": "https://localhost:8080/"
        },
        "id": "eOencDes9ZoY",
        "outputId": "081b2591-4b79-43b7-b60f-d736579edd64"
      },
      "outputs": [
        {
          "output_type": "stream",
          "name": "stdout",
          "text": [
            "Voy a ejecutar una función\n",
            "Hola mundo\n",
            "Ya terminé\n"
          ]
        }
      ],
      "source": [
        "@saludo_func\n",
        "def hello():\n",
        "    print(\"Hello world\")\n",
        "\n",
        "@saludo_func\n",
        "def hola():\n",
        "    print(\"Hola mundo\")\n",
        "\n",
        "hola()"
      ]
    },
    {
      "cell_type": "code",
      "execution_count": 8,
      "metadata": {
        "colab": {
          "base_uri": "https://localhost:8080/"
        },
        "id": "PJiY0pe69ZoZ",
        "outputId": "6f77d50e-30b6-45e8-b0c9-a8470be8e1cb"
      },
      "outputs": [
        {
          "output_type": "stream",
          "name": "stdout",
          "text": [
            "Hola mundo\n",
            "Hola mundo\n"
          ]
        }
      ],
      "source": [
        "@execute_twice\n",
        "def hola():\n",
        "    print(\"Hola mundo\")\n",
        "\n",
        "hola()"
      ]
    },
    {
      "cell_type": "markdown",
      "metadata": {
        "id": "pNT3acCC9Zoa"
      },
      "source": [
        "Si queremos decorar una función con argumentos, así como lo tenemos definido, no funciona, pues tenemos que pasar los argumentos de la función decorada. Como queremos que el decorador sirva para cualquier cantidad y tipo de argumentos, usaremos la sintaxis que nos permite un número arbitrario de argumentos.\n",
        "\n"
      ]
    },
    {
      "cell_type": "code",
      "execution_count": 9,
      "metadata": {
        "colab": {
          "base_uri": "https://localhost:8080/",
          "height": 219
        },
        "id": "K2U9Qj6A9Zob",
        "outputId": "3e224093-4fc9-45e3-9329-a513e6744357"
      },
      "outputs": [
        {
          "output_type": "error",
          "ename": "TypeError",
          "evalue": "ignored",
          "traceback": [
            "\u001b[0;31m---------------------------------------------------------------------------\u001b[0m",
            "\u001b[0;31mTypeError\u001b[0m                                 Traceback (most recent call last)",
            "\u001b[0;32m<ipython-input-9-84c8c5020702>\u001b[0m in \u001b[0;36m<cell line: 5>\u001b[0;34m()\u001b[0m\n\u001b[1;32m      3\u001b[0m     \u001b[0mprint\u001b[0m\u001b[0;34m(\u001b[0m\u001b[0;34mf\"La suma es {x+y}\"\u001b[0m\u001b[0;34m)\u001b[0m\u001b[0;34m\u001b[0m\u001b[0;34m\u001b[0m\u001b[0m\n\u001b[1;32m      4\u001b[0m \u001b[0;34m\u001b[0m\u001b[0m\n\u001b[0;32m----> 5\u001b[0;31m \u001b[0msuma\u001b[0m\u001b[0;34m(\u001b[0m\u001b[0;36m2\u001b[0m\u001b[0;34m,\u001b[0m \u001b[0;36m3\u001b[0m\u001b[0;34m)\u001b[0m\u001b[0;34m\u001b[0m\u001b[0;34m\u001b[0m\u001b[0m\n\u001b[0m",
            "\u001b[0;31mTypeError\u001b[0m: saludo_func.<locals>.salida() takes 0 positional arguments but 2 were given"
          ]
        }
      ],
      "source": [
        "@saludo_func\n",
        "def suma(x, y):\n",
        "    print(f\"La suma es {x+y}\")\n",
        "\n",
        "suma(2, 3)"
      ]
    },
    {
      "cell_type": "markdown",
      "metadata": {
        "id": "uCQxy8oX9Zob"
      },
      "source": [
        "Como ejemplo de esa sintaxis:\n",
        "\n"
      ]
    },
    {
      "cell_type": "markdown",
      "source": [
        "el asterisco hace que lo que sea que le mande en args lo convierte en tupla"
      ],
      "metadata": {
        "id": "aFRICHAjAJu5"
      }
    },
    {
      "cell_type": "code",
      "execution_count": 16,
      "metadata": {
        "colab": {
          "base_uri": "https://localhost:8080/"
        },
        "id": "1kfzKKuk9Zob",
        "outputId": "89017fc7-5b0b-4ed3-d18f-fc68c08c08e1"
      },
      "outputs": [
        {
          "output_type": "stream",
          "name": "stdout",
          "text": [
            "<class 'tuple'>\n",
            "<class 'tuple'>\n"
          ]
        },
        {
          "output_type": "execute_result",
          "data": {
            "text/plain": [
              "(1, 'hola')"
            ]
          },
          "metadata": {},
          "execution_count": 16
        }
      ],
      "source": [
        "def muchos_argumentos(*args):\n",
        "    print(type(args))\n",
        "    return args[0]\n",
        "\n",
        "muchos_argumentos(1, 2, 3), muchos_argumentos(\"hola\", \"adios\")"
      ]
    },
    {
      "cell_type": "markdown",
      "source": [
        "los dos asteriscos hace que lo que le demos a kwargs lo convierte en diccionario"
      ],
      "metadata": {
        "id": "2nw1ETl4At4E"
      }
    },
    {
      "cell_type": "code",
      "execution_count": 15,
      "metadata": {
        "colab": {
          "base_uri": "https://localhost:8080/",
          "height": 73
        },
        "id": "IywY9ISt9Zoc",
        "outputId": "2b906ca4-3b6b-47c6-a776-65fc6545fdf5"
      },
      "outputs": [
        {
          "output_type": "stream",
          "name": "stdout",
          "text": [
            "<class 'dict'>\n",
            "{'inicio': 'hola', 'final': 'adios', 'cantidad': 3}\n"
          ]
        },
        {
          "output_type": "execute_result",
          "data": {
            "text/plain": [
              "'hola'"
            ],
            "application/vnd.google.colaboratory.intrinsic+json": {
              "type": "string"
            }
          },
          "metadata": {},
          "execution_count": 15
        }
      ],
      "source": [
        "def argumentos_keyword(**kwargs):\n",
        "    print(type(kwargs))\n",
        "    print(kwargs)\n",
        "    return kwargs['inicio']\n",
        "\n",
        "argumentos_keyword(inicio=\"hola\", final=\"adios\", cantidad=3)"
      ]
    },
    {
      "cell_type": "code",
      "execution_count": 25,
      "metadata": {
        "colab": {
          "base_uri": "https://localhost:8080/"
        },
        "id": "dmbI0T-R9Zoc",
        "outputId": "65e68f48-d580-4bfc-a8ca-7c99d75c78ee"
      },
      "outputs": [
        {
          "output_type": "stream",
          "name": "stdout",
          "text": [
            "Voy a ejecutar una función\n",
            "La suma es 15\n",
            "Ya terminé\n"
          ]
        }
      ],
      "source": [
        "def saludo_func(func):\n",
        "    def salida(*args, **kwargs):\n",
        "        print(\"Voy a ejecutar una función\")\n",
        "        func(*args, **kwargs)\n",
        "        print(\"Ya terminé\")\n",
        "    return salida\n",
        "\n",
        "@saludo_func\n",
        "def suma(*args):\n",
        "    print(f\"La suma es {sum(args)}\")\n",
        "\n",
        "suma(2, 3, 6, 4)"
      ]
    },
    {
      "cell_type": "markdown",
      "metadata": {
        "id": "QijHJAas9Zoc"
      },
      "source": [
        "**TAREA** Hacer una nueva versión de la función `suma` que acepte una cantidad arbitraria de argumentos numéricos y regrese la suma. A continuación, decorar esa nueva versión con `saludo_func`.\n",
        "\n"
      ]
    },
    {
      "cell_type": "code",
      "execution_count": 26,
      "metadata": {
        "colab": {
          "base_uri": "https://localhost:8080/"
        },
        "id": "cW4kiov49Zod",
        "outputId": "97f7c6c2-1f26-48c1-9535-994d206d1e12"
      },
      "outputs": [
        {
          "output_type": "stream",
          "name": "stdout",
          "text": [
            "Hola\n",
            "Hola\n",
            "Hola\n",
            "Hola\n"
          ]
        }
      ],
      "source": [
        "def saludos(veces, saludo=\"Hola\"):\n",
        "    for i in range(veces):\n",
        "        print(saludo)\n",
        "\n",
        "saludos(4)"
      ]
    },
    {
      "cell_type": "code",
      "execution_count": 27,
      "metadata": {
        "colab": {
          "base_uri": "https://localhost:8080/"
        },
        "id": "B9kZDLt59Zod",
        "outputId": "804f4f96-2aa7-4a6d-bd76-c1a96be0e21d"
      },
      "outputs": [
        {
          "output_type": "stream",
          "name": "stdout",
          "text": [
            "Voy a ejecutar una función\n",
            "Adiós\n",
            "Adiós\n",
            "Adiós\n",
            "Ya terminé\n"
          ]
        }
      ],
      "source": [
        "@saludo_func\n",
        "def saludos(veces, saludo=\"Hola\"):\n",
        "    for i in range(veces):\n",
        "        print(saludo)\n",
        "\n",
        "saludos(3, saludo=\"Adiós\")"
      ]
    },
    {
      "cell_type": "markdown",
      "metadata": {
        "id": "YHm97a1Q9Zod"
      },
      "source": [
        "En los ejemplos anteriores hemos utilizado funciones con *efectos secundarios* (como *print*). Supongamos que queremos decorar una función que regrese algo.\n",
        "\n"
      ]
    },
    {
      "cell_type": "code",
      "execution_count": 28,
      "metadata": {
        "colab": {
          "base_uri": "https://localhost:8080/"
        },
        "id": "aR4SkuZi9Zod",
        "outputId": "fd056294-ff3e-4065-dbf3-8d0f8b41efe2"
      },
      "outputs": [
        {
          "output_type": "stream",
          "name": "stdout",
          "text": [
            "El resultado es:\n",
            "El resultado es:\n"
          ]
        }
      ],
      "source": [
        "def ejecuta_doble(func):\n",
        "    def decorador(*args, **kwargs):\n",
        "        func(*args, **kwargs)\n",
        "        func(*args, **kwargs)\n",
        "    return decorador\n",
        "\n",
        "@ejecuta_doble\n",
        "def suma(x, y):\n",
        "    print(\"El resultado es:\")\n",
        "    return x+y\n",
        "\n",
        "suma(2, 3)"
      ]
    },
    {
      "cell_type": "markdown",
      "metadata": {
        "id": "Ov0s75qE9Zoe"
      },
      "source": [
        "Para que funcione, el decorador debe de regresar el resultado de la función decorada.\n",
        "\n"
      ]
    },
    {
      "cell_type": "code",
      "execution_count": 29,
      "metadata": {
        "colab": {
          "base_uri": "https://localhost:8080/"
        },
        "id": "aTeY1Yvr9Zoe",
        "outputId": "6a94a2e2-9cdc-40cd-e5e2-9f9b98ea4ebf"
      },
      "outputs": [
        {
          "output_type": "stream",
          "name": "stdout",
          "text": [
            "El resultado es:\n",
            "El resultado es:\n",
            "El resultado es:\n"
          ]
        }
      ],
      "source": [
        "def ejecuta_doble(func):\n",
        "    def decorador(*args, **kwargs):\n",
        "        func(*args, **kwargs)\n",
        "        func(*args, **kwargs)\n",
        "        return func(*args, **kwargs)\n",
        "    return decorador\n",
        "\n",
        "@ejecuta_doble\n",
        "def suma(x, y):\n",
        "    print(\"El resultado es:\")\n",
        "    return x+y\n",
        "\n",
        "a = suma(2, 3)"
      ]
    },
    {
      "cell_type": "code",
      "execution_count": null,
      "metadata": {
        "id": "sFLU-ptu9Zoe"
      },
      "outputs": [],
      "source": [
        "a"
      ]
    },
    {
      "cell_type": "markdown",
      "metadata": {
        "id": "o9eY2WVJ9Zoe"
      },
      "source": [
        "## Decoradores predefinidos\n",
        "\n"
      ]
    },
    {
      "cell_type": "markdown",
      "metadata": {
        "id": "6C_jetT99Zoe"
      },
      "source": [
        "### property\n",
        "\n"
      ]
    },
    {
      "cell_type": "markdown",
      "metadata": {
        "id": "S2iE9ogc9Zoe"
      },
      "source": [
        "Recordemos la clase que definimos para números complejos:\n",
        "\n"
      ]
    },
    {
      "cell_type": "code",
      "execution_count": 36,
      "metadata": {
        "colab": {
          "base_uri": "https://localhost:8080/"
        },
        "id": "dHm6y9Px9Zof",
        "outputId": "8098b119-5beb-4cd6-ea2f-9b3fc5b50d4d"
      },
      "outputs": [
        {
          "output_type": "execute_result",
          "data": {
            "text/plain": [
              "(3, -1, 3.1622776601683795)"
            ]
          },
          "metadata": {},
          "execution_count": 36
        }
      ],
      "source": [
        "from math import sqrt\n",
        "\n",
        "class NúmeroComplejo:\n",
        "    def __init__(self, parte_real, parte_imaginaria):\n",
        "        self.r = parte_real\n",
        "        self.i = parte_imaginaria\n",
        "\n",
        "    def módulo(self):\n",
        "        return sqrt(self.r**2 + self.i**2)\n",
        "\n",
        "z = NúmeroComplejo(3, -1)\n",
        "z.r, z.i, z.módulo()"
      ]
    },
    {
      "cell_type": "markdown",
      "metadata": {
        "id": "Ksw5UW5J9Zof"
      },
      "source": [
        "En este caso, `módulo` es en realidad un atributo del número complejo, pero como está calculado por una función, se deben incluir los paréntesis. Pero decorando el método con `@property` (que ya viene definido con Python), se puede convertir en atributo.\n",
        "\n"
      ]
    },
    {
      "cell_type": "code",
      "execution_count": 54,
      "metadata": {
        "colab": {
          "base_uri": "https://localhost:8080/"
        },
        "id": "xicU3lLK9Zof",
        "outputId": "31e172c3-3db0-4148-ec6b-bc7ff06fa3d3"
      },
      "outputs": [
        {
          "output_type": "execute_result",
          "data": {
            "text/plain": [
              "(3, -1, 3.1622776601683795)"
            ]
          },
          "metadata": {},
          "execution_count": 54
        }
      ],
      "source": [
        "from math import sqrt\n",
        "\n",
        "class NúmeroComplejo:\n",
        "    def __init__(self, parte_real, parte_imaginaria):\n",
        "        self.r = parte_real\n",
        "        self.i = parte_imaginaria\n",
        "\n",
        "    @property\n",
        "    def módulo(self):\n",
        "        return sqrt(self.r**2 + self.i**2)\n",
        "\n",
        "z = NúmeroComplejo(3, -1)\n",
        "z.r, z.i, z.módulo"
      ]
    },
    {
      "cell_type": "markdown",
      "metadata": {
        "id": "qW0jEr9I9Zof"
      },
      "source": [
        "### cache\n",
        "\n"
      ]
    },
    {
      "cell_type": "code",
      "execution_count": 51,
      "metadata": {
        "colab": {
          "base_uri": "https://localhost:8080/"
        },
        "id": "f0jzZ6il9Zof",
        "outputId": "aa420fad-c9f9-4cf8-fdea-4c1b189e057d"
      },
      "outputs": [
        {
          "output_type": "stream",
          "name": "stdout",
          "text": [
            "CPU times: user 0 ns, sys: 458 µs, total: 458 µs\n",
            "Wall time: 466 µs\n"
          ]
        },
        {
          "output_type": "execute_result",
          "data": {
            "text/plain": [
              "64034522846623895262347970319503005850702583026002959458684445942802397169186831436278478647463264676294350575035856810848298162883517435228961988646802997937341654150838162426461942352307046244325015114448670890662773914918117331955996440709549671345290477020322434911210797593280795101545372667251627877890009349763765710326350331533965349868386831339352024373788157786791506311858702618270169819740062983025308591298346162272304558339520759611505302236086810433297255194852674432232438669948422404232599805551610635942376961399231917134063858996537970147827206606320217379472010321356624613809077942304597360699567595836096158715129913822286578579549361617654480453222007825818400848436415591229454275384803558374518022675900061399560145595206127211192918105032491008000000000000000000000000000000000000000000000000000000000000000000000000000000000000000000000000000"
            ]
          },
          "metadata": {},
          "execution_count": 51
        }
      ],
      "source": [
        "from functools import cache\n",
        "\n",
        "@cache\n",
        "def factorial(n):\n",
        "    return n * factorial(n-1) if n else 1\n",
        "\n",
        "%time factorial(400)"
      ]
    },
    {
      "cell_type": "code",
      "execution_count": 60,
      "metadata": {
        "colab": {
          "base_uri": "https://localhost:8080/"
        },
        "id": "_tjx0E5a9Zof",
        "outputId": "720bf629-d727-4423-d2be-44ea5621d26f"
      },
      "outputs": [
        {
          "output_type": "stream",
          "name": "stdout",
          "text": [
            "CPU times: user 13 µs, sys: 1e+03 ns, total: 14 µs\n",
            "Wall time: 17.9 µs\n"
          ]
        },
        {
          "output_type": "execute_result",
          "data": {
            "text/plain": [
              "402789647337170867317246136356926989705094239074925347176343710340368450911027649612636252695456374205280468598807393254690298539867803367460225153499614535588421928591160833678742451354915921252299285456946271396995850437959540645019696372741142787347450281325324373824456300226871609431497826989489109522725791691167945698509282421538632966523376679891823696900982075223188279465194065489111498586522997573307838057934994706212934291477882221464914058745808179795130018969175605739824237247684512790169648013778158661520384916357285547219660337504067910087936301580874662367543921288988208261944834178369169805682489420504038334529389177845089679546075023305854006141256288633820079940395329251563788399404652902154519302928365169452383531030755684578503851488154092323576150311569325891190105926118761607100286827930472944913272420825078912158741589850136017030887975452922434889688775883386977825215904423682478943313806072144097432418695807412571292308739802481089407002523955080148184062810447564594783139830113821372260474145316521647368313934670783858482781506915288378941348078689691815657785305896912277993200639858696294199549107738635599538328374931258525869323348477334798827676297868823693023377418942304272267800509765805435653787530370118261219994752588866451072715583785495394684524593296728611334955079882857173250037068541860372512693170819259309411027837176612444692649174536429745421086287708588130082168792750697158901737130221751430550976429258055277255676893874108456870904122902259417224707137723406125811549952159629766771063079472679280213882978523785424760309678138268708239764925768714349554665438389311198715040908077757086900159389712443987670244241787904585093011546861502058550090914877900852701619648229332192401075747543562989953271508977501771085759521631427816116191761031257454497039673414248149210836002497114107565960458576525212556159634975715552638678172137468172843066451093984443636560722213668172225585711566558134467392654185460222589723312097599987253417831473939565071006344352518096564427781204200068323913056897090916602712260306869786107237077572445866572945760977721639408338430009976028970539150822336553856613962747814621747092348996915755983464741082000337526945990059365493439921937093368896754791416759604324895514660325913157843796039917819613717350380997781225472000000000000000000000000000000000000000000000000000000000000000000000000000000000000000000000000000000000000000000000000000000000000000000000000000000000000000000000000000000000000000000000000000000000000000000000000000000000000000000000000000000000"
            ]
          },
          "metadata": {},
          "execution_count": 60
        }
      ],
      "source": [
        "%time factorial(1001)"
      ]
    },
    {
      "cell_type": "markdown",
      "metadata": {
        "id": "Rtd-T-bN9Zog"
      },
      "source": [
        "### dataclass\n",
        "\n"
      ]
    },
    {
      "cell_type": "markdown",
      "metadata": {
        "id": "fsNJDa5w9Zog"
      },
      "source": [
        "También se pueden decorar clases. Por ejemplo, `@dataclass` puede definir de manera rápida los métodos `__init__` y `__repr__` en clases sencillas. (A partir de Python 3.7)\n",
        "\n"
      ]
    },
    {
      "cell_type": "code",
      "execution_count": 55,
      "metadata": {
        "colab": {
          "base_uri": "https://localhost:8080/"
        },
        "id": "96K89qtJ9Zog",
        "outputId": "0dab4881-b8f9-4e66-e39a-a3a0979322df"
      },
      "outputs": [
        {
          "output_type": "execute_result",
          "data": {
            "text/plain": [
              "(3, -1, 3.1622776601683795, NúmeroComplejo(r=3, i=-1))"
            ]
          },
          "metadata": {},
          "execution_count": 55
        }
      ],
      "source": [
        "from dataclasses import dataclass\n",
        "\n",
        "from math import sqrt\n",
        "\n",
        "@dataclass\n",
        "class NúmeroComplejo:\n",
        "    r: float\n",
        "    i: float\n",
        "\n",
        "    @property\n",
        "    def módulo(self):\n",
        "        return sqrt(self.r**2 + self.i**2)\n",
        "\n",
        "z = NúmeroComplejo(3, -1)\n",
        "z.r, z.i, z.módulo, z"
      ]
    },
    {
      "cell_type": "markdown",
      "metadata": {
        "id": "hZg3pGGd9Zog"
      },
      "source": [
        "### wraps\n",
        "\n"
      ]
    },
    {
      "cell_type": "markdown",
      "metadata": {
        "id": "OQY18RhN9Zog"
      },
      "source": [
        "Una función \"conoce\" su nombre y su documentación.\n",
        "\n"
      ]
    },
    {
      "cell_type": "code",
      "execution_count": 61,
      "metadata": {
        "colab": {
          "base_uri": "https://localhost:8080/"
        },
        "id": "XAQ9tnzC9Zog",
        "outputId": "69844491-bdf5-41ce-f4af-441089cca94a"
      },
      "outputs": [
        {
          "output_type": "execute_result",
          "data": {
            "text/plain": [
              "('suma', 'Regresa una suma')"
            ]
          },
          "metadata": {},
          "execution_count": 61
        }
      ],
      "source": [
        "def suma(x, y):\n",
        "    \"\"\"Regresa una suma\"\"\"\n",
        "    print(f\"La suma es {x+y}\")\n",
        "\n",
        "suma.__name__, suma.__doc__"
      ]
    },
    {
      "cell_type": "markdown",
      "metadata": {
        "id": "-Y7SyA_i9Zog"
      },
      "source": [
        "Pero al ser decorada, ya no lo recuerda exactamente, sino que reporta el nombre del decorador.\n",
        "\n"
      ]
    },
    {
      "cell_type": "code",
      "execution_count": 62,
      "metadata": {
        "colab": {
          "base_uri": "https://localhost:8080/"
        },
        "id": "dDhIsdSt9Zog",
        "outputId": "a080ab14-21a9-4e31-d076-04eebb66e6f0"
      },
      "outputs": [
        {
          "output_type": "execute_result",
          "data": {
            "text/plain": [
              "('decorador', None)"
            ]
          },
          "metadata": {},
          "execution_count": 62
        }
      ],
      "source": [
        "def ejecuta_doble(func):\n",
        "    def decorador(*args, **kwargs):\n",
        "        func(*args, **kwargs)\n",
        "        func(*args, **kwargs)\n",
        "        return func(*args, **kwargs)\n",
        "    return decorador\n",
        "\n",
        "@ejecuta_doble\n",
        "def suma(x, y):\n",
        "    \"\"\"Regresa una suma\"\"\"\n",
        "    print(f\"La suma es {x+y}\")\n",
        "\n",
        "suma.__name__, suma.__doc__"
      ]
    },
    {
      "cell_type": "markdown",
      "metadata": {
        "id": "JQDVXhqH9Zoo"
      },
      "source": [
        "Entonces, los decoradores deben también ser decorados. Este es un caso de un decorador con argumentos, su argumento es la función a decorar.\n",
        "\n"
      ]
    },
    {
      "cell_type": "code",
      "execution_count": 63,
      "metadata": {
        "colab": {
          "base_uri": "https://localhost:8080/"
        },
        "id": "f5Xyi21J9Zoo",
        "outputId": "b14aed31-0b84-4136-c46e-9597d74c5660"
      },
      "outputs": [
        {
          "output_type": "execute_result",
          "data": {
            "text/plain": [
              "('suma', 'Regresa una suma')"
            ]
          },
          "metadata": {},
          "execution_count": 63
        }
      ],
      "source": [
        "from functools import wraps\n",
        "\n",
        "def ejecuta_doble(func):\n",
        "    @wraps(func)\n",
        "    def decorador(*args, **kwargs):\n",
        "        func(*args, **kwargs)\n",
        "        func(*args, **kwargs)\n",
        "        return func(*args, **kwargs)\n",
        "    return decorador\n",
        "\n",
        "@ejecuta_doble\n",
        "def suma(x, y):\n",
        "    \"\"\"Regresa una suma\"\"\"\n",
        "    print(f\"La suma es {x+y}\")\n",
        "\n",
        "suma.__name__, suma.__doc__"
      ]
    },
    {
      "cell_type": "markdown",
      "metadata": {
        "id": "BGraJUH99Zoo"
      },
      "source": [
        "Por eso, en la página [https://realpython.com/primer-on-python-decorators/>](https://realpython.com/primer-on-python-decorators/>)recomiendan que todos los decoradores sigan este patrón:\n",
        "\n"
      ]
    },
    {
      "cell_type": "code",
      "execution_count": 64,
      "metadata": {
        "id": "Q27sAJws9Zoo"
      },
      "outputs": [],
      "source": [
        "import functools\n",
        "\n",
        "def decorator(func):\n",
        "    @functools.wraps(func)\n",
        "    def wrapper_decorator(*args, **kwargs):\n",
        "        # Do something before\n",
        "        value = func(*args, **kwargs)\n",
        "        # Do something after\n",
        "        return value\n",
        "    return wrapper_decorator"
      ]
    },
    {
      "cell_type": "markdown",
      "metadata": {
        "id": "db2TQIfM9Zop"
      },
      "source": [
        "### staticmethod and classmethod\n",
        "\n"
      ]
    },
    {
      "cell_type": "markdown",
      "metadata": {
        "id": "lro9vx9c9Zop"
      },
      "source": [
        "Estos ejemplos son tomados de [https://aiflavours.com/python-decorator/](https://aiflavours.com/python-decorator/)\n",
        "\n",
        "Consideremos una clase que tiene un método independiente de `self`, el cual quisiéramos usar en una instancia de la clase.\n",
        "\n"
      ]
    },
    {
      "cell_type": "code",
      "execution_count": 65,
      "metadata": {
        "colab": {
          "base_uri": "https://localhost:8080/"
        },
        "id": "xxZ7ExCK9Zop",
        "outputId": "6bc3bc4a-cc42-4fdb-c9ac-162f9010fcbc"
      },
      "outputs": [
        {
          "output_type": "execute_result",
          "data": {
            "text/plain": [
              "4"
            ]
          },
          "metadata": {},
          "execution_count": 65
        }
      ],
      "source": [
        "class Car:\n",
        "    def __init__(self, colour):\n",
        "        self.colour = colour\n",
        "\n",
        "    def get_number_of_wheels():\n",
        "        return 4\n",
        "\n",
        "red_car = Car(colour=\"red\")\n",
        "\n",
        "# ok\n",
        "Car.get_number_of_wheels()\n",
        "\n",
        "# not ok\n",
        "# red_car.get_number_of_wheels(),"
      ]
    },
    {
      "cell_type": "code",
      "execution_count": 66,
      "metadata": {
        "colab": {
          "base_uri": "https://localhost:8080/"
        },
        "id": "8ZX3Qa3u9Zop",
        "outputId": "69f53292-a516-4d96-fc69-9a207658441a"
      },
      "outputs": [
        {
          "output_type": "execute_result",
          "data": {
            "text/plain": [
              "(4, 4)"
            ]
          },
          "metadata": {},
          "execution_count": 66
        }
      ],
      "source": [
        "class Car:\n",
        "    def __init__(self, colour):\n",
        "        self.colour = colour\n",
        "\n",
        "    @staticmethod\n",
        "    def get_number_of_wheels():\n",
        "        return 4\n",
        "\n",
        "red_car = Car(colour=\"red\")\n",
        "red_car.get_number_of_wheels(), Car.get_number_of_wheels()"
      ]
    },
    {
      "cell_type": "markdown",
      "metadata": {
        "id": "Dlyk3w-c9Zop"
      },
      "source": [
        "Por otro lado, podemos usar `@classmethod` para crear instancias de una clase usando un método de la misma clase.\n",
        "\n"
      ]
    },
    {
      "cell_type": "code",
      "execution_count": 67,
      "metadata": {
        "colab": {
          "base_uri": "https://localhost:8080/"
        },
        "id": "ZLzy5drC9Zop",
        "outputId": "4e912c82-e7dd-4874-880c-e1a4c40cd082"
      },
      "outputs": [
        {
          "output_type": "execute_result",
          "data": {
            "text/plain": [
              "(__main__.Car, 'blue')"
            ]
          },
          "metadata": {},
          "execution_count": 67
        }
      ],
      "source": [
        "class Car:\n",
        "    def __init__(self, colour):\n",
        "        self.colour = colour\n",
        "\n",
        "    @classmethod\n",
        "    def load(cls, colour):\n",
        "        return cls(colour)\n",
        "\n",
        "blue_car = Car.load(\"blue\")\n",
        "\n",
        "type(blue_car), blue_car.colour"
      ]
    }
  ],
  "metadata": {
    "kernelspec": {
      "display_name": "Python 3",
      "language": "python",
      "name": "python3"
    },
    "language_info": {
      "codemirror_mode": {
        "name": "ipython",
        "version": 3
      },
      "file_extension": ".py",
      "mimetype": "text/x-python",
      "name": "python",
      "nbconvert_exporter": "python",
      "pygments_lexer": "ipython3",
      "version": "3.9.2"
    },
    "org": null,
    "colab": {
      "provenance": [],
      "include_colab_link": true
    }
  },
  "nbformat": 4,
  "nbformat_minor": 0
}