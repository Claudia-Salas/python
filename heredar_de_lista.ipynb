{
  "cells": [
    {
      "cell_type": "markdown",
      "metadata": {
        "id": "view-in-github",
        "colab_type": "text"
      },
      "source": [
        "<a href=\"https://colab.research.google.com/github/Claudia-Salas/python/blob/main/heredar_de_lista.ipynb\" target=\"_parent\"><img src=\"https://colab.research.google.com/assets/colab-badge.svg\" alt=\"Open In Colab\"/></a>"
      ]
    },
    {
      "cell_type": "markdown",
      "metadata": {
        "id": "rWPuz9KpEDzF"
      },
      "source": [
        "Herencia\n",
        "========\n",
        "\n",
        "**Date:** 2023-09-11\n",
        "\n"
      ]
    },
    {
      "cell_type": "markdown",
      "metadata": {
        "id": "FleYeMSnEDzK"
      },
      "source": [
        "Queremos mostrar cómo heredar a partir de una clase estándar, añadiendo algún método propio.\n",
        "\n",
        "Esto se puede hacer de la siguiente manera.\n",
        "\n"
      ]
    },
    {
      "cell_type": "code",
      "execution_count": 1,
      "metadata": {
        "id": "ETGLHB5qEDzL",
        "outputId": "8cf72a94-9ebb-41d9-aa04-c890d39a74c6",
        "colab": {
          "base_uri": "https://localhost:8080/"
        }
      },
      "outputs": [
        {
          "output_type": "execute_result",
          "data": {
            "text/plain": [
              "([1, 2, 3], 'Pepe')"
            ]
          },
          "metadata": {},
          "execution_count": 1
        }
      ],
      "source": [
        "class MiLista(list):\n",
        "    def nombre(self, name):\n",
        "        self.name = name\n",
        "\n",
        "a = MiLista([1,2,3])\n",
        "a.nombre(\"Pepe\")\n",
        "a, a.name"
      ]
    },
    {
      "cell_type": "markdown",
      "metadata": {
        "id": "voxRU0crEDzO"
      },
      "source": [
        "Pero si queremos definir un nuevo atributo a partir de la función inicializadora, podemos hacer como sigue:\n",
        "\n"
      ]
    },
    {
      "cell_type": "code",
      "execution_count": 2,
      "metadata": {
        "id": "TSDvcvt_EDzO",
        "outputId": "fd1c48a5-0a83-4888-ca26-671352fd96df",
        "colab": {
          "base_uri": "https://localhost:8080/"
        }
      },
      "outputs": [
        {
          "output_type": "execute_result",
          "data": {
            "text/plain": [
              "([1, 2, 3], 'Pepe')"
            ]
          },
          "metadata": {},
          "execution_count": 2
        }
      ],
      "source": [
        "class MiLista(list):\n",
        "    def __init__(self, elementos, nombre):\n",
        "        super().__init__(elementos)\n",
        "        self.name = nombre\n",
        "\n",
        "a = MiLista([1,2,3], \"Pepe\")\n",
        "a, a.name"
      ]
    },
    {
      "cell_type": "markdown",
      "metadata": {
        "id": "-HFMQ6LlEDzP"
      },
      "source": [
        "Comprobemos que nuestra clase se comporta como la clase padre.\n",
        "\n"
      ]
    },
    {
      "cell_type": "code",
      "execution_count": 3,
      "metadata": {
        "id": "veVjqVGNEDzP",
        "outputId": "0ea4218d-c218-4090-f3e0-c9772d726a7e",
        "colab": {
          "base_uri": "https://localhost:8080/"
        }
      },
      "outputs": [
        {
          "output_type": "execute_result",
          "data": {
            "text/plain": [
              "([1, 2, 3, 5], 'Pepe')"
            ]
          },
          "metadata": {},
          "execution_count": 3
        }
      ],
      "source": [
        "a.append(5)\n",
        "a, a.name"
      ]
    },
    {
      "cell_type": "code",
      "execution_count": 4,
      "metadata": {
        "id": "jBCCLxuPEDzQ",
        "outputId": "35630b4d-93ab-4f63-e2ec-6cda67caf75a",
        "colab": {
          "base_uri": "https://localhost:8080/"
        }
      },
      "outputs": [
        {
          "output_type": "execute_result",
          "data": {
            "text/plain": [
              "([1, 2, 3], 'Bob')"
            ]
          },
          "metadata": {},
          "execution_count": 4
        }
      ],
      "source": [
        "b = MiLista({1,2,3}, \"Bob\")\n",
        "b, b.name"
      ]
    },
    {
      "cell_type": "markdown",
      "metadata": {
        "id": "EebFsHcvEDzQ"
      },
      "source": [
        "Conviene intentar el código anterior aplicándolo a `set` y `frozenset`.\n",
        "\n"
      ]
    },
    {
      "cell_type": "code",
      "execution_count": 5,
      "metadata": {
        "id": "QYNiaftWEDzR",
        "outputId": "52c0adb8-3d41-4d55-e552-ba46aa9b47f3",
        "colab": {
          "base_uri": "https://localhost:8080/"
        }
      },
      "outputs": [
        {
          "output_type": "execute_result",
          "data": {
            "text/plain": [
              "([1, 2, 3], 'Juan')"
            ]
          },
          "metadata": {},
          "execution_count": 5
        }
      ],
      "source": [
        "class MiConjunto(list):\n",
        "    def __init__(self, elementos, nombre):\n",
        "        super().__init__(elementos)\n",
        "        self.name = nombre\n",
        "\n",
        "c = MiConjunto([1,2,3], \"Juan\")\n",
        "c, c.name"
      ]
    },
    {
      "cell_type": "code",
      "execution_count": null,
      "metadata": {
        "id": "1v2VetbpEDzR"
      },
      "outputs": [],
      "source": []
    }
  ],
  "metadata": {
    "kernelspec": {
      "display_name": "Python 3",
      "language": "python",
      "name": "python3"
    },
    "language_info": {
      "codemirror_mode": {
        "name": "ipython",
        "version": 3
      },
      "file_extension": ".py",
      "mimetype": "text/x-python",
      "name": "python",
      "nbconvert_exporter": "python",
      "pygments_lexer": "ipython3",
      "version": "3.9.2"
    },
    "org": null,
    "colab": {
      "provenance": [],
      "include_colab_link": true
    }
  },
  "nbformat": 4,
  "nbformat_minor": 0
}