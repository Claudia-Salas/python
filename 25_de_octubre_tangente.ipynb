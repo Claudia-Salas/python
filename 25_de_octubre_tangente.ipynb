{
  "nbformat": 4,
  "nbformat_minor": 0,
  "metadata": {
    "colab": {
      "provenance": [],
      "authorship_tag": "ABX9TyPEaCX6Sk93jyizArsIob4G",
      "include_colab_link": true
    },
    "kernelspec": {
      "name": "python3",
      "display_name": "Python 3"
    },
    "language_info": {
      "name": "python"
    }
  },
  "cells": [
    {
      "cell_type": "markdown",
      "metadata": {
        "id": "view-in-github",
        "colab_type": "text"
      },
      "source": [
        "<a href=\"https://colab.research.google.com/github/Claudia-Salas/python/blob/main/25_de_octubre_tangente.ipynb\" target=\"_parent\"><img src=\"https://colab.research.google.com/assets/colab-badge.svg\" alt=\"Open In Colab\"/></a>"
      ]
    },
    {
      "cell_type": "markdown",
      "source": [
        "#recta tangente"
      ],
      "metadata": {
        "id": "r29kTblWfsov"
      }
    },
    {
      "cell_type": "code",
      "source": [
        "from sympy import Eq, diff, symbols, init_printing\n",
        "\n",
        "init_printing(use_latex=True)\n",
        "\n",
        "x=symbols('x')\n",
        "y=symbols('y')\n",
        "\n",
        "# y=mx+b\n",
        "# definimos la funciones, con la ecuacion y el punto\n",
        "\n",
        "def recta_tangente(eq,p):\n",
        "    b=eq.subs({x:p})\n",
        "    # obtenemos la derivada de la ecuacion\n",
        "    d=diff(eq)\n",
        "    # ahora en la derivada sustituimos a p en donde se encuentre x\n",
        "    fd=d.subs({x:p})\n",
        "    tangente=Eq(y,b+fd*(x-p))\n",
        "    return tangente\n",
        "\n",
        "recta_tangente((x+2)**3,1)"
      ],
      "metadata": {
        "colab": {
          "base_uri": "https://localhost:8080/",
          "height": 38
        },
        "id": "vtboxL9NfwvQ",
        "outputId": "537c2068-1d8d-4c42-cdb9-1c48d3e3e7d6"
      },
      "execution_count": 59,
      "outputs": [
        {
          "output_type": "execute_result",
          "data": {
            "text/plain": [
              "y = 27⋅x"
            ],
            "text/latex": "$\\displaystyle y = 27 x$"
          },
          "metadata": {},
          "execution_count": 59
        }
      ]
    },
    {
      "cell_type": "markdown",
      "source": [
        "#valores propios enteros"
      ],
      "metadata": {
        "id": "dWocT2JHfkvI"
      }
    },
    {
      "cell_type": "markdown",
      "source": [
        "Tenemos que definir una función"
      ],
      "metadata": {
        "id": "PY-PMIiGlaTl"
      }
    },
    {
      "cell_type": "code",
      "source": [
        "from sympy import Matrix, init_printing\n",
        "init_printing(use_latex=True)\n",
        "\n",
        "#obtenemos las matrices de n de 0 al 99 y las metemos en una lista\n",
        "for n in range (0,100):\n",
        "  A = Matrix([[1, n], [1, 1]])\n",
        "\n",
        "  print(A)\n",
        "\n",
        "#ahora solo falta ver cuales sus valores propios son enteros\n",
        "\n"
      ],
      "metadata": {
        "colab": {
          "base_uri": "https://localhost:8080/"
        },
        "id": "yqzKeY6Riwja",
        "outputId": "9aeed9c6-b460-4ac7-ab5b-38bf27ba85bf"
      },
      "execution_count": 64,
      "outputs": [
        {
          "output_type": "stream",
          "name": "stdout",
          "text": [
            "Matrix([[1, 0], [1, 1]])\n",
            "Matrix([[1, 1], [1, 1]])\n",
            "Matrix([[1, 2], [1, 1]])\n",
            "Matrix([[1, 3], [1, 1]])\n",
            "Matrix([[1, 4], [1, 1]])\n",
            "Matrix([[1, 5], [1, 1]])\n",
            "Matrix([[1, 6], [1, 1]])\n",
            "Matrix([[1, 7], [1, 1]])\n",
            "Matrix([[1, 8], [1, 1]])\n",
            "Matrix([[1, 9], [1, 1]])\n",
            "Matrix([[1, 10], [1, 1]])\n",
            "Matrix([[1, 11], [1, 1]])\n",
            "Matrix([[1, 12], [1, 1]])\n",
            "Matrix([[1, 13], [1, 1]])\n",
            "Matrix([[1, 14], [1, 1]])\n",
            "Matrix([[1, 15], [1, 1]])\n",
            "Matrix([[1, 16], [1, 1]])\n",
            "Matrix([[1, 17], [1, 1]])\n",
            "Matrix([[1, 18], [1, 1]])\n",
            "Matrix([[1, 19], [1, 1]])\n",
            "Matrix([[1, 20], [1, 1]])\n",
            "Matrix([[1, 21], [1, 1]])\n",
            "Matrix([[1, 22], [1, 1]])\n",
            "Matrix([[1, 23], [1, 1]])\n",
            "Matrix([[1, 24], [1, 1]])\n",
            "Matrix([[1, 25], [1, 1]])\n",
            "Matrix([[1, 26], [1, 1]])\n",
            "Matrix([[1, 27], [1, 1]])\n",
            "Matrix([[1, 28], [1, 1]])\n",
            "Matrix([[1, 29], [1, 1]])\n",
            "Matrix([[1, 30], [1, 1]])\n",
            "Matrix([[1, 31], [1, 1]])\n",
            "Matrix([[1, 32], [1, 1]])\n",
            "Matrix([[1, 33], [1, 1]])\n",
            "Matrix([[1, 34], [1, 1]])\n",
            "Matrix([[1, 35], [1, 1]])\n",
            "Matrix([[1, 36], [1, 1]])\n",
            "Matrix([[1, 37], [1, 1]])\n",
            "Matrix([[1, 38], [1, 1]])\n",
            "Matrix([[1, 39], [1, 1]])\n",
            "Matrix([[1, 40], [1, 1]])\n",
            "Matrix([[1, 41], [1, 1]])\n",
            "Matrix([[1, 42], [1, 1]])\n",
            "Matrix([[1, 43], [1, 1]])\n",
            "Matrix([[1, 44], [1, 1]])\n",
            "Matrix([[1, 45], [1, 1]])\n",
            "Matrix([[1, 46], [1, 1]])\n",
            "Matrix([[1, 47], [1, 1]])\n",
            "Matrix([[1, 48], [1, 1]])\n",
            "Matrix([[1, 49], [1, 1]])\n",
            "Matrix([[1, 50], [1, 1]])\n",
            "Matrix([[1, 51], [1, 1]])\n",
            "Matrix([[1, 52], [1, 1]])\n",
            "Matrix([[1, 53], [1, 1]])\n",
            "Matrix([[1, 54], [1, 1]])\n",
            "Matrix([[1, 55], [1, 1]])\n",
            "Matrix([[1, 56], [1, 1]])\n",
            "Matrix([[1, 57], [1, 1]])\n",
            "Matrix([[1, 58], [1, 1]])\n",
            "Matrix([[1, 59], [1, 1]])\n",
            "Matrix([[1, 60], [1, 1]])\n",
            "Matrix([[1, 61], [1, 1]])\n",
            "Matrix([[1, 62], [1, 1]])\n",
            "Matrix([[1, 63], [1, 1]])\n",
            "Matrix([[1, 64], [1, 1]])\n",
            "Matrix([[1, 65], [1, 1]])\n",
            "Matrix([[1, 66], [1, 1]])\n",
            "Matrix([[1, 67], [1, 1]])\n",
            "Matrix([[1, 68], [1, 1]])\n",
            "Matrix([[1, 69], [1, 1]])\n",
            "Matrix([[1, 70], [1, 1]])\n",
            "Matrix([[1, 71], [1, 1]])\n",
            "Matrix([[1, 72], [1, 1]])\n",
            "Matrix([[1, 73], [1, 1]])\n",
            "Matrix([[1, 74], [1, 1]])\n",
            "Matrix([[1, 75], [1, 1]])\n",
            "Matrix([[1, 76], [1, 1]])\n",
            "Matrix([[1, 77], [1, 1]])\n",
            "Matrix([[1, 78], [1, 1]])\n",
            "Matrix([[1, 79], [1, 1]])\n",
            "Matrix([[1, 80], [1, 1]])\n",
            "Matrix([[1, 81], [1, 1]])\n",
            "Matrix([[1, 82], [1, 1]])\n",
            "Matrix([[1, 83], [1, 1]])\n",
            "Matrix([[1, 84], [1, 1]])\n",
            "Matrix([[1, 85], [1, 1]])\n",
            "Matrix([[1, 86], [1, 1]])\n",
            "Matrix([[1, 87], [1, 1]])\n",
            "Matrix([[1, 88], [1, 1]])\n",
            "Matrix([[1, 89], [1, 1]])\n",
            "Matrix([[1, 90], [1, 1]])\n",
            "Matrix([[1, 91], [1, 1]])\n",
            "Matrix([[1, 92], [1, 1]])\n",
            "Matrix([[1, 93], [1, 1]])\n",
            "Matrix([[1, 94], [1, 1]])\n",
            "Matrix([[1, 95], [1, 1]])\n",
            "Matrix([[1, 96], [1, 1]])\n",
            "Matrix([[1, 97], [1, 1]])\n",
            "Matrix([[1, 98], [1, 1]])\n",
            "Matrix([[1, 99], [1, 1]])\n"
          ]
        }
      ]
    },
    {
      "cell_type": "markdown",
      "source": [
        "solucion de un sistema de EDOs"
      ],
      "metadata": {
        "id": "OqeGBfpqdWHa"
      }
    },
    {
      "cell_type": "code",
      "execution_count": null,
      "metadata": {
        "colab": {
          "base_uri": "https://localhost:8080/",
          "height": 247
        },
        "id": "SVN4ahOJcs-m",
        "outputId": "28239beb-78c5-48c7-f507-8ce4b0e25356"
      },
      "outputs": [
        {
          "output_type": "error",
          "ename": "NameError",
          "evalue": "ignored",
          "traceback": [
            "\u001b[0;31m---------------------------------------------------------------------------\u001b[0m",
            "\u001b[0;31mNameError\u001b[0m                                 Traceback (most recent call last)",
            "\u001b[0;32m<ipython-input-6-c6996c3295fd>\u001b[0m in \u001b[0;36m<cell line: 5>\u001b[0;34m()\u001b[0m\n\u001b[1;32m      3\u001b[0m \u001b[0mx\u001b[0m\u001b[0;34m=\u001b[0m\u001b[0msymbols\u001b[0m\u001b[0;34m(\u001b[0m\u001b[0;34m'x'\u001b[0m\u001b[0;34m)\u001b[0m\u001b[0;34m\u001b[0m\u001b[0;34m\u001b[0m\u001b[0m\n\u001b[1;32m      4\u001b[0m \u001b[0;34m\u001b[0m\u001b[0m\n\u001b[0;32m----> 5\u001b[0;31m \u001b[0meq1\u001b[0m \u001b[0;34m=\u001b[0m \u001b[0mEq\u001b[0m\u001b[0;34m(\u001b[0m\u001b[0mDerivative\u001b[0m\u001b[0;34m(\u001b[0m\u001b[0mx\u001b[0m\u001b[0;34m(\u001b[0m\u001b[0mt\u001b[0m\u001b[0;34m)\u001b[0m\u001b[0;34m,\u001b[0m \u001b[0mt\u001b[0m\u001b[0;34m)\u001b[0m\u001b[0;34m,\u001b[0m \u001b[0;36m2\u001b[0m\u001b[0;34m*\u001b[0m\u001b[0mx\u001b[0m\u001b[0;34m(\u001b[0m\u001b[0mt\u001b[0m\u001b[0;34m)\u001b[0m \u001b[0;34m+\u001b[0m \u001b[0my\u001b[0m\u001b[0;34m(\u001b[0m\u001b[0mt\u001b[0m\u001b[0;34m)\u001b[0m\u001b[0;34m)\u001b[0m\u001b[0;34m\u001b[0m\u001b[0;34m\u001b[0m\u001b[0m\n\u001b[0m\u001b[1;32m      6\u001b[0m \u001b[0meq2\u001b[0m \u001b[0;34m=\u001b[0m \u001b[0mEq\u001b[0m\u001b[0;34m(\u001b[0m\u001b[0mDerivative\u001b[0m\u001b[0;34m(\u001b[0m\u001b[0my\u001b[0m\u001b[0;34m(\u001b[0m\u001b[0mt\u001b[0m\u001b[0;34m)\u001b[0m\u001b[0;34m,\u001b[0m \u001b[0mt\u001b[0m\u001b[0;34m)\u001b[0m\u001b[0;34m,\u001b[0m \u001b[0mx\u001b[0m\u001b[0;34m(\u001b[0m\u001b[0mt\u001b[0m\u001b[0;34m)\u001b[0m \u001b[0;34m+\u001b[0m \u001b[0;36m2\u001b[0m\u001b[0;34m*\u001b[0m\u001b[0my\u001b[0m\u001b[0;34m(\u001b[0m\u001b[0mt\u001b[0m\u001b[0;34m)\u001b[0m\u001b[0;34m)\u001b[0m\u001b[0;34m\u001b[0m\u001b[0;34m\u001b[0m\u001b[0m\n\u001b[1;32m      7\u001b[0m \u001b[0;34m\u001b[0m\u001b[0m\n",
            "\u001b[0;31mNameError\u001b[0m: name 't' is not defined"
          ]
        }
      ],
      "source": [
        "from sympy import Eq, Derivative,symbols\n",
        "\n",
        "x=symbols('x')\n",
        "\n",
        "eq1 = Eq(Derivative(x(t), t), 2*x(t) + y(t))\n",
        "eq2 = Eq(Derivative(y(t), t), x(t) + 2*y(t))\n",
        "\n",
        "sols = dsolve((eq1, eq2))\n",
        "\n",
        "lineal1 = Eq(sols[0].subs({t:0}).rhs, 2)\n",
        "lineal2 = Eq(sols[1].subs({t:0}).rhs, -1)\n",
        "lineal1, lineal2\n",
        "\n",
        "\n",
        "\n",
        "from sympy import solve\n",
        "\n",
        "solve((eq1, eq2), (C1, C2))\n",
        "\n"
      ]
    }
  ]
}