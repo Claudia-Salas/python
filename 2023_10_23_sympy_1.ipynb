{
  "cells": [
    {
      "cell_type": "markdown",
      "metadata": {
        "id": "view-in-github",
        "colab_type": "text"
      },
      "source": [
        "<a href=\"https://colab.research.google.com/github/Claudia-Salas/python/blob/main/2023_10_23_sympy_1.ipynb\" target=\"_parent\"><img src=\"https://colab.research.google.com/assets/colab-badge.svg\" alt=\"Open In Colab\"/></a>"
      ]
    },
    {
      "cell_type": "markdown",
      "metadata": {
        "id": "wW-0k43QWHFg"
      },
      "source": [
        "La biblioteca sympy\n",
        "===================\n",
        "\n",
        "**Date:** 2023-10-23\n",
        "\n"
      ]
    },
    {
      "cell_type": "markdown",
      "metadata": {
        "id": "5pUaraS3WHFm"
      },
      "source": [
        "## Algunos puntos a considerar\n",
        "\n"
      ]
    },
    {
      "cell_type": "markdown",
      "metadata": {
        "id": "OWPU4Y6cWHFn"
      },
      "source": [
        "Sympy es una biblioteca de cálculo simbólico.\n",
        "\n"
      ]
    },
    {
      "cell_type": "code",
      "execution_count": 1,
      "metadata": {
        "id": "EstAjEPIWHFo"
      },
      "outputs": [],
      "source": [
        "from sympy import init_printing, symbols\n",
        "init_printing(use_latex=False, use_unicode=False)"
      ]
    },
    {
      "cell_type": "markdown",
      "source": [
        "El use_latex es para decir si queremos que los resultados salgan en forma de latex o no, en este caso pusimos que no, por eso se ocupa el false"
      ],
      "metadata": {
        "id": "QE3zxjCufkV6"
      }
    },
    {
      "cell_type": "markdown",
      "metadata": {
        "id": "Y057LxopWHFr"
      },
      "source": [
        "Los nombres de variables no están definidos de antemano, sino que deben definirse por medio de la función `symbols`. Los productos de variables tienen que indicarse explícitamente usando `*`.\n",
        "\n"
      ]
    },
    {
      "cell_type": "code",
      "execution_count": 2,
      "metadata": {
        "colab": {
          "base_uri": "https://localhost:8080/"
        },
        "id": "qSPojsy9WHFs",
        "outputId": "90f301b1-5aed-4950-f845-50fdc8f07f26"
      },
      "outputs": [
        {
          "output_type": "execute_result",
          "data": {
            "text/plain": [
              "x + 2*y"
            ]
          },
          "metadata": {},
          "execution_count": 2
        }
      ],
      "source": [
        "x, y = symbols('x y')\n",
        "\n",
        "expr = x + 2*y\n",
        "expr"
      ]
    },
    {
      "cell_type": "markdown",
      "metadata": {
        "id": "anTSprXwWHFs"
      },
      "source": [
        "Ésto puede parecer una desventaja, sin embargo de este modo se pueden definir y usar nombres de variables simbólicas apropiados.\n",
        "\n"
      ]
    },
    {
      "cell_type": "code",
      "execution_count": 3,
      "metadata": {
        "colab": {
          "base_uri": "https://localhost:8080/"
        },
        "id": "jRNBz3uJWHFs",
        "outputId": "bbc98755-df63-4b4a-c55f-9b58cfe6fa6a"
      },
      "outputs": [
        {
          "output_type": "execute_result",
          "data": {
            "text/plain": [
              "altura*base"
            ]
          },
          "metadata": {},
          "execution_count": 3
        }
      ],
      "source": [
        "base, altura, área = symbols('base altura área')\n",
        "área = base * altura\n",
        "área"
      ]
    },
    {
      "cell_type": "markdown",
      "metadata": {
        "id": "D_mPPyTEWHFt"
      },
      "source": [
        "Recordemos que en Python, se usa `=` para asignar valores a variables y `==` para comparar. Sin embargo, si quisiéramos definir una ecuación, no se puede usar..\n",
        "\n"
      ]
    },
    {
      "cell_type": "code",
      "execution_count": 4,
      "metadata": {
        "colab": {
          "base_uri": "https://localhost:8080/"
        },
        "id": "NhA4p-8MWHFu",
        "outputId": "a4c3a778-23a3-43a7-e80d-6685a7c765ac"
      },
      "outputs": [
        {
          "output_type": "execute_result",
          "data": {
            "text/plain": [
              "False"
            ]
          },
          "metadata": {},
          "execution_count": 4
        }
      ],
      "source": [
        "x+1 == 4"
      ]
    },
    {
      "cell_type": "markdown",
      "source": [
        "queremos comparar si son iguales y no lo son, ya que no son del mismo tipo"
      ],
      "metadata": {
        "id": "2MUoz1nQfukV"
      }
    },
    {
      "cell_type": "markdown",
      "metadata": {
        "id": "Q2gtkVphWHFu"
      },
      "source": [
        "pues en éste caso le estamos preguntando a Python si el objeto `x+1` es lo mismo que el entero `4`. Ésto no puede ser cierto, pues son dos objetos de clases diferentes:\n",
        "\n"
      ]
    },
    {
      "cell_type": "code",
      "execution_count": 5,
      "metadata": {
        "colab": {
          "base_uri": "https://localhost:8080/"
        },
        "id": "fcWOgwgGWHFu",
        "outputId": "1db62db0-aa7c-41b4-d32b-0e46f8465223"
      },
      "outputs": [
        {
          "output_type": "execute_result",
          "data": {
            "text/plain": [
              "(sympy.core.add.Add, int)"
            ]
          },
          "metadata": {},
          "execution_count": 5
        }
      ],
      "source": [
        "type(x+1), type(4)"
      ]
    },
    {
      "cell_type": "markdown",
      "metadata": {
        "id": "GJ-qPEIoWHFv"
      },
      "source": [
        "Para representar una ecuación entonces, podemos usar `Eq`.\n",
        "\n"
      ]
    },
    {
      "cell_type": "code",
      "execution_count": 6,
      "metadata": {
        "colab": {
          "base_uri": "https://localhost:8080/"
        },
        "id": "xXuNJBRYWHFv",
        "outputId": "64398608-4661-47d4-976c-32cb29f245d4"
      },
      "outputs": [
        {
          "output_type": "execute_result",
          "data": {
            "text/plain": [
              "(Eq(x**2 - 3*x - 2, 0), sympy.core.relational.Equality)"
            ]
          },
          "metadata": {},
          "execution_count": 6
        }
      ],
      "source": [
        "from sympy import Eq\n",
        "\n",
        "ecuación = Eq(x**2-3*x-2, 0)\n",
        "ecuación, type(ecuación)"
      ]
    },
    {
      "cell_type": "markdown",
      "metadata": {
        "id": "gepaE2ZxWHFv"
      },
      "source": [
        "Sin embargo, también la comparación `==` falla con dos expresiones algebraicas como:\n",
        "\n"
      ]
    },
    {
      "cell_type": "code",
      "execution_count": 7,
      "metadata": {
        "colab": {
          "base_uri": "https://localhost:8080/"
        },
        "id": "fZkkCpgRWHFv",
        "outputId": "986162e3-669e-4690-d302-2511e0d438d6"
      },
      "outputs": [
        {
          "output_type": "execute_result",
          "data": {
            "text/plain": [
              "False"
            ]
          },
          "metadata": {},
          "execution_count": 7
        }
      ],
      "source": [
        "(x+1)**2 == x**2 + 2*x + 1"
      ]
    },
    {
      "cell_type": "markdown",
      "metadata": {
        "id": "KI90y-_tWHFw"
      },
      "source": [
        "&#x2026; puesto que internamente, ambos lados representan objetos diferentes.\n",
        "\n"
      ]
    },
    {
      "cell_type": "code",
      "execution_count": 8,
      "metadata": {
        "colab": {
          "base_uri": "https://localhost:8080/"
        },
        "id": "wCmrnF_6WHFw",
        "outputId": "72ede4df-6b87-4fa1-9869-1c89f1d09604"
      },
      "outputs": [
        {
          "output_type": "execute_result",
          "data": {
            "text/plain": [
              "(-7648825873617176941, -1846106588710196986)"
            ]
          },
          "metadata": {},
          "execution_count": 8
        }
      ],
      "source": [
        "hash((x+1)**2), hash(x**2 + 2*x + 1)"
      ]
    },
    {
      "cell_type": "markdown",
      "source": [
        "hash es como el curp de cada elemento por eso aunque creemos que la igualdad anterior si se cumple, pero no porque su hash es diferente\n"
      ],
      "metadata": {
        "id": "ffz_K3zVf6Ef"
      }
    },
    {
      "cell_type": "markdown",
      "metadata": {
        "id": "kMQssLqpWHFw"
      },
      "source": [
        "Podríamos obtener el resultado esperado con:"
      ]
    },
    {
      "cell_type": "code",
      "execution_count": 9,
      "metadata": {
        "colab": {
          "base_uri": "https://localhost:8080/"
        },
        "id": "TAGh87TTWHFw",
        "outputId": "2e309aef-5471-4144-bfb1-3ce1c2ac79ec"
      },
      "outputs": [
        {
          "output_type": "execute_result",
          "data": {
            "text/plain": [
              "0"
            ]
          },
          "metadata": {},
          "execution_count": 9
        }
      ],
      "source": [
        "from sympy import simplify\n",
        "\n",
        "a = (x+1)**2\n",
        "b = x**2 +2*x + 1\n",
        "\n",
        "simplify(a-b)"
      ]
    },
    {
      "cell_type": "markdown",
      "source": [
        "para ver si son iguales podemos ver si al usar simplify nos da cero"
      ],
      "metadata": {
        "id": "BmHbi41hgeAb"
      }
    },
    {
      "cell_type": "markdown",
      "metadata": {
        "id": "GpuvEFfVWHFx"
      },
      "source": [
        "Hay que notar que en general, el problema de decidir si una expresión simbólica es igual a cero, es [indecidible](https://en.wikipedia.org/wiki/Richardson%27s_theorem). Sin embargo, eso no quiere decir que ciertos casos concretos no puedan resolverse.\n",
        "\n",
        "El cálculo simbólico se puede usar para incluso para obtener precisión en operaciones aritméticas, que ocasionan problemas por utilizar flotantes.\n",
        "\n"
      ]
    },
    {
      "cell_type": "code",
      "execution_count": 10,
      "metadata": {
        "colab": {
          "base_uri": "https://localhost:8080/"
        },
        "id": "3P22VJqLWHFx",
        "outputId": "3dad3e80-cc68-4a52-fc29-01f53505ceff"
      },
      "outputs": [
        {
          "output_type": "execute_result",
          "data": {
            "text/plain": [
              "False"
            ]
          },
          "metadata": {},
          "execution_count": 10
        }
      ],
      "source": [
        "1/49*49 == 1"
      ]
    },
    {
      "cell_type": "markdown",
      "source": [
        "no se cumple porque estamos usando flotantes"
      ],
      "metadata": {
        "id": "xl08C5zkgoF0"
      }
    },
    {
      "cell_type": "code",
      "execution_count": 11,
      "metadata": {
        "colab": {
          "base_uri": "https://localhost:8080/"
        },
        "id": "ydBvJh0nWHFx",
        "outputId": "95b4a61f-cd62-406f-b5c0-7d0fb7050578"
      },
      "outputs": [
        {
          "output_type": "execute_result",
          "data": {
            "text/plain": [
              "True"
            ]
          },
          "metadata": {},
          "execution_count": 11
        }
      ],
      "source": [
        "from sympy import Integer\n",
        "\n",
        "Integer(1)/49 * 49 == 1"
      ]
    },
    {
      "cell_type": "markdown",
      "metadata": {
        "id": "8MK2PxoeWHFx"
      },
      "source": [
        "Las expansiones algebraicas tienen que solicitarse explícitamente. Nótese que todos los objetos en `sympy` son inmutables, por lo tanto todos los métodos regresan una nueva expresión (i.e. no la cambian *in place*).\n",
        "\n"
      ]
    },
    {
      "cell_type": "code",
      "execution_count": 12,
      "metadata": {
        "colab": {
          "base_uri": "https://localhost:8080/"
        },
        "id": "tUdRGUMZWHFy",
        "outputId": "80fbd665-56a6-457f-8759-10689d08f6ea"
      },
      "outputs": [
        {
          "output_type": "execute_result",
          "data": {
            "text/plain": [
              "          2   2              2 \n",
              "((x + 2*y) , x  + 4*x*y + 4*y )"
            ]
          },
          "metadata": {},
          "execution_count": 12
        }
      ],
      "source": [
        "expr3 = expr**2\n",
        "expr3, expr3.expand()"
      ]
    },
    {
      "cell_type": "markdown",
      "metadata": {
        "id": "zQjiysBbWHFy"
      },
      "source": [
        "Las sustituciones se pueden indicar por medio de un diccionario.\n",
        "\n"
      ]
    },
    {
      "cell_type": "code",
      "execution_count": 13,
      "metadata": {
        "colab": {
          "base_uri": "https://localhost:8080/"
        },
        "id": "wEmIq_e9WHFy",
        "outputId": "425345c0-eddb-4592-a357-478b9b4a6af4"
      },
      "outputs": [
        {
          "output_type": "execute_result",
          "data": {
            "text/plain": [
              "(2*y + 2, 3*y)"
            ]
          },
          "metadata": {},
          "execution_count": 13
        }
      ],
      "source": [
        "expr.subs({x:2}), expr.subs({x: y})"
      ]
    },
    {
      "cell_type": "markdown",
      "source": [
        "en la primera parte cambiamos a x por el 2 y en la segunda cambiamos a x por y"
      ],
      "metadata": {
        "id": "OWT2GsKng7gm"
      }
    },
    {
      "cell_type": "markdown",
      "metadata": {
        "id": "Q7_t7DdMWHFy"
      },
      "source": [
        "## Simplificaciones\n",
        "\n"
      ]
    },
    {
      "cell_type": "markdown",
      "metadata": {
        "id": "vXBqOQ2hWHFz"
      },
      "source": [
        "Hay una función `simplify` que combina varias estrategias para simplificar expresiones. Sin embargo, en programas deberían de usarse estrategias específicas en lugar de `simplify`\n",
        "\n"
      ]
    },
    {
      "cell_type": "code",
      "execution_count": 14,
      "metadata": {
        "colab": {
          "base_uri": "https://localhost:8080/"
        },
        "id": "tPsH89C2WHFz",
        "outputId": "dfbedc00-6ee5-4def-c1d5-a932903109ea"
      },
      "outputs": [
        {
          "output_type": "execute_result",
          "data": {
            "text/plain": [
              "1"
            ]
          },
          "metadata": {},
          "execution_count": 14
        }
      ],
      "source": [
        "from sympy import sin, cos\n",
        "\n",
        "simplify(sin(x)**2 + cos(x)**2)"
      ]
    },
    {
      "cell_type": "code",
      "execution_count": 16,
      "metadata": {
        "id": "8vgbkVb0WHFz"
      },
      "outputs": [],
      "source": [
        "init_printing(use_latex=True)"
      ]
    },
    {
      "cell_type": "code",
      "execution_count": 17,
      "metadata": {
        "colab": {
          "base_uri": "https://localhost:8080/",
          "height": 58
        },
        "id": "HQ2sEfheWHFz",
        "outputId": "13a472d5-5c6c-497f-95f9-54c2d044a41d"
      },
      "outputs": [
        {
          "output_type": "execute_result",
          "data": {
            "text/plain": [
              "⎛ 3    2                      ⎞\n",
              "⎜x  + x  - x - 1   2          ⎟\n",
              "⎜───────────────, x  + 2⋅x + 1⎟\n",
              "⎝     x - 1                   ⎠"
            ],
            "text/latex": "$\\displaystyle \\left( \\frac{x^{3} + x^{2} - x - 1}{x - 1}, \\  x^{2} + 2 x + 1\\right)$"
          },
          "metadata": {},
          "execution_count": 17
        }
      ],
      "source": [
        "a = (x**3+x**2-x-1)/(x-1)\n",
        "a, simplify(a)"
      ]
    },
    {
      "cell_type": "markdown",
      "metadata": {
        "id": "1geihB-DWHF0"
      },
      "source": [
        "Comparar con:\n",
        "\n"
      ]
    },
    {
      "cell_type": "code",
      "execution_count": 18,
      "metadata": {
        "colab": {
          "base_uri": "https://localhost:8080/",
          "height": 47
        },
        "id": "gCb0Qwb1WHF0",
        "outputId": "a4781165-dd28-4805-d152-e362d1f875d3"
      },
      "outputs": [
        {
          "output_type": "execute_result",
          "data": {
            "text/plain": [
              "⎛ 2                   2⎞\n",
              "⎝x  + 2⋅x + 1, (x + 1) ⎠"
            ],
            "text/latex": "$\\displaystyle \\left( x^{2} + 2 x + 1, \\  \\left(x + 1\\right)^{2}\\right)$"
          },
          "metadata": {},
          "execution_count": 18
        }
      ],
      "source": [
        "from sympy import factor\n",
        "\n",
        "simplify(x**2+2*x+1), factor(x**2+2*x+1)"
      ]
    },
    {
      "cell_type": "markdown",
      "metadata": {
        "id": "28ids7koWHF0"
      },
      "source": [
        "Funciones como éstas:\n",
        "\n",
        "-   `expand`,\n",
        "-   `factor`,\n",
        "-   `collect`,\n",
        "-   `cancel`,\n",
        "-   `apart`.\n",
        "\n",
        "Ejemplo:\n",
        "\n"
      ]
    },
    {
      "cell_type": "code",
      "execution_count": 19,
      "metadata": {
        "colab": {
          "base_uri": "https://localhost:8080/",
          "height": 58
        },
        "id": "XMPlxZmlWHF1",
        "outputId": "15e630df-95bc-428f-c78a-c5654d6a2711"
      },
      "outputs": [
        {
          "output_type": "execute_result",
          "data": {
            "text/plain": [
              "⎛   3       2                                    ⎞\n",
              "⎜4⋅x  + 21⋅x  + 10⋅x + 12   2⋅x - 1       1     3⎟\n",
              "⎜────────────────────────, ────────── - ───── + ─⎟\n",
              "⎜  4      3      2          2           x + 4   x⎟\n",
              "⎝ x  + 5⋅x  + 5⋅x  + 4⋅x   x  + x + 1            ⎠"
            ],
            "text/latex": "$\\displaystyle \\left( \\frac{4 x^{3} + 21 x^{2} + 10 x + 12}{x^{4} + 5 x^{3} + 5 x^{2} + 4 x}, \\  \\frac{2 x - 1}{x^{2} + x + 1} - \\frac{1}{x + 4} + \\frac{3}{x}\\right)$"
          },
          "metadata": {},
          "execution_count": 19
        }
      ],
      "source": [
        "from sympy import apart\n",
        "\n",
        "expr = (4*x**3 + 21*x**2 + 10*x + 12)/(x**4 + 5*x**3 + 5*x**2 + 4*x)\n",
        "\n",
        "expr, apart(expr)"
      ]
    },
    {
      "cell_type": "markdown",
      "metadata": {
        "id": "GR-s9jryWHF1"
      },
      "source": [
        "## Cálculo\n",
        "\n"
      ]
    },
    {
      "cell_type": "markdown",
      "metadata": {
        "id": "oiW5kMJEWHF1"
      },
      "source": [
        "Para derivar se utiliza la función `diff`. Se debe indicar la variable respecto a la cual derivar.\n",
        "\n"
      ]
    },
    {
      "cell_type": "code",
      "execution_count": 20,
      "metadata": {
        "colab": {
          "base_uri": "https://localhost:8080/",
          "height": 47
        },
        "id": "njoOXKYvWHF1",
        "outputId": "aa425405-d979-4f87-f539-3dc88c2f68cc"
      },
      "outputs": [
        {
          "output_type": "execute_result",
          "data": {
            "text/plain": [
              "⎛    ⎛ 3⎞        ⎛ 3⎞        ⎛ 3⎞        2           2         2  ⎞\n",
              "⎜ 2  ⎝x ⎠     4  ⎝x ⎠        ⎝x ⎠       x ⋅y   3    x ⋅y      x ⋅y⎟\n",
              "⎝x ⋅ℯ    , 3⋅x ⋅ℯ     + 2⋅x⋅ℯ    , x⋅y⋅ℯ    , x ⋅y⋅ℯ     + x⋅ℯ    ⎠"
            ],
            "text/latex": "$\\displaystyle \\left( x^{2} e^{x^{3}}, \\  3 x^{4} e^{x^{3}} + 2 x e^{x^{3}}, \\  x y e^{x^{2} y}, \\  x^{3} y e^{x^{2} y} + x e^{x^{2} y}\\right)$"
          },
          "metadata": {},
          "execution_count": 20
        }
      ],
      "source": [
        "from sympy import diff, exp\n",
        "\n",
        "expr = x**2*exp(x**3)\n",
        "expr2 = x*y*exp((x**2)*y)\n",
        "\n",
        "expr, diff(expr, x), expr2, diff(expr2, y)"
      ]
    },
    {
      "cell_type": "markdown",
      "metadata": {
        "id": "6o3tpcK1WHF7"
      },
      "source": [
        "Se pueden indicar derivadas superiores:\n",
        "\n"
      ]
    },
    {
      "cell_type": "code",
      "execution_count": 21,
      "metadata": {
        "colab": {
          "base_uri": "https://localhost:8080/",
          "height": 41
        },
        "id": "0DPqcJZQWHF7",
        "outputId": "fa36f86a-3c4d-431b-c8f2-f711ebecebb1"
      },
      "outputs": [
        {
          "output_type": "execute_result",
          "data": {
            "text/plain": [
              "                               ⎛ 3⎞\n",
              "⎛   3 ⎛   3    ⎞       3    ⎞  ⎝x ⎠\n",
              "⎝3⋅x ⋅⎝3⋅x  + 2⎠ + 12⋅x  + 2⎠⋅ℯ    "
            ],
            "text/latex": "$\\displaystyle \\left(3 x^{3} \\cdot \\left(3 x^{3} + 2\\right) + 12 x^{3} + 2\\right) e^{x^{3}}$"
          },
          "metadata": {},
          "execution_count": 21
        }
      ],
      "source": [
        "diff(expr, x, x)"
      ]
    },
    {
      "cell_type": "markdown",
      "metadata": {
        "id": "3nyjZ7XuWHF8"
      },
      "source": [
        "También se puede usar `diff` como método:\n",
        "\n"
      ]
    },
    {
      "cell_type": "code",
      "execution_count": 22,
      "metadata": {
        "colab": {
          "base_uri": "https://localhost:8080/",
          "height": 41
        },
        "id": "5oYJIOVJWHF8",
        "outputId": "e6d5b3a5-ada5-40ae-cff7-3571edd4af6f"
      },
      "outputs": [
        {
          "output_type": "execute_result",
          "data": {
            "text/plain": [
              "      ⎛ 3⎞        ⎛ 3⎞\n",
              "   4  ⎝x ⎠        ⎝x ⎠\n",
              "3⋅x ⋅ℯ     + 2⋅x⋅ℯ    "
            ],
            "text/latex": "$\\displaystyle 3 x^{4} e^{x^{3}} + 2 x e^{x^{3}}$"
          },
          "metadata": {},
          "execution_count": 22
        }
      ],
      "source": [
        "expr.diff(x)"
      ]
    },
    {
      "cell_type": "markdown",
      "metadata": {
        "id": "GoRtpnBUWHF8"
      },
      "source": [
        "Las integrales se calculan con `integrate`.\n",
        "\n"
      ]
    },
    {
      "cell_type": "code",
      "execution_count": 23,
      "metadata": {
        "colab": {
          "base_uri": "https://localhost:8080/",
          "height": 68
        },
        "id": "Ig22NV1tWHF8",
        "outputId": "18640e4f-7af3-4101-b8ac-aaa9b257cd9d"
      },
      "outputs": [
        {
          "output_type": "execute_result",
          "data": {
            "text/plain": [
              "⎛ ⎛ 3⎞          ⎞\n",
              "⎜ ⎝x ⎠      ⎛ 3⎞⎟\n",
              "⎜ℯ       2  ⎝x ⎠⎟\n",
              "⎜─────, x ⋅ℯ    ⎟\n",
              "⎝  3            ⎠"
            ],
            "text/latex": "$\\displaystyle \\left( \\frac{e^{x^{3}}}{3}, \\  x^{2} e^{x^{3}}\\right)$"
          },
          "metadata": {},
          "execution_count": 23
        }
      ],
      "source": [
        "from sympy import integrate\n",
        "\n",
        "integrate(expr, x), integrate(expr.diff(x), x)"
      ]
    },
    {
      "cell_type": "markdown",
      "metadata": {
        "id": "GevKzJZSWHF9"
      },
      "source": [
        "También se pueden hacer integrales definidas:\n",
        "\n"
      ]
    },
    {
      "cell_type": "code",
      "execution_count": 24,
      "metadata": {
        "colab": {
          "base_uri": "https://localhost:8080/",
          "height": 58
        },
        "id": "rvb0ruGMWHF9",
        "outputId": "b2c3231f-3ca3-498c-9610-cdc6d3e5090d"
      },
      "outputs": [
        {
          "output_type": "execute_result",
          "data": {
            "text/plain": [
              "(1/3, 1)"
            ],
            "text/latex": "$\\displaystyle \\left( \\frac{1}{3}, \\  1\\right)$"
          },
          "metadata": {},
          "execution_count": 24
        }
      ],
      "source": [
        "from sympy import oo\n",
        "\n",
        "integrate(x**2, (x, 0, 1)), integrate(exp(-x), (x, 0, oo))"
      ]
    },
    {
      "cell_type": "code",
      "execution_count": 25,
      "metadata": {
        "colab": {
          "base_uri": "https://localhost:8080/",
          "height": 47
        },
        "id": "vsdlCrffWHF9",
        "outputId": "f6e36602-669b-4090-89fb-8a2a108cfeb0"
      },
      "outputs": [
        {
          "output_type": "execute_result",
          "data": {
            "text/plain": [
              "π\n",
              "─\n",
              "4"
            ],
            "text/latex": "$\\displaystyle \\frac{\\pi}{4}$"
          },
          "metadata": {},
          "execution_count": 25
        }
      ],
      "source": [
        "integrate(exp(-x**2-y**2), (x, 0, oo), (y, 0, oo))"
      ]
    },
    {
      "cell_type": "markdown",
      "metadata": {
        "id": "El8-QH05WHF9"
      },
      "source": [
        "## Matrices\n",
        "\n"
      ]
    },
    {
      "cell_type": "markdown",
      "metadata": {
        "id": "rVfeOvhuWHF9"
      },
      "source": [
        "Una matriz se crea usando una lista de listas:\n",
        "\n"
      ]
    },
    {
      "cell_type": "code",
      "execution_count": 26,
      "metadata": {
        "colab": {
          "base_uri": "https://localhost:8080/",
          "height": 78
        },
        "id": "OFOxfpFmWHF-",
        "outputId": "cbb38e0c-dab1-41e4-f795-49ef18dd4681"
      },
      "outputs": [
        {
          "output_type": "execute_result",
          "data": {
            "text/plain": [
              "⎡1  2  3⎤\n",
              "⎢       ⎥\n",
              "⎢4  5  6⎥\n",
              "⎢       ⎥\n",
              "⎣7  8  9⎦"
            ],
            "text/latex": "$\\displaystyle \\left[\\begin{matrix}1 & 2 & 3\\\\4 & 5 & 6\\\\7 & 8 & 9\\end{matrix}\\right]$"
          },
          "metadata": {},
          "execution_count": 26
        }
      ],
      "source": [
        "from sympy import Matrix\n",
        "\n",
        "A = Matrix([[1, 2, 3], [4, 5, 6], [7, 8, 9]])\n",
        "A"
      ]
    },
    {
      "cell_type": "markdown",
      "metadata": {
        "id": "xEjoTqBkWHF-"
      },
      "source": [
        "Una matriz tiene varios métodos, que como cualquier objeto de Python, se pueden obtener con `dir`:\n",
        "\n"
      ]
    },
    {
      "cell_type": "code",
      "execution_count": 27,
      "metadata": {
        "colab": {
          "base_uri": "https://localhost:8080/"
        },
        "id": "rGF4XhfGWHF-",
        "outputId": "369cc4da-03be-4507-c2aa-a7fa82040a5b"
      },
      "outputs": [
        {
          "output_type": "execute_result",
          "data": {
            "text/plain": [
              "['C',\n",
              " 'D',\n",
              " 'H',\n",
              " 'LDLdecomposition',\n",
              " 'LDLsolve',\n",
              " 'LUdecomposition',\n",
              " 'LUdecompositionFF',\n",
              " 'LUdecomposition_Simple',\n",
              " 'LUsolve',\n",
              " 'QRdecomposition',\n",
              " 'QRsolve',\n",
              " 'T',\n",
              " '__abs__',\n",
              " '__add__',\n",
              " '__annotations__',\n",
              " '__array__',\n",
              " '__array_priority__',\n",
              " '__class__',\n",
              " '__delattr__',\n",
              " '__dict__',\n",
              " '__dir__',\n",
              " '__doc__',\n",
              " '__eq__',\n",
              " '__format__',\n",
              " '__ge__',\n",
              " '__getattribute__',\n",
              " '__getitem__',\n",
              " '__gt__',\n",
              " '__hash__',\n",
              " '__init__',\n",
              " '__init_subclass__',\n",
              " '__le__',\n",
              " '__len__',\n",
              " '__lt__',\n",
              " '__matmul__',\n",
              " '__mod__',\n",
              " '__module__',\n",
              " '__mul__',\n",
              " '__ne__',\n",
              " '__neg__',\n",
              " '__new__',\n",
              " '__pow__',\n",
              " '__radd__',\n",
              " '__reduce__',\n",
              " '__reduce_ex__',\n",
              " '__repr__',\n",
              " '__rmatmul__',\n",
              " '__rmul__',\n",
              " '__rsub__',\n",
              " '__setattr__',\n",
              " '__setitem__',\n",
              " '__sizeof__',\n",
              " '__slots__',\n",
              " '__str__',\n",
              " '__sub__',\n",
              " '__subclasshook__',\n",
              " '__truediv__',\n",
              " '__weakref__',\n",
              " '_class_priority',\n",
              " '_diff_wrt',\n",
              " '_dod_to_DomainMatrix',\n",
              " '_eval_Abs',\n",
              " '_eval_Mod',\n",
              " '_eval_add',\n",
              " '_eval_adjoint',\n",
              " '_eval_applyfunc',\n",
              " '_eval_as_real_imag',\n",
              " '_eval_atoms',\n",
              " '_eval_col_del',\n",
              " '_eval_col_insert',\n",
              " '_eval_col_join',\n",
              " '_eval_col_op_add_multiple_to_other_col',\n",
              " '_eval_col_op_multiply_col_by_const',\n",
              " '_eval_col_op_swap',\n",
              " '_eval_conjugate',\n",
              " '_eval_derivative',\n",
              " '_eval_det_bareiss',\n",
              " '_eval_det_berkowitz',\n",
              " '_eval_det_lu',\n",
              " '_eval_determinant',\n",
              " '_eval_diag',\n",
              " '_eval_extract',\n",
              " '_eval_eye',\n",
              " '_eval_free_symbols',\n",
              " '_eval_get_diag_blocks',\n",
              " '_eval_has',\n",
              " '_eval_inverse',\n",
              " '_eval_is_Identity',\n",
              " '_eval_is_anti_symmetric',\n",
              " '_eval_is_diagonal',\n",
              " '_eval_is_lower',\n",
              " '_eval_is_lower_hessenberg',\n",
              " '_eval_is_matrix_hermitian',\n",
              " '_eval_is_symbolic',\n",
              " '_eval_is_symmetric',\n",
              " '_eval_is_upper_hessenberg',\n",
              " '_eval_is_zero_matrix',\n",
              " '_eval_jordan_block',\n",
              " '_eval_matrix_exp_jblock',\n",
              " '_eval_matrix_log_jblock',\n",
              " '_eval_matrix_mul',\n",
              " '_eval_matrix_mul_elementwise',\n",
              " '_eval_matrix_rmul',\n",
              " '_eval_ones',\n",
              " '_eval_permute_cols',\n",
              " '_eval_permute_rows',\n",
              " '_eval_pow_by_cayley',\n",
              " '_eval_pow_by_recursion',\n",
              " '_eval_pow_by_recursion_dotprodsimp',\n",
              " '_eval_row_del',\n",
              " '_eval_row_insert',\n",
              " '_eval_row_join',\n",
              " '_eval_row_op_add_multiple_to_other_row',\n",
              " '_eval_row_op_multiply_row_by_const',\n",
              " '_eval_row_op_swap',\n",
              " '_eval_scalar_mul',\n",
              " '_eval_scalar_rmul',\n",
              " '_eval_simplify',\n",
              " '_eval_todok',\n",
              " '_eval_tolist',\n",
              " '_eval_trace',\n",
              " '_eval_transpose',\n",
              " '_eval_trigsimp',\n",
              " '_eval_values',\n",
              " '_eval_vec',\n",
              " '_eval_vech',\n",
              " '_eval_wilkinson',\n",
              " '_eval_zeros',\n",
              " '_flat_list_to_DomainMatrix',\n",
              " '_format_str',\n",
              " '_fromrep',\n",
              " '_handle_creation_inputs',\n",
              " '_handle_ndarray',\n",
              " '_has_nonnegative_diagonals',\n",
              " '_has_positive_diagonals',\n",
              " '_mat',\n",
              " '_matrix_pow_by_jordan_blocks',\n",
              " '_new',\n",
              " '_normalize_op_args',\n",
              " '_op_priority',\n",
              " '_rep',\n",
              " '_repr_disabled',\n",
              " '_repr_latex_',\n",
              " '_repr_png_',\n",
              " '_repr_svg_',\n",
              " '_sage_',\n",
              " '_setitem',\n",
              " '_simplify',\n",
              " '_smat_to_DomainMatrix',\n",
              " '_sympify',\n",
              " '_unify_element_sympy',\n",
              " 'add',\n",
              " 'adjoint',\n",
              " 'adjugate',\n",
              " 'analytic_func',\n",
              " 'applyfunc',\n",
              " 'as_immutable',\n",
              " 'as_mutable',\n",
              " 'as_real_imag',\n",
              " 'atoms',\n",
              " 'berkowitz',\n",
              " 'berkowitz_charpoly',\n",
              " 'berkowitz_det',\n",
              " 'berkowitz_eigenvals',\n",
              " 'berkowitz_minors',\n",
              " 'bidiagonal_decomposition',\n",
              " 'bidiagonalize',\n",
              " 'charpoly',\n",
              " 'cholesky',\n",
              " 'cholesky_solve',\n",
              " 'cofactor',\n",
              " 'cofactorMatrix',\n",
              " 'cofactor_matrix',\n",
              " 'col',\n",
              " 'col_del',\n",
              " 'col_insert',\n",
              " 'col_join',\n",
              " 'col_op',\n",
              " 'col_swap',\n",
              " 'cols',\n",
              " 'columnspace',\n",
              " 'companion',\n",
              " 'condition_number',\n",
              " 'conjugate',\n",
              " 'connected_components',\n",
              " 'connected_components_decomposition',\n",
              " 'copy',\n",
              " 'copyin_list',\n",
              " 'copyin_matrix',\n",
              " 'cross',\n",
              " 'det',\n",
              " 'det_LU_decomposition',\n",
              " 'det_bareis',\n",
              " 'diag',\n",
              " 'diagonal',\n",
              " 'diagonal_solve',\n",
              " 'diagonalize',\n",
              " 'diff',\n",
              " 'doit',\n",
              " 'dot',\n",
              " 'dual',\n",
              " 'echelon_form',\n",
              " 'eigenvals',\n",
              " 'eigenvects',\n",
              " 'elementary_col_op',\n",
              " 'elementary_row_op',\n",
              " 'equals',\n",
              " 'evalf',\n",
              " 'exp',\n",
              " 'expand',\n",
              " 'extract',\n",
              " 'eye',\n",
              " 'fill',\n",
              " 'flat',\n",
              " 'free_symbols',\n",
              " 'gauss_jordan_solve',\n",
              " 'get_diag_blocks',\n",
              " 'has',\n",
              " 'hstack',\n",
              " 'integrate',\n",
              " 'inv',\n",
              " 'inv_mod',\n",
              " 'inverse_ADJ',\n",
              " 'inverse_BLOCK',\n",
              " 'inverse_CH',\n",
              " 'inverse_GE',\n",
              " 'inverse_LDL',\n",
              " 'inverse_LU',\n",
              " 'inverse_QR',\n",
              " 'irregular',\n",
              " 'is_Identity',\n",
              " 'is_Matrix',\n",
              " 'is_MatrixExpr',\n",
              " 'is_anti_symmetric',\n",
              " 'is_diagonal',\n",
              " 'is_diagonalizable',\n",
              " 'is_echelon',\n",
              " 'is_hermitian',\n",
              " 'is_indefinite',\n",
              " 'is_lower',\n",
              " 'is_lower_hessenberg',\n",
              " 'is_negative_definite',\n",
              " 'is_negative_semidefinite',\n",
              " 'is_nilpotent',\n",
              " 'is_positive_definite',\n",
              " 'is_positive_semidefinite',\n",
              " 'is_square',\n",
              " 'is_strongly_diagonally_dominant',\n",
              " 'is_symbolic',\n",
              " 'is_symmetric',\n",
              " 'is_upper',\n",
              " 'is_upper_hessenberg',\n",
              " 'is_weakly_diagonally_dominant',\n",
              " 'is_zero',\n",
              " 'is_zero_matrix',\n",
              " 'jacobian',\n",
              " 'jordan_block',\n",
              " 'jordan_cell',\n",
              " 'jordan_cells',\n",
              " 'jordan_form',\n",
              " 'key2bounds',\n",
              " 'key2ij',\n",
              " 'kind',\n",
              " 'left_eigenvects',\n",
              " 'limit',\n",
              " 'log',\n",
              " 'lower_triangular',\n",
              " 'lower_triangular_solve',\n",
              " 'minor',\n",
              " 'minorEntry',\n",
              " 'minorMatrix',\n",
              " 'minor_submatrix',\n",
              " 'multiply',\n",
              " 'multiply_elementwise',\n",
              " 'n',\n",
              " 'norm',\n",
              " 'normalized',\n",
              " 'nullspace',\n",
              " 'one',\n",
              " 'ones',\n",
              " 'orthogonalize',\n",
              " 'per',\n",
              " 'permute',\n",
              " 'permuteBkwd',\n",
              " 'permuteFwd',\n",
              " 'permute_cols',\n",
              " 'permute_rows',\n",
              " 'pinv',\n",
              " 'pinv_solve',\n",
              " 'pow',\n",
              " 'print_nonzero',\n",
              " 'project',\n",
              " 'rank',\n",
              " 'rank_decomposition',\n",
              " 'refine',\n",
              " 'replace',\n",
              " 'reshape',\n",
              " 'rmultiply',\n",
              " 'rot90',\n",
              " 'row',\n",
              " 'row_del',\n",
              " 'row_insert',\n",
              " 'row_join',\n",
              " 'row_op',\n",
              " 'row_swap',\n",
              " 'rows',\n",
              " 'rowspace',\n",
              " 'rref',\n",
              " 'shape',\n",
              " 'simplify',\n",
              " 'singular_value_decomposition',\n",
              " 'singular_values',\n",
              " 'solve',\n",
              " 'solve_least_squares',\n",
              " 'strongly_connected_components',\n",
              " 'strongly_connected_components_decomposition',\n",
              " 'subs',\n",
              " 'table',\n",
              " 'todod',\n",
              " 'todok',\n",
              " 'tolist',\n",
              " 'trace',\n",
              " 'transpose',\n",
              " 'upper_hessenberg_decomposition',\n",
              " 'upper_triangular',\n",
              " 'upper_triangular_solve',\n",
              " 'values',\n",
              " 'vec',\n",
              " 'vech',\n",
              " 'vstack',\n",
              " 'wilkinson',\n",
              " 'xreplace',\n",
              " 'zero',\n",
              " 'zeros',\n",
              " 'zip_row_op']"
            ]
          },
          "metadata": {},
          "execution_count": 27
        }
      ],
      "source": [
        "dir(A)"
      ]
    },
    {
      "cell_type": "markdown",
      "metadata": {
        "id": "bvtxzXRXWHF-"
      },
      "source": [
        "El resultado del método `eigenvals` es un diccionario, a cada valor propio se le asocia su multiplicidad.\n",
        "\n"
      ]
    },
    {
      "cell_type": "code",
      "execution_count": 28,
      "metadata": {
        "colab": {
          "base_uri": "https://localhost:8080/",
          "height": 88
        },
        "id": "zqSpcTa8WHF_",
        "outputId": "58433a57-c11c-42a0-865f-f139402a127e"
      },
      "outputs": [
        {
          "output_type": "execute_result",
          "data": {
            "text/plain": [
              "⎛                                      ⎡                ⎛               ⎡⎡  3⋅\n",
              "⎜                                      ⎢                ⎜               ⎢⎢- ──\n",
              "⎜                                      ⎢⎛      ⎡⎡1 ⎤⎤⎞  ⎜               ⎢⎢    \n",
              "⎜⎧      15   3⋅√33     15   3⋅√33   ⎫  ⎢⎜      ⎢⎢  ⎥⎥⎟  ⎜15   3⋅√33     ⎢⎢    \n",
              "⎜⎨0: 1, ── - ─────: 1, ── + ─────: 1⎬, ⎢⎜0, 1, ⎢⎢-2⎥⎥⎟, ⎜── - ─────, 1, ⎢⎢ 1  \n",
              "⎜⎩      2      2       2      2     ⎭  ⎢⎜      ⎢⎢  ⎥⎥⎟  ⎜2      2       ⎢⎢ ─ -\n",
              "⎜                                      ⎢⎝      ⎣⎣1 ⎦⎦⎠  ⎜               ⎢⎢ 4  \n",
              "⎜                                      ⎢                ⎜               ⎢⎢    \n",
              "⎝                                      ⎣                ⎝               ⎣⎣    \n",
              "\n",
              "√33   1⎤⎤⎞  ⎛               ⎡⎡  1   3⋅√33⎤⎤⎞⎤⎞\n",
              "─── - ─⎥⎥⎟  ⎜               ⎢⎢- ─ + ─────⎥⎥⎟⎥⎟\n",
              "22    2⎥⎥⎟  ⎜               ⎢⎢  2     22 ⎥⎥⎟⎥⎟\n",
              "       ⎥⎥⎟  ⎜15   3⋅√33     ⎢⎢           ⎥⎥⎟⎥⎟\n",
              " 3⋅√33 ⎥⎥⎟, ⎜── + ─────, 1, ⎢⎢ 1   3⋅√33 ⎥⎥⎟⎥⎟\n",
              " ───── ⎥⎥⎟  ⎜2      2       ⎢⎢ ─ + ───── ⎥⎥⎟⎥⎟\n",
              "   44  ⎥⎥⎟  ⎜               ⎢⎢ 4     44  ⎥⎥⎟⎥⎟\n",
              "       ⎥⎥⎟  ⎜               ⎢⎢           ⎥⎥⎟⎥⎟\n",
              " 1     ⎦⎦⎠  ⎝               ⎣⎣     1     ⎦⎦⎠⎦⎠"
            ],
            "text/latex": "$\\displaystyle \\left( \\left\\{ 0 : 1, \\  \\frac{15}{2} - \\frac{3 \\sqrt{33}}{2} : 1, \\  \\frac{15}{2} + \\frac{3 \\sqrt{33}}{2} : 1\\right\\}, \\  \\left[ \\left( 0, \\  1, \\  \\left[ \\left[\\begin{matrix}1\\\\-2\\\\1\\end{matrix}\\right]\\right]\\right), \\  \\left( \\frac{15}{2} - \\frac{3 \\sqrt{33}}{2}, \\  1, \\  \\left[ \\left[\\begin{matrix}- \\frac{3 \\sqrt{33}}{22} - \\frac{1}{2}\\\\\\frac{1}{4} - \\frac{3 \\sqrt{33}}{44}\\\\1\\end{matrix}\\right]\\right]\\right), \\  \\left( \\frac{15}{2} + \\frac{3 \\sqrt{33}}{2}, \\  1, \\  \\left[ \\left[\\begin{matrix}- \\frac{1}{2} + \\frac{3 \\sqrt{33}}{22}\\\\\\frac{1}{4} + \\frac{3 \\sqrt{33}}{44}\\\\1\\end{matrix}\\right]\\right]\\right)\\right]\\right)$"
          },
          "metadata": {},
          "execution_count": 28
        }
      ],
      "source": [
        "A.eigenvals(), A.eigenvects()"
      ]
    },
    {
      "cell_type": "code",
      "execution_count": 29,
      "metadata": {
        "colab": {
          "base_uri": "https://localhost:8080/",
          "height": 58
        },
        "id": "CcfiG6xdWHF_",
        "outputId": "00b4d704-276d-4ed6-9292-919b17584cb5"
      },
      "outputs": [
        {
          "output_type": "execute_result",
          "data": {
            "text/plain": [
              "⎡1  1⎤\n",
              "⎢    ⎥\n",
              "⎣0  1⎦"
            ],
            "text/latex": "$\\displaystyle \\left[\\begin{matrix}1 & 1\\\\0 & 1\\end{matrix}\\right]$"
          },
          "metadata": {},
          "execution_count": 29
        }
      ],
      "source": [
        "B = Matrix([[1, 1], [0, 1]])\n",
        "B"
      ]
    },
    {
      "cell_type": "code",
      "execution_count": 30,
      "metadata": {
        "colab": {
          "base_uri": "https://localhost:8080/",
          "height": 58
        },
        "id": "rhaDuy5_WHF_",
        "outputId": "66a79526-12ab-4bb4-e470-fe51b36e8fc4"
      },
      "outputs": [
        {
          "output_type": "execute_result",
          "data": {
            "text/plain": [
              "⎛⎡1  2⎤  ⎡1  3⎤  ⎡1  4⎤⎞\n",
              "⎜⎢    ⎥, ⎢    ⎥, ⎢    ⎥⎟\n",
              "⎝⎣0  1⎦  ⎣0  1⎦  ⎣0  1⎦⎠"
            ],
            "text/latex": "$\\displaystyle \\left( \\left[\\begin{matrix}1 & 2\\\\0 & 1\\end{matrix}\\right], \\  \\left[\\begin{matrix}1 & 3\\\\0 & 1\\end{matrix}\\right], \\  \\left[\\begin{matrix}1 & 4\\\\0 & 1\\end{matrix}\\right]\\right)$"
          },
          "metadata": {},
          "execution_count": 30
        }
      ],
      "source": [
        "B**2, B**3, B**4"
      ]
    },
    {
      "cell_type": "code",
      "execution_count": 31,
      "metadata": {
        "colab": {
          "base_uri": "https://localhost:8080/",
          "height": 58
        },
        "id": "6fODGOxrWHF_",
        "outputId": "93d93810-694d-4e88-d7e8-26199744b6b5"
      },
      "outputs": [
        {
          "output_type": "execute_result",
          "data": {
            "text/plain": [
              "⎡x     y   ⎤\n",
              "⎢          ⎥\n",
              "⎢ 2        ⎥\n",
              "⎣x   sin(y)⎦"
            ],
            "text/latex": "$\\displaystyle \\left[\\begin{matrix}x & y\\\\x^{2} & \\sin{\\left(y \\right)}\\end{matrix}\\right]$"
          },
          "metadata": {},
          "execution_count": 31
        }
      ],
      "source": [
        "C = Matrix([[x, y], [x**2, sin(y)]])\n",
        "C"
      ]
    },
    {
      "cell_type": "code",
      "execution_count": 32,
      "metadata": {
        "colab": {
          "base_uri": "https://localhost:8080/",
          "height": 59
        },
        "id": "4skxcZ5SWHGA",
        "outputId": "d54dc510-c410-4d17-c43a-b9174262b01b"
      },
      "outputs": [
        {
          "output_type": "execute_result",
          "data": {
            "text/plain": [
              "⎡       3      3    2                 2  2    2                       2   ⎤\n",
              "⎢    2⋅x ⋅y + x  + x ⋅y⋅sin(y)       x ⋅y  + x ⋅y + x⋅y⋅sin(y) + y⋅sin (y)⎥\n",
              "⎢                                                                         ⎥\n",
              "⎢ 4      4    3           2    2         3        2               3       ⎥\n",
              "⎣x ⋅y + x  + x ⋅sin(y) + x ⋅sin (y)     x ⋅y + 2⋅x ⋅y⋅sin(y) + sin (y)    ⎦"
            ],
            "text/latex": "$\\displaystyle \\left[\\begin{matrix}2 x^{3} y + x^{3} + x^{2} y \\sin{\\left(y \\right)} & x^{2} y^{2} + x^{2} y + x y \\sin{\\left(y \\right)} + y \\sin^{2}{\\left(y \\right)}\\\\x^{4} y + x^{4} + x^{3} \\sin{\\left(y \\right)} + x^{2} \\sin^{2}{\\left(y \\right)} & x^{3} y + 2 x^{2} y \\sin{\\left(y \\right)} + \\sin^{3}{\\left(y \\right)}\\end{matrix}\\right]$"
          },
          "metadata": {},
          "execution_count": 32
        }
      ],
      "source": [
        "D = C**3\n",
        "D"
      ]
    },
    {
      "cell_type": "markdown",
      "metadata": {
        "id": "y5xs5abTWHGA"
      },
      "source": [
        "Para obtener entradas de la matriz se pueden usar los métodos `row` o `col`.\n",
        "\n"
      ]
    },
    {
      "cell_type": "code",
      "execution_count": 33,
      "metadata": {
        "colab": {
          "base_uri": "https://localhost:8080/",
          "height": 59
        },
        "id": "u_ocUti5WHGA",
        "outputId": "298945e4-08fb-47b6-c693-da813c6d7f44"
      },
      "outputs": [
        {
          "output_type": "execute_result",
          "data": {
            "text/plain": [
              "⎛                                       ⎡ 2  2    2                       2   \n",
              "⎜ 2  2    2                       2     ⎢x ⋅y  + x ⋅y + x⋅y⋅sin(y) + y⋅sin (y)\n",
              "⎜x ⋅y  + x ⋅y + x⋅y⋅sin(y) + y⋅sin (y), ⎢                                     \n",
              "⎜                                       ⎢    3        2               3       \n",
              "⎝                                       ⎣   x ⋅y + 2⋅x ⋅y⋅sin(y) + sin (y)    \n",
              "\n",
              "⎤⎞\n",
              "⎥⎟\n",
              "⎥⎟\n",
              "⎥⎟\n",
              "⎦⎠"
            ],
            "text/latex": "$\\displaystyle \\left( x^{2} y^{2} + x^{2} y + x y \\sin{\\left(y \\right)} + y \\sin^{2}{\\left(y \\right)}, \\  \\left[\\begin{matrix}x^{2} y^{2} + x^{2} y + x y \\sin{\\left(y \\right)} + y \\sin^{2}{\\left(y \\right)}\\\\x^{3} y + 2 x^{2} y \\sin{\\left(y \\right)} + \\sin^{3}{\\left(y \\right)}\\end{matrix}\\right]\\right)$"
          },
          "metadata": {},
          "execution_count": 33
        }
      ],
      "source": [
        "D.row(0)[1], D.col(1)"
      ]
    },
    {
      "cell_type": "code",
      "execution_count": 34,
      "metadata": {
        "colab": {
          "base_uri": "https://localhost:8080/",
          "height": 58
        },
        "id": "sReJwakuWHGA",
        "outputId": "1bdcc1d2-4d4a-4d73-ec0b-ca9b59b460ac"
      },
      "outputs": [
        {
          "output_type": "execute_result",
          "data": {
            "text/plain": [
              "⎡1  0⎤\n",
              "⎢    ⎥\n",
              "⎣1  0⎦"
            ],
            "text/latex": "$\\displaystyle \\left[\\begin{matrix}1 & 0\\\\1 & 0\\end{matrix}\\right]$"
          },
          "metadata": {},
          "execution_count": 34
        }
      ],
      "source": [
        "D.subs({x:1, y:0})"
      ]
    },
    {
      "cell_type": "code",
      "execution_count": 35,
      "metadata": {
        "colab": {
          "base_uri": "https://localhost:8080/",
          "height": 37
        },
        "id": "gRQtfR50WHGB",
        "outputId": "5f1b91ac-2b79-4c56-eb91-c7e2ac54ab22"
      },
      "outputs": [
        {
          "output_type": "execute_result",
          "data": {
            "text/plain": [
              "{0: 1, 1: 1}"
            ],
            "text/latex": "$\\displaystyle \\left\\{ 0 : 1, \\  1 : 1\\right\\}$"
          },
          "metadata": {},
          "execution_count": 35
        }
      ],
      "source": [
        "D.subs({x:1, y:0}).eigenvals()"
      ]
    },
    {
      "cell_type": "code",
      "execution_count": 36,
      "metadata": {
        "colab": {
          "base_uri": "https://localhost:8080/"
        },
        "id": "RcB0G2mQWHGB",
        "outputId": "8bdbc9de-167a-4f82-cb2f-00955ac57cc3"
      },
      "outputs": [
        {
          "output_type": "execute_result",
          "data": {
            "text/plain": [
              "(dict_keys([1, 0]), [1, 0])"
            ]
          },
          "metadata": {},
          "execution_count": 36
        }
      ],
      "source": [
        "vals = D.subs({x:1, y:0}).eigenvals().keys()\n",
        "vals, list(vals)"
      ]
    },
    {
      "cell_type": "markdown",
      "metadata": {
        "id": "xYZdM9esWHGB"
      },
      "source": [
        "## Tarea\n",
        "\n"
      ]
    },
    {
      "cell_type": "markdown",
      "metadata": {
        "id": "dsAxIW_LWHGB"
      },
      "source": [
        "### Ecuación de recta tangente\n",
        "\n"
      ]
    },
    {
      "cell_type": "markdown",
      "metadata": {
        "id": "SMZTr9TeWHGC"
      },
      "source": [
        "Dada una expresión algebraica y un punto, define una función que regrese la ecuación de la recta tangente en el punto. (La ecuación se puede representar con `Eq`).\n",
        "\n"
      ]
    },
    {
      "cell_type": "markdown",
      "metadata": {
        "id": "u_iQQP-MWHGC"
      },
      "source": [
        "### Matrices enteras con valores propios enteros\n",
        "\n"
      ]
    },
    {
      "cell_type": "markdown",
      "metadata": {
        "id": "fZIKVxxnWHGC"
      },
      "source": [
        "Define una función que dada una lista, determine si todos sus valores son números enteros. (*Sugerencia*: Los números flotantes tienen un método `is_integer` que regresa `True` o `False`. Un número (incluyendo enteros de sympy) se puede convertir a flotante con la función `float`. La función `all`, que está incluida con Python, es tal que dada una lista, regresa `True` si todos sus elementos son `True`.)\n",
        "Usa la función anterior para determinar todas las matrices de la forma $\\begin{pmatrix}1 & n\\\\ 1&1\\end{pmatrix}$ con $n\\in\\{0,1,2,\\ldots, 99\\}$ tales que todos sus valores propios son enteros.\n",
        "\n"
      ]
    }
  ],
  "metadata": {
    "kernelspec": {
      "display_name": "Python 3",
      "language": "python",
      "name": "python3"
    },
    "language_info": {
      "codemirror_mode": {
        "name": "ipython",
        "version": 3
      },
      "file_extension": ".py",
      "mimetype": "text/x-python",
      "name": "python",
      "nbconvert_exporter": "python",
      "pygments_lexer": "ipython3",
      "version": "3.9.2"
    },
    "org": null,
    "colab": {
      "provenance": [],
      "include_colab_link": true
    }
  },
  "nbformat": 4,
  "nbformat_minor": 0
}