{
  "cells": [
    {
      "cell_type": "markdown",
      "metadata": {
        "id": "view-in-github",
        "colab_type": "text"
      },
      "source": [
        "<a href=\"https://colab.research.google.com/github/Claudia-Salas/python/blob/main/2023_08_16_control_de_flujo.ipynb\" target=\"_parent\"><img src=\"https://colab.research.google.com/assets/colab-badge.svg\" alt=\"Open In Colab\"/></a>"
      ]
    },
    {
      "cell_type": "markdown",
      "metadata": {
        "id": "mPqKc17vCo4Y"
      },
      "source": [
        "Control de flujo\n",
        "================\n",
        "\n",
        "**Date:** 2022-08-16\n",
        "\n"
      ]
    },
    {
      "cell_type": "markdown",
      "metadata": {
        "id": "vIngGOgKCo4b"
      },
      "source": [
        "## Control de flujo\n",
        "\n"
      ]
    },
    {
      "cell_type": "markdown",
      "metadata": {
        "id": "lyT4rXRvCo4c"
      },
      "source": [
        "### `if`\n",
        "\n"
      ]
    },
    {
      "cell_type": "code",
      "execution_count": 1,
      "metadata": {
        "colab": {
          "base_uri": "https://localhost:8080/"
        },
        "id": "JMbHBkldCo4d",
        "outputId": "aebd426d-b203-4821-944b-25c26b826b37"
      },
      "outputs": [
        {
          "output_type": "execute_result",
          "data": {
            "text/plain": [
              "['Tamara', 'Claudia', 'Gisell', 'Edwin', 'Camila', 'Claudio', 'Leonor']"
            ]
          },
          "metadata": {},
          "execution_count": 1
        }
      ],
      "source": [
        "inscritos = [\"Tamara\", \"Claudia\", \"Gisell\", \"Edwin\", \"Camila\"]\n",
        "oyentes = [\"Claudio\", \"Leonor\"]\n",
        "estudiantes = inscritos + oyentes\n",
        "estudiantes"
      ]
    },
    {
      "cell_type": "markdown",
      "source": [
        "En la primera celda se sumo las dos cadenas, la de inscritos y los oyentes, al imprimir estudiantes nos da todos los estudiantes juntos"
      ],
      "metadata": {
        "id": "tBqZvpigDpi8"
      }
    },
    {
      "cell_type": "code",
      "execution_count": 2,
      "metadata": {
        "colab": {
          "base_uri": "https://localhost:8080/"
        },
        "id": "d2e7DMjGCo4e",
        "outputId": "4af60a4b-a3ea-47c1-bb49-a41cbbf9c7d6"
      },
      "outputs": [
        {
          "output_type": "stream",
          "name": "stdout",
          "text": [
            "Son muchos estudiantes\n"
          ]
        }
      ],
      "source": [
        "if len(estudiantes) > 5:\n",
        "    print(\"Son muchos estudiantes\")"
      ]
    },
    {
      "cell_type": "markdown",
      "source": [
        "nos dice que si los estudiantes son mas que 5 nos dice que son muchos estudiantes"
      ],
      "metadata": {
        "id": "g2w31xqID7Cv"
      }
    },
    {
      "cell_type": "code",
      "execution_count": 3,
      "metadata": {
        "colab": {
          "base_uri": "https://localhost:8080/"
        },
        "id": "AXHfDvC3Co4f",
        "outputId": "4179c851-e598-4bb7-c74d-31f7c9554ab9"
      },
      "outputs": [
        {
          "output_type": "stream",
          "name": "stdout",
          "text": [
            "Son pocos estudiantes. Ojalá entren oyentes\n"
          ]
        }
      ],
      "source": [
        "if len(estudiantes) > 10:\n",
        "    print(\"Son muchos estudiantes\")\n",
        "else:\n",
        "    print(\"Son pocos estudiantes\", end=\". \")\n",
        "    print(\"Ojalá entren oyentes\")"
      ]
    },
    {
      "cell_type": "markdown",
      "source": [
        "si son mas de 10 son muchos estudiantes, pero como tenemos solo 7 nos dice que entonces son pocos (else)"
      ],
      "metadata": {
        "id": "n_6abl3FEFAA"
      }
    },
    {
      "cell_type": "code",
      "execution_count": 4,
      "metadata": {
        "colab": {
          "base_uri": "https://localhost:8080/"
        },
        "id": "eSW1w07tCo4f",
        "outputId": "1a3531e9-e3ea-4ffc-d759-73995865bef5"
      },
      "outputs": [
        {
          "output_type": "stream",
          "name": "stdout",
          "text": [
            "Son cuando mucho cinco estudiantes\n"
          ]
        }
      ],
      "source": [
        "if len(inscritos) <= 5:\n",
        "    print(\"Son cuando mucho cinco estudiantes\")\n",
        "elif len(inscritos) == 6:\n",
        "    print(\"Son seis estudiantes\")\n",
        "else:\n",
        "    print(\"Son muchos estudiantes\", end=\". \")\n",
        "    print(\"Ojalá no entren oyentes\")"
      ]
    },
    {
      "cell_type": "markdown",
      "source": [
        "elif es que si fueran , para muchas muchas condiciones"
      ],
      "metadata": {
        "id": "82uL_RhCEch-"
      }
    },
    {
      "cell_type": "markdown",
      "metadata": {
        "id": "BrO5hw_uCo4g"
      },
      "source": [
        "### `for`\n",
        "\n"
      ]
    },
    {
      "cell_type": "code",
      "execution_count": 8,
      "metadata": {
        "colab": {
          "base_uri": "https://localhost:8080/"
        },
        "id": "I8s1L41kCo4g",
        "outputId": "dbf7f738-c4f7-4f73-9765-9a29f6e0a316"
      },
      "outputs": [
        {
          "output_type": "stream",
          "name": "stdout",
          "text": [
            "Hola Tamara ¿Cómo estás?\n",
            "Hola Claudia ¿Cómo estás?\n",
            "Hola Gisell ¿Cómo estás?\n",
            "Hola Edwin ¿Cómo estás?\n",
            "Hola Camila ¿Cómo estás?\n",
            "Hola Claudio ¿Cómo estás?\n",
            "Hola Leonor ¿Cómo estás?\n"
          ]
        }
      ],
      "source": [
        "for estudiante in estudiantes:\n",
        "    print(\"Hola\", estudiante, \"¿Cómo estás?\")"
      ]
    },
    {
      "cell_type": "markdown",
      "source": [
        "el for para que se le aplique la indicacion a cada uno de los estudiantes"
      ],
      "metadata": {
        "id": "4ga49Qz6ExNn"
      }
    },
    {
      "cell_type": "code",
      "execution_count": 9,
      "metadata": {
        "colab": {
          "base_uri": "https://localhost:8080/"
        },
        "id": "T2SOk2faCo4h",
        "outputId": "4f03f5c4-48f5-4522-cee9-7d5cd7fddfe0"
      },
      "outputs": [
        {
          "output_type": "stream",
          "name": "stdout",
          "text": [
            "Hola Tamara\n",
            "Hola Claudia\n",
            "Hola Gisell\n",
            "Hola Edwin\n",
            "Hola Camila\n",
            "Hola Claudio\n",
            "Hola Leonor\n"
          ]
        }
      ],
      "source": [
        "for i in range(len(estudiantes)):\n",
        "    print(\"Hola\", estudiantes[i])"
      ]
    },
    {
      "cell_type": "markdown",
      "source": [
        "range es para hacer la lista del 0 al 7 en este caso, porque len nos dice el tamaño de la lista, pero existe otra forma de recorrer listas"
      ],
      "metadata": {
        "id": "lBieoKLyFqT2"
      }
    },
    {
      "cell_type": "code",
      "execution_count": 12,
      "metadata": {
        "colab": {
          "base_uri": "https://localhost:8080/"
        },
        "id": "-TYXI4Q7Co4i",
        "outputId": "831ce429-edd9-4b43-e5f9-248415c78bcc"
      },
      "outputs": [
        {
          "output_type": "stream",
          "name": "stdout",
          "text": [
            "3\n",
            "2\n",
            "1\n",
            "0\n",
            "Booom\n",
            "-1\n"
          ]
        }
      ],
      "source": [
        "for j in range(3, -2, -1):\n",
        "    print(j)\n",
        "    if j == 0:\n",
        "        print(\"Booom\")"
      ]
    },
    {
      "cell_type": "markdown",
      "source": [
        "nos dice que empieza en el 3 y termina uno antes del -2, dando saltos de 1 en 1 contando hacia atras\n",
        "\n",
        "\n"
      ],
      "metadata": {
        "id": "LcaE_leyGlar"
      }
    },
    {
      "cell_type": "code",
      "execution_count": 13,
      "metadata": {
        "colab": {
          "base_uri": "https://localhost:8080/"
        },
        "id": "egaFyTJqCo4i",
        "outputId": "a7c590fd-61c6-4dc1-d47f-d4d5b3f0be81"
      },
      "outputs": [
        {
          "output_type": "execute_result",
          "data": {
            "text/plain": [
              "range(0, 7897987978979779878979797987987979779797979)"
            ]
          },
          "metadata": {},
          "execution_count": 13
        }
      ],
      "source": [
        "range(7897987978979779878979797987987979779797979)"
      ]
    },
    {
      "cell_type": "code",
      "source": [
        "range(7)"
      ],
      "metadata": {
        "colab": {
          "base_uri": "https://localhost:8080/"
        },
        "id": "A6rL9k0iHFHB",
        "outputId": "07846c6b-7845-40ab-eaed-e6bc92523f59"
      },
      "execution_count": 14,
      "outputs": [
        {
          "output_type": "execute_result",
          "data": {
            "text/plain": [
              "range(0, 7)"
            ]
          },
          "metadata": {},
          "execution_count": 14
        }
      ]
    },
    {
      "cell_type": "markdown",
      "source": [
        "solo aparece (0,7)"
      ],
      "metadata": {
        "id": "QjnCoNQMHb_-"
      }
    },
    {
      "cell_type": "code",
      "source": [
        "list(range(7))\n"
      ],
      "metadata": {
        "colab": {
          "base_uri": "https://localhost:8080/"
        },
        "id": "DOknm3y2HUtS",
        "outputId": "4cf6e49c-0036-4bbe-b455-f1e5ab22d8f6"
      },
      "execution_count": 16,
      "outputs": [
        {
          "output_type": "execute_result",
          "data": {
            "text/plain": [
              "[0, 1, 2, 3, 4, 5, 6]"
            ]
          },
          "metadata": {},
          "execution_count": 16
        }
      ]
    },
    {
      "cell_type": "markdown",
      "source": [
        "agregandole el list, ya nos da la lista del 0 a antes del 7 de la siguiente manera (0,1,2,3,4,5,6)"
      ],
      "metadata": {
        "id": "pWkMDp4nHelE"
      }
    },
    {
      "cell_type": "markdown",
      "metadata": {
        "id": "M2MtIa9ICo4j"
      },
      "source": [
        "La suma de todos los números del 1 al 100.\n",
        "\n"
      ]
    },
    {
      "cell_type": "code",
      "execution_count": 18,
      "metadata": {
        "colab": {
          "base_uri": "https://localhost:8080/"
        },
        "id": "cEhLpoqwCo4j",
        "outputId": "2567f3d6-b0ca-4c9c-a634-65107378e1c1"
      },
      "outputs": [
        {
          "output_type": "execute_result",
          "data": {
            "text/plain": [
              "5050"
            ]
          },
          "metadata": {},
          "execution_count": 18
        }
      ],
      "source": [
        "sum(range(101))"
      ]
    },
    {
      "cell_type": "markdown",
      "source": [
        "sum, hace toda la suma del 1 al 100"
      ],
      "metadata": {
        "id": "etfDKiTyIcFA"
      }
    },
    {
      "cell_type": "code",
      "source": [
        "range(5,100,2)"
      ],
      "metadata": {
        "colab": {
          "base_uri": "https://localhost:8080/"
        },
        "id": "yGfD-2VTIGVL",
        "outputId": "ff6d0728-4a27-42cc-ca54-b5a430b0cad0"
      },
      "execution_count": 20,
      "outputs": [
        {
          "output_type": "execute_result",
          "data": {
            "text/plain": [
              "range(5, 100, 2)"
            ]
          },
          "metadata": {},
          "execution_count": 20
        }
      ]
    },
    {
      "cell_type": "markdown",
      "metadata": {
        "id": "iTZgpjhsCo4k"
      },
      "source": [
        "### break, continue y else en ciclos for\n",
        "\n"
      ]
    },
    {
      "cell_type": "markdown",
      "metadata": {
        "id": "O4K7rQMUCo4k"
      },
      "source": [
        "#### break\n",
        "\n"
      ]
    },
    {
      "cell_type": "markdown",
      "metadata": {
        "id": "u-QPDXVCCo4k"
      },
      "source": [
        "`break` sirve para interrumpir un ciclo for.\n",
        "\n"
      ]
    },
    {
      "cell_type": "code",
      "execution_count": 22,
      "metadata": {
        "colab": {
          "base_uri": "https://localhost:8080/"
        },
        "id": "2VgjbbrpCo4l",
        "outputId": "23194556-1938-430a-ec53-bb2141c7fea3"
      },
      "outputs": [
        {
          "output_type": "stream",
          "name": "stdout",
          "text": [
            "Hola Tamara ¿Cómo estás?\n",
            "Hola Claudia ¿Cómo estás?\n",
            "Hola Gisell ¿Cómo estás?\n",
            "Ya saludé a los inscritos\n"
          ]
        }
      ],
      "source": [
        "for estudiante in estudiantes:\n",
        "    print(\"Hola\", estudiante, \"¿Cómo estás?\")\n",
        "    if estudiante == \"Gisell\":\n",
        "        break\n",
        "\n",
        "print(\"Ya saludé a los inscritos\")"
      ]
    },
    {
      "cell_type": "markdown",
      "source": [
        "con el ciclo for saluda a los estudiantes, pero si el estudiante es Gisell deja de saludar a los demas estudiantes, break hace que nos salgamos del for y nos dice que ya acabamos de saludar a todos"
      ],
      "metadata": {
        "id": "Qxc9eqUnI2LW"
      }
    },
    {
      "cell_type": "markdown",
      "metadata": {
        "id": "xuHLl6OmCo4m"
      },
      "source": [
        "#### else en un ciclo for\n",
        "\n"
      ]
    },
    {
      "cell_type": "markdown",
      "metadata": {
        "id": "N0Of7d8lCo4m"
      },
      "source": [
        "La cláusula `else` en un ciclo `for` se ejecuta cuando el ciclo `for` termina de manera \"natural\", sin haber pasado por una cláusula `break`.\n",
        "\n"
      ]
    },
    {
      "cell_type": "code",
      "execution_count": 25,
      "metadata": {
        "colab": {
          "base_uri": "https://localhost:8080/"
        },
        "id": "AFirrtC5Co4n",
        "outputId": "403adb92-2538-407b-a146-52dea9b73195"
      },
      "outputs": [
        {
          "output_type": "stream",
          "name": "stdout",
          "text": [
            "2 es un número primo\n",
            "3 es un número primo\n",
            "4 es igual a 2 * 2\n",
            "5 es un número primo\n",
            "6 es igual a 2 * 3\n",
            "7 es un número primo\n",
            "8 es igual a 2 * 4\n",
            "9 es igual a 3 * 3\n",
            "10 es igual a 2 * 5\n",
            "11 es un número primo\n",
            "12 es igual a 2 * 6\n",
            "13 es un número primo\n",
            "14 es igual a 2 * 7\n",
            "15 es igual a 3 * 5\n",
            "16 es igual a 2 * 8\n",
            "17 es un número primo\n",
            "18 es igual a 2 * 9\n",
            "19 es un número primo\n",
            "20 es igual a 2 * 10\n",
            "21 es igual a 3 * 7\n",
            "22 es igual a 2 * 11\n",
            "23 es un número primo\n",
            "24 es igual a 2 * 12\n",
            "25 es igual a 5 * 5\n",
            "26 es igual a 2 * 13\n",
            "27 es igual a 3 * 9\n",
            "28 es igual a 2 * 14\n",
            "29 es un número primo\n"
          ]
        }
      ],
      "source": [
        "for n in range(2,30):\n",
        "    for x in range(2, n):\n",
        "        if n % x == 0:\n",
        "            print(n, 'es igual a', x, '*', n//x)\n",
        "            break\n",
        "    else:\n",
        "        # se terminó de checar posibles divisores sin encontrar uno\n",
        "        print(n, 'es un número primo')"
      ]
    },
    {
      "cell_type": "markdown",
      "source": [
        "el if nos dice que si el residuo es igual a cero, entonces imprime que el n es igual a una factorizacion  (enteros que se multiplican)\n",
        "en el else si no se encuntran factores entonces es primo"
      ],
      "metadata": {
        "id": "CRJK76b8JutF"
      }
    },
    {
      "cell_type": "markdown",
      "metadata": {
        "id": "eFVL5hCuCo4o"
      },
      "source": [
        "#### continue\n",
        "\n"
      ]
    },
    {
      "cell_type": "code",
      "execution_count": 35,
      "metadata": {
        "colab": {
          "base_uri": "https://localhost:8080/"
        },
        "id": "gWvS9jwrCo4o",
        "outputId": "92dbd680-9eaf-4647-b041-eed0c5d9997f"
      },
      "outputs": [
        {
          "output_type": "stream",
          "name": "stdout",
          "text": [
            "Hola Tamara ¿Cómo estás?\n",
            "Hola Claudia ¿Cómo estás?\n",
            "¿Qué materias estás llevando, Claudia ?\n",
            "Hola Gisell ¿Cómo estás?\n",
            "¿Qué materias estás llevando, Gisell ?\n",
            "Hola Edwin ¿Cómo estás?\n",
            "¿Qué materias estás llevando, Edwin ?\n",
            "Hola Camila ¿Cómo estás?\n",
            "¿Qué materias estás llevando, Camila ?\n",
            "Hola Claudio ¿Cómo estás?\n",
            "Hola Leonor ¿Cómo estás?\n",
            "¿Qué materias estás llevando, Leonor ?\n"
          ]
        }
      ],
      "source": [
        "for estudiante in estudiantes:\n",
        "    print(\"Hola\", estudiante, \"¿Cómo estás?\")\n",
        "    if estudiante in [\"Claudio\", \"Tamara\"]:\n",
        "        continue\n",
        "    print(\"¿Qué materias estás llevando,\", estudiante,\"?\")"
      ]
    },
    {
      "cell_type": "markdown",
      "source": [
        "con el continue solo no le pregunta que materia esta llevando a claudio y tamara, a los demas si\n",
        "\n"
      ],
      "metadata": {
        "id": "vtI632GpLe7D"
      }
    },
    {
      "cell_type": "markdown",
      "metadata": {
        "id": "kvY2ztbPCo4p"
      },
      "source": [
        "#### pass\n",
        "\n"
      ]
    },
    {
      "cell_type": "markdown",
      "metadata": {
        "id": "xgYiWXvRCo4p"
      },
      "source": [
        "La claúsula `pass` no hace nada, pero puede servir para que un programa incompleto sea sintácticamente correcto.\n",
        "\n"
      ]
    },
    {
      "cell_type": "code",
      "execution_count": 37,
      "metadata": {
        "colab": {
          "base_uri": "https://localhost:8080/"
        },
        "id": "3XPEZdLLCo4p",
        "outputId": "1f4726b0-edcd-45cb-b13d-5e3e01120262"
      },
      "outputs": [
        {
          "output_type": "stream",
          "name": "stdout",
          "text": [
            "Hola Tamara ¿Cómo estás?\n",
            "Hola Claudia ¿Cómo estás?\n",
            "Hola Gisell ¿Cómo estás?\n",
            "Hola Edwin ¿Cómo estás?\n",
            "Hola Camila ¿Cómo estás?\n",
            "Hola Claudio ¿Cómo estás?\n",
            "Hola Leonor ¿Cómo estás?\n"
          ]
        }
      ],
      "source": [
        "for estudiante in estudiantes:\n",
        "    print(\"Hola\", estudiante, \"¿Cómo estás?\")\n",
        "    if estudiante in [\"Claudia\", \"Claudio\"]:\n",
        "        pass"
      ]
    },
    {
      "cell_type": "code",
      "execution_count": 38,
      "metadata": {
        "colab": {
          "base_uri": "https://localhost:8080/"
        },
        "id": "sjrRgGYnCo4p",
        "outputId": "4e397ead-bdf0-406d-99c8-48422e42cc18"
      },
      "outputs": [
        {
          "output_type": "stream",
          "name": "stdout",
          "text": [
            "Hola Tamara ¿Cómo estás?\n",
            "Hola Claudia ¿Cómo estás?\n",
            "Hola Gisell ¿Cómo estás?\n",
            "Hola Edwin ¿Cómo estás?\n",
            "Hola Camila ¿Cómo estás?\n",
            "Hola Claudio ¿Cómo estás?\n",
            "Hola Leonor ¿Cómo estás?\n"
          ]
        }
      ],
      "source": [
        "for estudiante in estudiantes:\n",
        "    print(\"Hola\", estudiante, \"¿Cómo estás?\")\n",
        "    if estudiante in [\"Uriel\", \"Ruth\"]:\n",
        "        print(\"Hola\", estudiante, \"¿Eres oyente?\")"
      ]
    }
  ],
  "metadata": {
    "kernelspec": {
      "display_name": "Python 3",
      "language": "python",
      "name": "python3"
    },
    "language_info": {
      "codemirror_mode": {
        "name": "ipython",
        "version": 3
      },
      "file_extension": ".py",
      "mimetype": "text/x-python",
      "name": "python",
      "nbconvert_exporter": "python",
      "pygments_lexer": "ipython3",
      "version": "3.9.2"
    },
    "org": null,
    "colab": {
      "provenance": [],
      "include_colab_link": true
    }
  },
  "nbformat": 4,
  "nbformat_minor": 0
}