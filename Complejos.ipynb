{
  "nbformat": 4,
  "nbformat_minor": 0,
  "metadata": {
    "colab": {
      "provenance": [],
      "authorship_tag": "ABX9TyM3+VjbmLoIw37zTVF0sjoJ",
      "include_colab_link": true
    },
    "kernelspec": {
      "name": "python3",
      "display_name": "Python 3"
    },
    "language_info": {
      "name": "python"
    }
  },
  "cells": [
    {
      "cell_type": "markdown",
      "metadata": {
        "id": "view-in-github",
        "colab_type": "text"
      },
      "source": [
        "<a href=\"https://colab.research.google.com/github/Claudia-Salas/python/blob/main/Complejos.ipynb\" target=\"_parent\"><img src=\"https://colab.research.google.com/assets/colab-badge.svg\" alt=\"Open In Colab\"/></a>"
      ]
    },
    {
      "cell_type": "code",
      "execution_count": 12,
      "metadata": {
        "colab": {
          "base_uri": "https://localhost:8080/"
        },
        "id": "OMvzFCHcTbLZ",
        "outputId": "0b8fce9f-f1b7-4978-dd51-18441a0941ca"
      },
      "outputs": [
        {
          "output_type": "execute_result",
          "data": {
            "text/plain": [
              "(Complejo(2, 1),\n",
              " Complejo(2/5, 1/5),\n",
              " Complejo(-1/10, -7/10),\n",
              " Complejo(3, 2),\n",
              " Complejo(1, -4),\n",
              " Complejo(5, 5))"
            ]
          },
          "metadata": {},
          "execution_count": 12
        }
      ],
      "source": [
        "from sympy import sqrt\n",
        "\n",
        "class Complejo:\n",
        "    def __init__(self, parte_real, parte_imaginaria):\n",
        "        \"\"\"definimos paret real y parte imaginaria\"\"\"\n",
        "        self.r = parte_real\n",
        "        self.i = parte_imaginaria\n",
        "\n",
        "    def __repr__(self):\n",
        "        return f\"Complejo({self.r}, {self.i})\"\n",
        "\n",
        "    def __add__(self, other):\n",
        "        \"\"\"Para realizarla suma de complejos\"\"\"\n",
        "        return Complejo(self.r + other.r, self.i + other.i)\n",
        "\n",
        "    def __sub__(self, other):\n",
        "        \"\"\"para la resta de complejos\"\"\"\n",
        "        return Complejo(self.r - other.r, self.i - other.i)\n",
        "\n",
        "    def __mul__(self, other):\n",
        "        \"\"\"como se realiza la multiplicacion de complejos\"\"\"\n",
        "        try:\n",
        "            return Complejo(self.r*other.r - self.i*other.i, self.r*other.i + self.i*other.r)\n",
        "        except AttributeError:\n",
        "            return Complejo(self.r*other, self.i*other)\n",
        "\n",
        "    def __rmul__(self, other):\n",
        "        \"\"\"\"Definición de 2*z para un complejo z\"\"\"\n",
        "        return Complejo(self.r*other, self.i*other)\n",
        "\n",
        "    def __truediv__(self, other):\n",
        "        try:\n",
        "            return self*other.inverso()\n",
        "        except AttributeError:\n",
        "            return Complejo(self.r/other, self.i/other)\n",
        "\n",
        "    def __pow__(self, n):\n",
        "        if n == 0:\n",
        "            return 1\n",
        "        elif n>0:\n",
        "            return (self**(n-1))*self\n",
        "        else:\n",
        "            return (self**(-n)).inverso()\n",
        "\n",
        "    def conjugado(self):\n",
        "        return Complejo(self.r, -self.i)\n",
        "\n",
        "    def inverso(self):\n",
        "        return (1/self.módulo()**2)*self.conjugado()\n",
        "\n",
        "    def módulo(self):\n",
        "        return sqrt(self.r**2+self.i**2)\n",
        "\n",
        "z = Complejo(2, -1)\n",
        "w = Complejo(1, 3)\n",
        "z*w, w*z\n",
        "z.conjugado(), z.inverso(), z/w, z+w, z-w, z*w"
      ]
    }
  ]
}