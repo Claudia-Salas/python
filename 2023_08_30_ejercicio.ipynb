{
  "nbformat": 4,
  "nbformat_minor": 0,
  "metadata": {
    "colab": {
      "provenance": [],
      "include_colab_link": true
    },
    "kernelspec": {
      "name": "python3",
      "display_name": "Python 3"
    },
    "language_info": {
      "name": "python"
    }
  },
  "cells": [
    {
      "cell_type": "markdown",
      "metadata": {
        "id": "view-in-github",
        "colab_type": "text"
      },
      "source": [
        "<a href=\"https://colab.research.google.com/github/Claudia-Salas/python/blob/main/2023_08_30_ejercicio.ipynb\" target=\"_parent\"><img src=\"https://colab.research.google.com/assets/colab-badge.svg\" alt=\"Open In Colab\"/></a>"
      ]
    },
    {
      "cell_type": "markdown",
      "source": [
        "Define una clase que llame Perro, que tenga un atributo nombre y un método sonido (sin argumentos). Cuando se corra el método sonido en una instancia de la clase Perro, se debe regresar la cadena \"Guau\". Hacer una clase Gato análoga."
      ],
      "metadata": {
        "id": "cqyIywfxZ8fd"
      }
    },
    {
      "cell_type": "code",
      "source": [
        "class Perro:\n",
        "    pass\n",
        "\n",
        "b = Perro()\n",
        "b.nombre = \"Pulguita\"\n",
        "b.sonido = \"guau\"\n",
        "b.nombre, b.sonido\n",
        "\n"
      ],
      "metadata": {
        "colab": {
          "base_uri": "https://localhost:8080/"
        },
        "id": "omS6H8HDaBwG",
        "outputId": "d0b4e3fb-65b9-4819-ba7f-7715fcaac37d"
      },
      "execution_count": null,
      "outputs": [
        {
          "output_type": "execute_result",
          "data": {
            "text/plain": [
              "('Pulguita', 'guau')"
            ]
          },
          "metadata": {},
          "execution_count": 12
        }
      ]
    },
    {
      "cell_type": "code",
      "source": [
        "def diálogo(nombre):\n",
        "    print(f\"Es un perro llamado {nombre}\")\n",
        "diálogo(\"Pulguita\")"
      ],
      "metadata": {
        "colab": {
          "base_uri": "https://localhost:8080/"
        },
        "id": "0MSzEZQTdFFO",
        "outputId": "73045653-e738-48c2-edbf-7eb6a27618ac"
      },
      "execution_count": 1,
      "outputs": [
        {
          "output_type": "stream",
          "name": "stdout",
          "text": [
            "Es un perro llamado Pulguita\n"
          ]
        }
      ]
    }
  ]
}