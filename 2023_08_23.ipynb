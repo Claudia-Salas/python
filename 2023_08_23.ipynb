{
  "nbformat": 4,
  "nbformat_minor": 0,
  "metadata": {
    "colab": {
      "provenance": [],
      "authorship_tag": "ABX9TyM4GHHlH434qyRk6PE0M1PT",
      "include_colab_link": true
    },
    "kernelspec": {
      "name": "python3",
      "display_name": "Python 3"
    },
    "language_info": {
      "name": "python"
    }
  },
  "cells": [
    {
      "cell_type": "markdown",
      "metadata": {
        "id": "view-in-github",
        "colab_type": "text"
      },
      "source": [
        "<a href=\"https://colab.research.google.com/github/Claudia-Salas/python/blob/main/2023_08_23.ipynb\" target=\"_parent\"><img src=\"https://colab.research.google.com/assets/colab-badge.svg\" alt=\"Open In Colab\"/></a>"
      ]
    },
    {
      "cell_type": "markdown",
      "source": [
        "\n",
        "\n",
        "La secuencia de Fibonacci es una sucesión infinita de números, esta serie numérica empieza con 0 y 1, siguiendo con la suma de los dos números anteriores hasta el infinito"
      ],
      "metadata": {
        "id": "Ip_E-c-8I2Ws"
      }
    },
    {
      "cell_type": "markdown",
      "source": [
        "\n",
        "\n",
        "Para el ejercicio de los números de Fibonacci, como primer código se obtuvo los números de Fibonacci menores que 10**20\n"
      ],
      "metadata": {
        "id": "yjg-x7vpKStb"
      }
    },
    {
      "cell_type": "code",
      "source": [
        "a,b=0,1\n",
        "\n",
        "while a<10**20:\n",
        "    print(a)\n",
        "    a,b=b,a+b"
      ],
      "metadata": {
        "colab": {
          "base_uri": "https://localhost:8080/"
        },
        "id": "TD2q40lTBYBe",
        "outputId": "617e0663-0a20-40a0-d6d3-6871d1819fe9"
      },
      "execution_count": null,
      "outputs": [
        {
          "output_type": "stream",
          "name": "stdout",
          "text": [
            "0\n",
            "1\n",
            "1\n",
            "2\n",
            "3\n",
            "5\n",
            "8\n",
            "13\n",
            "21\n",
            "34\n",
            "55\n",
            "89\n",
            "144\n",
            "233\n",
            "377\n",
            "610\n",
            "987\n",
            "1597\n",
            "2584\n",
            "4181\n",
            "6765\n",
            "10946\n",
            "17711\n",
            "28657\n",
            "46368\n",
            "75025\n",
            "121393\n",
            "196418\n",
            "317811\n",
            "514229\n",
            "832040\n",
            "1346269\n",
            "2178309\n",
            "3524578\n",
            "5702887\n",
            "9227465\n",
            "14930352\n",
            "24157817\n",
            "39088169\n",
            "63245986\n",
            "102334155\n",
            "165580141\n",
            "267914296\n",
            "433494437\n",
            "701408733\n",
            "1134903170\n",
            "1836311903\n",
            "2971215073\n",
            "4807526976\n",
            "7778742049\n",
            "12586269025\n",
            "20365011074\n",
            "32951280099\n",
            "53316291173\n",
            "86267571272\n",
            "139583862445\n",
            "225851433717\n",
            "365435296162\n",
            "591286729879\n",
            "956722026041\n",
            "1548008755920\n",
            "2504730781961\n",
            "4052739537881\n",
            "6557470319842\n",
            "10610209857723\n",
            "17167680177565\n",
            "27777890035288\n",
            "44945570212853\n",
            "72723460248141\n",
            "117669030460994\n",
            "190392490709135\n",
            "308061521170129\n",
            "498454011879264\n",
            "806515533049393\n",
            "1304969544928657\n",
            "2111485077978050\n",
            "3416454622906707\n",
            "5527939700884757\n",
            "8944394323791464\n",
            "14472334024676221\n",
            "23416728348467685\n",
            "37889062373143906\n",
            "61305790721611591\n",
            "99194853094755497\n",
            "160500643816367088\n",
            "259695496911122585\n",
            "420196140727489673\n",
            "679891637638612258\n",
            "1100087778366101931\n",
            "1779979416004714189\n",
            "2880067194370816120\n",
            "4660046610375530309\n",
            "7540113804746346429\n",
            "12200160415121876738\n",
            "19740274219868223167\n",
            "31940434634990099905\n",
            "51680708854858323072\n",
            "83621143489848422977\n"
          ]
        }
      ]
    },
    {
      "cell_type": "markdown",
      "source": [
        "Para obtener los números de Fibonacci los cuales son cuadrados, se obtienen  de la sigueinte manera"
      ],
      "metadata": {
        "id": "-NuZjA7YJ8HN"
      }
    },
    {
      "cell_type": "markdown",
      "source": [
        "obteniendo que solo 0,1,144 son dichos números"
      ],
      "metadata": {
        "id": "XWJT5KgzK5A4"
      }
    },
    {
      "cell_type": "code",
      "source": [
        "from sympy import sqrt\n",
        "\n",
        "def es_cuadrado(n):\n",
        "    return int(sqrt(n)) ** 2 == n\n",
        "\n",
        "def cuadrados_fibonacci(n):\n",
        "    fibs = []\n",
        "    a, b = 0, 1\n",
        "    while a < n:\n",
        "        if es_cuadrado(a):\n",
        "            fibs.append(a)\n",
        "        a, b = b, a+b\n",
        "    return fibs\n",
        "\n",
        "cuadrados_fibonacci(10**20)\n"
      ],
      "metadata": {
        "colab": {
          "base_uri": "https://localhost:8080/"
        },
        "id": "zF_utBoQFDeC",
        "outputId": "faae51d0-ed86-4fc6-b0e0-2413cff30877"
      },
      "execution_count": 1,
      "outputs": [
        {
          "output_type": "execute_result",
          "data": {
            "text/plain": [
              "[0, 1, 1, 144]"
            ]
          },
          "metadata": {},
          "execution_count": 1
        }
      ]
    },
    {
      "cell_type": "markdown",
      "source": [
        "Ahora para los cubos, tenemos lo siguiente"
      ],
      "metadata": {
        "id": "IO2mo47YLB03"
      }
    },
    {
      "cell_type": "markdown",
      "source": [
        "Teniendo que para cubos solo tenemos 0,1,8"
      ],
      "metadata": {
        "id": "0avKyGLgLK0T"
      }
    },
    {
      "cell_type": "code",
      "source": [
        "from sympy import sqrt\n",
        "\n",
        "def es_cubo(n):\n",
        "    return int(sqrt(n)) ** 3 == n\n",
        "\n",
        "def cubo_fibonacci(n):\n",
        "    fibs = []\n",
        "    a, b = 0, 1\n",
        "    while a < n:\n",
        "        if es_cubo(a):\n",
        "            fibs.append(a)\n",
        "        a, b = b, a+b\n",
        "    return fibs\n",
        "\n",
        "cubo_fibonacci(10**20)\n",
        "\n"
      ],
      "metadata": {
        "colab": {
          "base_uri": "https://localhost:8080/"
        },
        "outputId": "5a23c14b-5d00-4353-e622-de02f1f8f85e",
        "id": "KvDR9zPuFiOZ"
      },
      "execution_count": 2,
      "outputs": [
        {
          "output_type": "execute_result",
          "data": {
            "text/plain": [
              "[0, 1, 1, 8]"
            ]
          },
          "metadata": {},
          "execution_count": 2
        }
      ]
    },
    {
      "cell_type": "markdown",
      "source": [
        "y por último para los que tiene cuartas potencias"
      ],
      "metadata": {
        "id": "qzFutNC3LOL_"
      }
    },
    {
      "cell_type": "markdown",
      "source": [
        "En donde solo tenemos 0 y 1\n"
      ],
      "metadata": {
        "id": "Sg2fD30bMZLW"
      }
    },
    {
      "cell_type": "code",
      "source": [
        "\n",
        "\n",
        "from sympy import sqrt\n",
        "\n",
        "def es_cuarta(n):\n",
        "    return int(sqrt(n)) ** 4== n\n",
        "\n",
        "def cuarta_fibonacci(n):\n",
        "    fibs = []\n",
        "    a, b = 0, 1\n",
        "    while a < n:\n",
        "        if es_cuarta(a):\n",
        "            fibs.append(a)\n",
        "        a, b = b, a+b\n",
        "    return fibs\n",
        "\n",
        "cuarta_fibonacci(10**20)\n",
        "\n"
      ],
      "metadata": {
        "colab": {
          "base_uri": "https://localhost:8080/"
        },
        "outputId": "4ca67f6f-9aea-4a30-fc3f-ed6aa89d8b41",
        "id": "N6Az2rp1F8XG"
      },
      "execution_count": 3,
      "outputs": [
        {
          "output_type": "execute_result",
          "data": {
            "text/plain": [
              "[0, 1, 1]"
            ]
          },
          "metadata": {},
          "execution_count": 3
        }
      ]
    }
  ]
}