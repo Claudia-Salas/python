{
  "cells": [
    {
      "cell_type": "markdown",
      "metadata": {
        "id": "view-in-github",
        "colab_type": "text"
      },
      "source": [
        "<a href=\"https://colab.research.google.com/github/Claudia-Salas/python/blob/main/2023_09_11_excepciones_recursion.ipynb\" target=\"_parent\"><img src=\"https://colab.research.google.com/assets/colab-badge.svg\" alt=\"Open In Colab\"/></a>"
      ]
    },
    {
      "cell_type": "markdown",
      "metadata": {
        "id": "ug4PkvQLTbLI"
      },
      "source": [
        "Excepciones, recursión\n",
        "======================\n",
        "\n",
        "**Date:** 2023-09-11\n",
        "\n"
      ]
    },
    {
      "cell_type": "markdown",
      "metadata": {
        "id": "OPJ9Uw5_TbLO"
      },
      "source": [
        "## Excepciones\n",
        "\n"
      ]
    },
    {
      "cell_type": "markdown",
      "metadata": {
        "id": "xw112tjTTbLP"
      },
      "source": [
        "Cuando el programa encuentra una excepción, se interrumpe la ejecución y se emite un mensaje de error. Sin embargo, podemos hacer un manejo de excepciones (*exception handling*), si resulta conveniente no interrumpir la ejecución en caso de alguna excepción.\n",
        "\n"
      ]
    },
    {
      "cell_type": "code",
      "execution_count": null,
      "metadata": {
        "id": "QaZ5T9HATbLQ",
        "outputId": "7b4955e6-f26d-4edf-cfee-ccf0165766fb"
      },
      "outputs": [
        {
          "ename": "ZeroDivisionError",
          "evalue": "division by zero",
          "output_type": "error",
          "traceback": [
            "\u001b[0;31m---------------------------------------------------------------------------\u001b[0m",
            "\u001b[0;31mZeroDivisionError\u001b[0m                         Traceback (most recent call last)",
            "\u001b[0;32m<ipython-input-1-e574edb36883>\u001b[0m in \u001b[0;36m<module>\u001b[0;34m\u001b[0m\n\u001b[0;32m----> 1\u001b[0;31m \u001b[0;36m10\u001b[0m\u001b[0;34m/\u001b[0m\u001b[0;36m0\u001b[0m\u001b[0;34m\u001b[0m\u001b[0;34m\u001b[0m\u001b[0m\n\u001b[0m",
            "\u001b[0;31mZeroDivisionError\u001b[0m: division by zero"
          ]
        }
      ],
      "source": [
        "10/0"
      ]
    },
    {
      "cell_type": "code",
      "execution_count": 1,
      "metadata": {
        "colab": {
          "base_uri": "https://localhost:8080/"
        },
        "id": "q_p8SXWeTbLS",
        "outputId": "1464257b-a625-4784-f510-ba47c85cd894"
      },
      "outputs": [
        {
          "output_type": "stream",
          "name": "stdout",
          "text": [
            "Dividiste por cero\n",
            "No lo vuelvas a hacer\n",
            "Y así terminó todo\n"
          ]
        }
      ],
      "source": [
        "b = 0\n",
        "\n",
        "try:\n",
        "    x = 10/b\n",
        "    print(f\"El resultado es {x}\")\n",
        "except ZeroDivisionError:\n",
        "    print(\"Dividiste por cero\")\n",
        "    print(\"No lo vuelvas a hacer\")\n",
        "\n",
        "print(\"Y así terminó todo\")"
      ]
    },
    {
      "cell_type": "code",
      "execution_count": null,
      "metadata": {
        "id": "gBchAVmKTbLT",
        "outputId": "40f9d62c-70cf-4271-e717-cbe3c4a86a84"
      },
      "outputs": [
        {
          "ename": "TypeError",
          "evalue": "unsupported operand type(s) for +: 'int' and 'str'",
          "output_type": "error",
          "traceback": [
            "\u001b[0;31m---------------------------------------------------------------------------\u001b[0m",
            "\u001b[0;31mTypeError\u001b[0m                                 Traceback (most recent call last)",
            "\u001b[0;32m<ipython-input-4-0df3d3d5a69f>\u001b[0m in \u001b[0;36m<module>\u001b[0;34m\u001b[0m\n\u001b[0;32m----> 1\u001b[0;31m \u001b[0;36m10\u001b[0m \u001b[0;34m+\u001b[0m \u001b[0;34m\"Hola \"\u001b[0m\u001b[0;34m\u001b[0m\u001b[0;34m\u001b[0m\u001b[0m\n\u001b[0m",
            "\u001b[0;31mTypeError\u001b[0m: unsupported operand type(s) for +: 'int' and 'str'"
          ]
        }
      ],
      "source": [
        "10 + \"Hola \""
      ]
    },
    {
      "cell_type": "code",
      "execution_count": null,
      "metadata": {
        "id": "EPuLuB08TbLT",
        "outputId": "479e32a9-ec3a-450f-bcc5-3fc8576cbd73"
      },
      "outputs": [
        {
          "data": {
            "text/plain": [
              "('Hola mundo',\n",
              " '¡Seguramente no me diste una cadena!',\n",
              " '¡Seguramente no me diste una cadena!')"
            ]
          },
          "execution_count": 5,
          "metadata": {},
          "output_type": "execute_result"
        }
      ],
      "source": [
        "def concatena(cadena):\n",
        "    try:\n",
        "        resultado = \"Hola \" + cadena\n",
        "    except TypeError:\n",
        "        resultado = \"¡Seguramente no me diste una cadena!\"\n",
        "    return resultado\n",
        "\n",
        "concatena(\"mundo\"), concatena(20), concatena([1, 2])"
      ]
    },
    {
      "cell_type": "code",
      "execution_count": null,
      "metadata": {
        "id": "ZBBVgNqITbLU",
        "outputId": "a7ec71e5-8436-467d-b3db-7e00c81ddf64"
      },
      "outputs": [
        {
          "data": {
            "text/plain": [
              "'Dividiste entre cero'"
            ]
          },
          "execution_count": 6,
          "metadata": {},
          "output_type": "execute_result"
        }
      ],
      "source": [
        "def division(número):\n",
        "    try:\n",
        "        return 10/número\n",
        "    except ZeroDivisionError:\n",
        "        return \"Dividiste entre cero\"\n",
        "\n",
        "division(0)"
      ]
    },
    {
      "cell_type": "code",
      "execution_count": 2,
      "metadata": {
        "colab": {
          "base_uri": "https://localhost:8080/",
          "height": 442
        },
        "id": "Jy7GEgNBTbLU",
        "outputId": "0d50111a-57d8-47e5-d2e8-83163c2ea92f"
      },
      "outputs": [
        {
          "output_type": "error",
          "ename": "NoDividasPorCero",
          "evalue": "ignored",
          "traceback": [
            "\u001b[0;31m---------------------------------------------------------------------------\u001b[0m",
            "\u001b[0;31mZeroDivisionError\u001b[0m                         Traceback (most recent call last)",
            "\u001b[0;32m<ipython-input-2-bedb0a5efbb4>\u001b[0m in \u001b[0;36mdivision\u001b[0;34m(número)\u001b[0m\n\u001b[1;32m      5\u001b[0m     \u001b[0;32mtry\u001b[0m\u001b[0;34m:\u001b[0m\u001b[0;34m\u001b[0m\u001b[0;34m\u001b[0m\u001b[0m\n\u001b[0;32m----> 6\u001b[0;31m         \u001b[0;32mreturn\u001b[0m \u001b[0;36m10\u001b[0m\u001b[0;34m/\u001b[0m\u001b[0mnúmero\u001b[0m\u001b[0;34m\u001b[0m\u001b[0;34m\u001b[0m\u001b[0m\n\u001b[0m\u001b[1;32m      7\u001b[0m     \u001b[0;32mexcept\u001b[0m \u001b[0mZeroDivisionError\u001b[0m\u001b[0;34m:\u001b[0m\u001b[0;34m\u001b[0m\u001b[0;34m\u001b[0m\u001b[0m\n",
            "\u001b[0;31mZeroDivisionError\u001b[0m: division by zero",
            "\nDuring handling of the above exception, another exception occurred:\n",
            "\u001b[0;31mNoDividasPorCero\u001b[0m                          Traceback (most recent call last)",
            "\u001b[0;32m<ipython-input-2-bedb0a5efbb4>\u001b[0m in \u001b[0;36m<cell line: 10>\u001b[0;34m()\u001b[0m\n\u001b[1;32m      8\u001b[0m         \u001b[0;32mraise\u001b[0m \u001b[0mNoDividasPorCero\u001b[0m\u001b[0;34m(\u001b[0m\u001b[0;34mf\"El valor del argumento que diste es {número}\"\u001b[0m\u001b[0;34m)\u001b[0m\u001b[0;34m\u001b[0m\u001b[0;34m\u001b[0m\u001b[0m\n\u001b[1;32m      9\u001b[0m \u001b[0;34m\u001b[0m\u001b[0m\n\u001b[0;32m---> 10\u001b[0;31m \u001b[0mdivision\u001b[0m\u001b[0;34m(\u001b[0m\u001b[0;36m5\u001b[0m\u001b[0;34m-\u001b[0m\u001b[0;36m5\u001b[0m\u001b[0;34m)\u001b[0m\u001b[0;34m\u001b[0m\u001b[0;34m\u001b[0m\u001b[0m\n\u001b[0m",
            "\u001b[0;32m<ipython-input-2-bedb0a5efbb4>\u001b[0m in \u001b[0;36mdivision\u001b[0;34m(número)\u001b[0m\n\u001b[1;32m      6\u001b[0m         \u001b[0;32mreturn\u001b[0m \u001b[0;36m10\u001b[0m\u001b[0;34m/\u001b[0m\u001b[0mnúmero\u001b[0m\u001b[0;34m\u001b[0m\u001b[0;34m\u001b[0m\u001b[0m\n\u001b[1;32m      7\u001b[0m     \u001b[0;32mexcept\u001b[0m \u001b[0mZeroDivisionError\u001b[0m\u001b[0;34m:\u001b[0m\u001b[0;34m\u001b[0m\u001b[0;34m\u001b[0m\u001b[0m\n\u001b[0;32m----> 8\u001b[0;31m         \u001b[0;32mraise\u001b[0m \u001b[0mNoDividasPorCero\u001b[0m\u001b[0;34m(\u001b[0m\u001b[0;34mf\"El valor del argumento que diste es {número}\"\u001b[0m\u001b[0;34m)\u001b[0m\u001b[0;34m\u001b[0m\u001b[0;34m\u001b[0m\u001b[0m\n\u001b[0m\u001b[1;32m      9\u001b[0m \u001b[0;34m\u001b[0m\u001b[0m\n\u001b[1;32m     10\u001b[0m \u001b[0mdivision\u001b[0m\u001b[0;34m(\u001b[0m\u001b[0;36m5\u001b[0m\u001b[0;34m-\u001b[0m\u001b[0;36m5\u001b[0m\u001b[0;34m)\u001b[0m\u001b[0;34m\u001b[0m\u001b[0;34m\u001b[0m\u001b[0m\n",
            "\u001b[0;31mNoDividasPorCero\u001b[0m: El valor del argumento que diste es 0"
          ]
        }
      ],
      "source": [
        "class NoDividasPorCero(Exception):\n",
        "    pass\n",
        "\n",
        "def division(número):\n",
        "    try:\n",
        "        return 10/número\n",
        "    except ZeroDivisionError:\n",
        "        raise NoDividasPorCero(f\"El valor del argumento que diste es {número}\")\n",
        "\n",
        "division(5-5)"
      ]
    },
    {
      "cell_type": "code",
      "execution_count": null,
      "metadata": {
        "id": "y2j5aUdaTbLV",
        "outputId": "b2e30ee5-c7d2-42b1-8d3c-37a13ecf9cf6"
      },
      "outputs": [
        {
          "ename": "NoDividasPorCero",
          "evalue": "Trataste de dividir entre cero",
          "output_type": "error",
          "traceback": [
            "\u001b[0;31m---------------------------------------------------------------------------\u001b[0m",
            "\u001b[0;31mZeroDivisionError\u001b[0m                         Traceback (most recent call last)",
            "\u001b[0;32m<ipython-input-9-36215f80e102>\u001b[0m in \u001b[0;36mdivision\u001b[0;34m(número)\u001b[0m\n\u001b[1;32m      7\u001b[0m     \u001b[0;32mtry\u001b[0m\u001b[0;34m:\u001b[0m\u001b[0;34m\u001b[0m\u001b[0;34m\u001b[0m\u001b[0m\n\u001b[0;32m----> 8\u001b[0;31m         \u001b[0;32mreturn\u001b[0m \u001b[0;36m10\u001b[0m\u001b[0;34m/\u001b[0m\u001b[0mnúmero\u001b[0m\u001b[0;34m\u001b[0m\u001b[0;34m\u001b[0m\u001b[0m\n\u001b[0m\u001b[1;32m      9\u001b[0m     \u001b[0;32mexcept\u001b[0m \u001b[0mZeroDivisionError\u001b[0m\u001b[0;34m:\u001b[0m\u001b[0;34m\u001b[0m\u001b[0;34m\u001b[0m\u001b[0m\n",
            "\u001b[0;31mZeroDivisionError\u001b[0m: division by zero",
            "\nDuring handling of the above exception, another exception occurred:\n",
            "\u001b[0;31mNoDividasPorCero\u001b[0m                          Traceback (most recent call last)",
            "\u001b[0;32m<ipython-input-9-36215f80e102>\u001b[0m in \u001b[0;36m<module>\u001b[0;34m\u001b[0m\n\u001b[1;32m     10\u001b[0m         \u001b[0;32mraise\u001b[0m \u001b[0mNoDividasPorCero\u001b[0m\u001b[0;34m\u001b[0m\u001b[0;34m\u001b[0m\u001b[0m\n\u001b[1;32m     11\u001b[0m \u001b[0;34m\u001b[0m\u001b[0m\n\u001b[0;32m---> 12\u001b[0;31m \u001b[0mdivision\u001b[0m\u001b[0;34m(\u001b[0m\u001b[0;36m0\u001b[0m\u001b[0;34m)\u001b[0m\u001b[0;34m\u001b[0m\u001b[0;34m\u001b[0m\u001b[0m\n\u001b[0m",
            "\u001b[0;32m<ipython-input-9-36215f80e102>\u001b[0m in \u001b[0;36mdivision\u001b[0;34m(número)\u001b[0m\n\u001b[1;32m      8\u001b[0m         \u001b[0;32mreturn\u001b[0m \u001b[0;36m10\u001b[0m\u001b[0;34m/\u001b[0m\u001b[0mnúmero\u001b[0m\u001b[0;34m\u001b[0m\u001b[0;34m\u001b[0m\u001b[0m\n\u001b[1;32m      9\u001b[0m     \u001b[0;32mexcept\u001b[0m \u001b[0mZeroDivisionError\u001b[0m\u001b[0;34m:\u001b[0m\u001b[0;34m\u001b[0m\u001b[0;34m\u001b[0m\u001b[0m\n\u001b[0;32m---> 10\u001b[0;31m         \u001b[0;32mraise\u001b[0m \u001b[0mNoDividasPorCero\u001b[0m\u001b[0;34m\u001b[0m\u001b[0;34m\u001b[0m\u001b[0m\n\u001b[0m\u001b[1;32m     11\u001b[0m \u001b[0;34m\u001b[0m\u001b[0m\n\u001b[1;32m     12\u001b[0m \u001b[0mdivision\u001b[0m\u001b[0;34m(\u001b[0m\u001b[0;36m0\u001b[0m\u001b[0;34m)\u001b[0m\u001b[0;34m\u001b[0m\u001b[0;34m\u001b[0m\u001b[0m\n",
            "\u001b[0;31mNoDividasPorCero\u001b[0m: Trataste de dividir entre cero"
          ]
        }
      ],
      "source": [
        "class NoDividasPorCero(Exception):\n",
        "    def __init__(self, mensaje=\"Trataste de dividir entre cero\"):\n",
        "        super().__init__(mensaje)\n",
        "\n",
        "\n",
        "def division(número):\n",
        "    try:\n",
        "        return 10/número\n",
        "    except ZeroDivisionError:\n",
        "        raise NoDividasPorCero\n",
        "\n",
        "division(0)"
      ]
    },
    {
      "cell_type": "markdown",
      "metadata": {
        "id": "RZV4kQL1TbLW"
      },
      "source": [
        "También se podría hacer una función parecida de la siguiente forma, sin embargo, es más adecuado a la filosofía de Python hacerlo usando `try`, `except`.\n",
        "\n"
      ]
    },
    {
      "cell_type": "code",
      "execution_count": 4,
      "metadata": {
        "colab": {
          "base_uri": "https://localhost:8080/",
          "height": 331
        },
        "id": "k8XVs4WMTbLW",
        "outputId": "2c7fd2b9-45a7-4039-9432-2b9b10ccdf51"
      },
      "outputs": [
        {
          "output_type": "error",
          "ename": "NoDividasPorCero",
          "evalue": "ignored",
          "traceback": [
            "\u001b[0;31m---------------------------------------------------------------------------\u001b[0m",
            "\u001b[0;31mNoDividasPorCero\u001b[0m                          Traceback (most recent call last)",
            "\u001b[0;32m<ipython-input-4-8249cc7bc5e2>\u001b[0m in \u001b[0;36m<cell line: 7>\u001b[0;34m()\u001b[0m\n\u001b[1;32m      5\u001b[0m         \u001b[0;32mreturn\u001b[0m \u001b[0;36m10\u001b[0m\u001b[0;34m/\u001b[0m\u001b[0mnúmero\u001b[0m\u001b[0;34m\u001b[0m\u001b[0;34m\u001b[0m\u001b[0m\n\u001b[1;32m      6\u001b[0m \u001b[0;34m\u001b[0m\u001b[0m\n\u001b[0;32m----> 7\u001b[0;31m \u001b[0mdivision\u001b[0m\u001b[0;34m(\u001b[0m\u001b[0;36m0\u001b[0m\u001b[0;34m)\u001b[0m\u001b[0;34m\u001b[0m\u001b[0;34m\u001b[0m\u001b[0m\n\u001b[0m",
            "\u001b[0;32m<ipython-input-4-8249cc7bc5e2>\u001b[0m in \u001b[0;36mdivision\u001b[0;34m(número)\u001b[0m\n\u001b[1;32m      1\u001b[0m \u001b[0;32mdef\u001b[0m \u001b[0mdivision\u001b[0m\u001b[0;34m(\u001b[0m\u001b[0mnúmero\u001b[0m\u001b[0;34m)\u001b[0m\u001b[0;34m:\u001b[0m\u001b[0;34m\u001b[0m\u001b[0;34m\u001b[0m\u001b[0m\n\u001b[1;32m      2\u001b[0m     \u001b[0;32mif\u001b[0m \u001b[0mnúmero\u001b[0m \u001b[0;34m==\u001b[0m \u001b[0;36m0\u001b[0m\u001b[0;34m:\u001b[0m\u001b[0;34m\u001b[0m\u001b[0;34m\u001b[0m\u001b[0m\n\u001b[0;32m----> 3\u001b[0;31m         \u001b[0;32mraise\u001b[0m \u001b[0mNoDividasPorCero\u001b[0m\u001b[0;34m\u001b[0m\u001b[0;34m\u001b[0m\u001b[0m\n\u001b[0m\u001b[1;32m      4\u001b[0m     \u001b[0;32melse\u001b[0m\u001b[0;34m:\u001b[0m\u001b[0;34m\u001b[0m\u001b[0;34m\u001b[0m\u001b[0m\n\u001b[1;32m      5\u001b[0m         \u001b[0;32mreturn\u001b[0m \u001b[0;36m10\u001b[0m\u001b[0;34m/\u001b[0m\u001b[0mnúmero\u001b[0m\u001b[0;34m\u001b[0m\u001b[0;34m\u001b[0m\u001b[0m\n",
            "\u001b[0;31mNoDividasPorCero\u001b[0m: "
          ]
        }
      ],
      "source": [
        "def division(número):\n",
        "    if número == 0:\n",
        "        raise NoDividasPorCero\n",
        "    else:\n",
        "        return 10/número\n",
        "\n",
        "division(0)"
      ]
    },
    {
      "cell_type": "markdown",
      "metadata": {
        "id": "l2SICGnOTbLX"
      },
      "source": [
        "## Recursión\n",
        "\n"
      ]
    },
    {
      "cell_type": "markdown",
      "metadata": {
        "id": "v49wi9IWTbLX"
      },
      "source": [
        "Recursión se refiere usar una función dentro de su misma definición.\n",
        "\n"
      ]
    },
    {
      "cell_type": "code",
      "execution_count": 3,
      "metadata": {
        "colab": {
          "base_uri": "https://localhost:8080/"
        },
        "id": "441jdEX2TbLX",
        "outputId": "12155b78-4b4d-47ad-f521-59403c04c377"
      },
      "outputs": [
        {
          "output_type": "execute_result",
          "data": {
            "text/plain": [
              "[0, 1, 1, 2, 3, 5, 8, 13, 21, 34, 55, 89, 144, 233, 377, 610, 987, 1597, 2584]"
            ]
          },
          "metadata": {},
          "execution_count": 3
        }
      ],
      "source": [
        "def fibonacci(n):\n",
        "    \"Regresa el n-ésimo número de Fibonacci\"\n",
        "    if n == 1:\n",
        "        return 0\n",
        "    elif n == 2:\n",
        "        return 1\n",
        "    else:\n",
        "        return fibonacci(n-1) + fibonacci(n-2)\n",
        "\n",
        "[fibonacci(n) for n in range(1, 20)]"
      ]
    },
    {
      "cell_type": "markdown",
      "metadata": {
        "id": "RpiVHh0KTbLY"
      },
      "source": [
        "Por ejemplo, en nuestra definición de números complejos.\n",
        "\n"
      ]
    },
    {
      "cell_type": "code",
      "execution_count": 5,
      "metadata": {
        "colab": {
          "base_uri": "https://localhost:8080/",
          "height": 227
        },
        "id": "WaPqmtjZTbLY",
        "outputId": "aab921a0-947f-496e-e2de-b2828942ec2a"
      },
      "outputs": [
        {
          "output_type": "error",
          "ename": "NameError",
          "evalue": "ignored",
          "traceback": [
            "\u001b[0;31m---------------------------------------------------------------------------\u001b[0m",
            "\u001b[0;31mNameError\u001b[0m                                 Traceback (most recent call last)",
            "\u001b[0;32m<ipython-input-5-5a4e3575db8d>\u001b[0m in \u001b[0;36m<cell line: 9>\u001b[0;34m()\u001b[0m\n\u001b[1;32m      7\u001b[0m         \u001b[0;32mreturn\u001b[0m \u001b[0mpotencia\u001b[0m\u001b[0;34m(\u001b[0m\u001b[0mz\u001b[0m\u001b[0;34m,\u001b[0m \u001b[0mn\u001b[0m\u001b[0;34m-\u001b[0m\u001b[0;36m1\u001b[0m\u001b[0;34m)\u001b[0m\u001b[0;34m*\u001b[0m\u001b[0mz\u001b[0m\u001b[0;34m\u001b[0m\u001b[0;34m\u001b[0m\u001b[0m\n\u001b[1;32m      8\u001b[0m \u001b[0;34m\u001b[0m\u001b[0m\n\u001b[0;32m----> 9\u001b[0;31m \u001b[0mz\u001b[0m \u001b[0;34m=\u001b[0m \u001b[0mComplejo\u001b[0m\u001b[0;34m(\u001b[0m\u001b[0;36m1\u001b[0m\u001b[0;34m,\u001b[0m \u001b[0;34m-\u001b[0m\u001b[0;36m2\u001b[0m\u001b[0;34m)\u001b[0m\u001b[0;34m\u001b[0m\u001b[0;34m\u001b[0m\u001b[0m\n\u001b[0m\u001b[1;32m     10\u001b[0m \u001b[0mpotencia\u001b[0m\u001b[0;34m(\u001b[0m\u001b[0mz\u001b[0m\u001b[0;34m,\u001b[0m \u001b[0;36m0\u001b[0m\u001b[0;34m)\u001b[0m\u001b[0;34m,\u001b[0m \u001b[0mz\u001b[0m\u001b[0;34m*\u001b[0m\u001b[0mz\u001b[0m\u001b[0;34m*\u001b[0m\u001b[0mz\u001b[0m\u001b[0;34m\u001b[0m\u001b[0;34m\u001b[0m\u001b[0m\n",
            "\u001b[0;31mNameError\u001b[0m: name 'Complejo' is not defined"
          ]
        }
      ],
      "source": [
        "def potencia(z, n):\n",
        "    if n == 0:\n",
        "        return 1\n",
        "    elif n == 1:\n",
        "        return z\n",
        "    else:\n",
        "        return potencia(z, n-1)*z\n",
        "\n",
        "z = Complejo(1, -2)\n",
        "potencia(z, 0), z*z*z"
      ]
    },
    {
      "cell_type": "markdown",
      "metadata": {
        "id": "6GDkNh__TbLY"
      },
      "source": [
        "## Más sobre los números complejos\n",
        "\n"
      ]
    },
    {
      "cell_type": "markdown",
      "metadata": {
        "id": "85kn9ISKTbLZ"
      },
      "source": [
        "(Ver *The Python Language Reference*, 3.3.8 Emulating numeric types)\n",
        "\n"
      ]
    },
    {
      "cell_type": "code",
      "execution_count": 6,
      "metadata": {
        "colab": {
          "base_uri": "https://localhost:8080/"
        },
        "id": "OMvzFCHcTbLZ",
        "outputId": "b008ada5-10d8-438e-e0f2-e54301a799b2"
      },
      "outputs": [
        {
          "output_type": "execute_result",
          "data": {
            "text/plain": [
              "(Complejo(2, 1), Complejo(2/5, 1/5), Complejo(-1/10, -7/10))"
            ]
          },
          "metadata": {},
          "execution_count": 6
        }
      ],
      "source": [
        "from sympy import sqrt\n",
        "\n",
        "class Complejo:\n",
        "    def __init__(self, parte_real, parte_imaginaria):\n",
        "        self.r = parte_real\n",
        "        self.i = parte_imaginaria\n",
        "\n",
        "    def __repr__(self):\n",
        "        return f\"Complejo({self.r}, {self.i})\"\n",
        "\n",
        "    def __add__(self, other):\n",
        "        return Complejo(self.r + other.r, self.i + other.i)\n",
        "\n",
        "    def __sub__(self, other):\n",
        "        return Complejo(self.r - other.r, self.i - other.i)\n",
        "\n",
        "    def __mul__(self, other):\n",
        "        try:\n",
        "            return Complejo(self.r*other.r - self.i*other.i, self.r*other.i + self.i*other.r)\n",
        "        except AttributeError:\n",
        "            return Complejo(self.r*other, self.i*other)\n",
        "\n",
        "    def __rmul__(self, other):\n",
        "        \"\"\"\"Definición de 2*z para un complejo z\"\"\"\n",
        "        return Complejo(self.r*other, self.i*other)\n",
        "\n",
        "    def __truediv__(self, other):\n",
        "        try:\n",
        "            return self*other.inverso()\n",
        "        except AttributeError:\n",
        "            return Complejo(self.r/other, self.i/other)\n",
        "\n",
        "    def __pow__(self, n):\n",
        "        if n == 0:\n",
        "            return 1\n",
        "        elif n>0:\n",
        "            return (self**(n-1))*self\n",
        "        else:\n",
        "            return (self**(-n)).inverso()\n",
        "\n",
        "    def conjugado(self):\n",
        "        return Complejo(self.r, -self.i)\n",
        "\n",
        "    def inverso(self):\n",
        "        return (1/self.módulo()**2)*self.conjugado()\n",
        "\n",
        "    def módulo(self):\n",
        "        return sqrt(self.r**2+self.i**2)\n",
        "\n",
        "z = Complejo(2, -1)\n",
        "w = Complejo(1, 3)\n",
        "z*w, w*z\n",
        "z.conjugado(), z.inverso(), z/w"
      ]
    },
    {
      "cell_type": "code",
      "execution_count": null,
      "metadata": {
        "id": "iTUnmVajTbLa",
        "outputId": "da831376-261b-4f30-b405-4552a6295ae9"
      },
      "outputs": [
        {
          "data": {
            "text/plain": [
              "(Complejo(2/125, 11/125), Complejo(2, -11))"
            ]
          },
          "execution_count": 14,
          "metadata": {},
          "output_type": "execute_result"
        }
      ],
      "source": [
        "z**(-3), z*z*z"
      ]
    },
    {
      "cell_type": "code",
      "execution_count": null,
      "metadata": {
        "id": "VrVnE3btTbLb",
        "outputId": "361e1ad8-d332-4ef0-a3da-45ea0326c537"
      },
      "outputs": [
        {
          "data": {
            "text/plain": [
              "Complejo(-1/10, -7/10)"
            ]
          },
          "execution_count": 15,
          "metadata": {},
          "output_type": "execute_result"
        }
      ],
      "source": [
        "z/w"
      ]
    },
    {
      "cell_type": "code",
      "execution_count": null,
      "metadata": {
        "id": "U5WjOvHxTbLb",
        "outputId": "b48b7b69-151d-4ddd-f53b-31dc5d35e115"
      },
      "outputs": [
        {
          "ename": "TypeError",
          "evalue": "unsupported operand type(s) for /: 'int' and 'Complejo'",
          "output_type": "error",
          "traceback": [
            "\u001b[0;31m---------------------------------------------------------------------------\u001b[0m",
            "\u001b[0;31mTypeError\u001b[0m                                 Traceback (most recent call last)",
            "\u001b[0;32m<ipython-input-19-6427dc4abda7>\u001b[0m in \u001b[0;36m<module>\u001b[0;34m\u001b[0m\n\u001b[0;32m----> 1\u001b[0;31m \u001b[0mz\u001b[0m\u001b[0;34m,\u001b[0m \u001b[0;36m1.2\u001b[0m\u001b[0;34m*\u001b[0m\u001b[0mz\u001b[0m\u001b[0;34m,\u001b[0m \u001b[0mz\u001b[0m\u001b[0;34m*\u001b[0m\u001b[0;36m1.2\u001b[0m\u001b[0;34m,\u001b[0m \u001b[0mz\u001b[0m\u001b[0;34m/\u001b[0m\u001b[0;36m2\u001b[0m\u001b[0;34m,\u001b[0m \u001b[0;36m2\u001b[0m\u001b[0;34m/\u001b[0m\u001b[0mz\u001b[0m\u001b[0;34m\u001b[0m\u001b[0;34m\u001b[0m\u001b[0m\n\u001b[0m",
            "\u001b[0;31mTypeError\u001b[0m: unsupported operand type(s) for /: 'int' and 'Complejo'"
          ]
        }
      ],
      "source": [
        "z, 1.2*z, z*1.2, z/2, 2/z"
      ]
    },
    {
      "cell_type": "code",
      "execution_count": null,
      "metadata": {
        "id": "-bbJ7pPbTbLb",
        "outputId": "5c3eeba0-fb08-430d-8671-3d581ed2ad78"
      },
      "outputs": [
        {
          "data": {
            "text/plain": [
              "Complejo(nan, nan)"
            ]
          },
          "execution_count": 20,
          "metadata": {},
          "output_type": "execute_result"
        }
      ],
      "source": [
        "Complejo(1,1)/Complejo(0,0)"
      ]
    },
    {
      "cell_type": "code",
      "execution_count": null,
      "metadata": {
        "id": "6PGfHpvYTbLc",
        "outputId": "78c447e1-03ba-4820-8a12-85dd043a3f75"
      },
      "outputs": [
        {
          "data": {
            "text/plain": [
              "Complejo(nan, nan)"
            ]
          },
          "execution_count": 21,
          "metadata": {},
          "output_type": "execute_result"
        }
      ],
      "source": [
        "Complejo(0, 0).inverso()"
      ]
    },
    {
      "cell_type": "code",
      "execution_count": null,
      "metadata": {
        "id": "oCN7z9YPTbLc",
        "outputId": "3ad3b021-c74f-4b5d-e832-4e906cda91ce"
      },
      "outputs": [
        {
          "data": {
            "text/plain": [
              "(sympy.core.numbers.ComplexInfinity, zoo, nan, zoo)"
            ]
          },
          "execution_count": 22,
          "metadata": {},
          "output_type": "execute_result"
        }
      ],
      "source": [
        "z = Complejo(0, 0)\n",
        "a = 1/z.módulo()\n",
        "type(a), a, a*0, a*1"
      ]
    },
    {
      "cell_type": "code",
      "execution_count": null,
      "metadata": {
        "id": "cIP6GNIiTbLc",
        "outputId": "98fa9ac0-9a5f-4334-fe55-36e88906109f"
      },
      "outputs": [
        {
          "data": {
            "text/plain": [
              "(nan, 1)"
            ]
          },
          "execution_count": 31,
          "metadata": {},
          "output_type": "execute_result"
        }
      ],
      "source": [
        "0*(1/z.módulo()), 1"
      ]
    },
    {
      "cell_type": "code",
      "execution_count": null,
      "metadata": {
        "id": "4tiOeuCsTbLc",
        "outputId": "705e32f1-5399-4e11-9deb-628855bbc736"
      },
      "outputs": [
        {
          "data": {
            "text/plain": [
              "(pi/2, 1)"
            ]
          },
          "execution_count": 35,
          "metadata": {},
          "output_type": "execute_result"
        }
      ],
      "source": [
        "from sympy import atan2\n",
        "\n",
        "\n",
        "atan2(1, 0), 1\n"
      ]
    },
    {
      "cell_type": "markdown",
      "metadata": {
        "id": "9DGBx8WyTbLd"
      },
      "source": [
        "## Tarea\n",
        "\n"
      ]
    },
    {
      "cell_type": "markdown",
      "metadata": {
        "id": "6Ls7ej4kTbLd"
      },
      "source": [
        "TAREA: Implementar un método para el argumento de números complejos\n",
        "Definir una excepción para cuando se pretenda sacar el inverso del complejo `Complejo(0,0)`, por lo tanto, cuando se divida entre `Complejo(0,0)`.\n",
        "\n"
      ]
    },
    {
      "cell_type": "markdown",
      "metadata": {
        "id": "o-qziGDPTbLd"
      },
      "source": [
        "## TAREA\n",
        "\n"
      ]
    },
    {
      "cell_type": "markdown",
      "metadata": {
        "id": "G343bsCrTbLd"
      },
      "source": [
        "Implementar un método para obtener la forma polar de un complejo. Usarlo, para implementar un método que saque una raíz cuadrada de un complejo.\n",
        "\n"
      ]
    }
  ],
  "metadata": {
    "kernelspec": {
      "display_name": "Python 3",
      "language": "python",
      "name": "python3"
    },
    "language_info": {
      "codemirror_mode": {
        "name": "ipython",
        "version": 3
      },
      "file_extension": ".py",
      "mimetype": "text/x-python",
      "name": "python",
      "nbconvert_exporter": "python",
      "pygments_lexer": "ipython3",
      "version": "3.9.2"
    },
    "org": null,
    "colab": {
      "provenance": [],
      "include_colab_link": true
    }
  },
  "nbformat": 4,
  "nbformat_minor": 0
}