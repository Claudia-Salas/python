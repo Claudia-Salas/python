{
  "nbformat": 4,
  "nbformat_minor": 0,
  "metadata": {
    "colab": {
      "provenance": [],
      "authorship_tag": "ABX9TyNeqzd/Lta2MQd1wELS84CT",
      "include_colab_link": true
    },
    "kernelspec": {
      "name": "python3",
      "display_name": "Python 3"
    },
    "language_info": {
      "name": "python"
    }
  },
  "cells": [
    {
      "cell_type": "markdown",
      "metadata": {
        "id": "view-in-github",
        "colab_type": "text"
      },
      "source": [
        "<a href=\"https://colab.research.google.com/github/Claudia-Salas/python/blob/main/Ejercicio_23_Agosto_de_2023(cuadrados%2Ccubos%2Ccuartas_Fibonacci).ipynb\" target=\"_parent\"><img src=\"https://colab.research.google.com/assets/colab-badge.svg\" alt=\"Open In Colab\"/></a>"
      ]
    },
    {
      "cell_type": "code",
      "execution_count": 1,
      "metadata": {
        "colab": {
          "base_uri": "https://localhost:8080/"
        },
        "id": "IZ92rSoCAf3F",
        "outputId": "d0523064-c5cd-4898-d117-c83f7c0eb893"
      },
      "outputs": [
        {
          "output_type": "execute_result",
          "data": {
            "text/plain": [
              "100000000000000000000"
            ]
          },
          "metadata": {},
          "execution_count": 1
        }
      ],
      "source": [
        "10**20\n"
      ]
    },
    {
      "cell_type": "markdown",
      "source": [
        "Para saber los números  de Fibonacci del 0 al 10**20"
      ],
      "metadata": {
        "id": "DvvSewkAGtiR"
      }
    },
    {
      "cell_type": "code",
      "source": [
        "a,b=0,1\n",
        "\n",
        "while a<10**20:\n",
        "    print(a)\n",
        "    a,b=b,a+b"
      ],
      "metadata": {
        "colab": {
          "base_uri": "https://localhost:8080/"
        },
        "id": "TD2q40lTBYBe",
        "outputId": "573affe8-d1c5-45cd-c74e-32355978ead1"
      },
      "execution_count": 3,
      "outputs": [
        {
          "output_type": "stream",
          "name": "stdout",
          "text": [
            "0\n",
            "1\n",
            "1\n",
            "2\n",
            "3\n",
            "5\n",
            "8\n",
            "13\n",
            "21\n",
            "34\n",
            "55\n",
            "89\n",
            "144\n",
            "233\n",
            "377\n",
            "610\n",
            "987\n",
            "1597\n",
            "2584\n",
            "4181\n",
            "6765\n",
            "10946\n",
            "17711\n",
            "28657\n",
            "46368\n",
            "75025\n",
            "121393\n",
            "196418\n",
            "317811\n",
            "514229\n",
            "832040\n",
            "1346269\n",
            "2178309\n",
            "3524578\n",
            "5702887\n",
            "9227465\n",
            "14930352\n",
            "24157817\n",
            "39088169\n",
            "63245986\n",
            "102334155\n",
            "165580141\n",
            "267914296\n",
            "433494437\n",
            "701408733\n",
            "1134903170\n",
            "1836311903\n",
            "2971215073\n",
            "4807526976\n",
            "7778742049\n",
            "12586269025\n",
            "20365011074\n",
            "32951280099\n",
            "53316291173\n",
            "86267571272\n",
            "139583862445\n",
            "225851433717\n",
            "365435296162\n",
            "591286729879\n",
            "956722026041\n",
            "1548008755920\n",
            "2504730781961\n",
            "4052739537881\n",
            "6557470319842\n",
            "10610209857723\n",
            "17167680177565\n",
            "27777890035288\n",
            "44945570212853\n",
            "72723460248141\n",
            "117669030460994\n",
            "190392490709135\n",
            "308061521170129\n",
            "498454011879264\n",
            "806515533049393\n",
            "1304969544928657\n",
            "2111485077978050\n",
            "3416454622906707\n",
            "5527939700884757\n",
            "8944394323791464\n",
            "14472334024676221\n",
            "23416728348467685\n",
            "37889062373143906\n",
            "61305790721611591\n",
            "99194853094755497\n",
            "160500643816367088\n",
            "259695496911122585\n",
            "420196140727489673\n",
            "679891637638612258\n",
            "1100087778366101931\n",
            "1779979416004714189\n",
            "2880067194370816120\n",
            "4660046610375530309\n",
            "7540113804746346429\n",
            "12200160415121876738\n",
            "19740274219868223167\n",
            "31940434634990099905\n",
            "51680708854858323072\n",
            "83621143489848422977\n"
          ]
        }
      ]
    },
    {
      "cell_type": "markdown",
      "source": [
        "¿Qué números de Fibonacci menores que 10**20 son cuadrados?\n",
        "\n",
        "¿Qué números de Fibonacci menores que 10**20 son cubos?\n",
        "\n",
        "¿Qué números de Fibonacci menores que 10**20 son cuartas potencias?"
      ],
      "metadata": {
        "id": "rWK8IQiNCDHN"
      }
    },
    {
      "cell_type": "code",
      "source": [
        "from sympy.core.power import integer_log\n",
        "integer_log"
      ],
      "metadata": {
        "colab": {
          "base_uri": "https://localhost:8080/"
        },
        "id": "TtoS75bLBsd9",
        "outputId": "f8df3f1a-431f-4bdf-c424-d2ec4da4d22f"
      },
      "execution_count": 4,
      "outputs": [
        {
          "output_type": "execute_result",
          "data": {
            "text/plain": [
              "<function sympy.core.power.integer_log(y, x)>"
            ]
          },
          "metadata": {},
          "execution_count": 4
        }
      ]
    },
    {
      "cell_type": "code",
      "source": [
        "help(integer_log)"
      ],
      "metadata": {
        "colab": {
          "base_uri": "https://localhost:8080/"
        },
        "id": "XyPWPJhsCmGw",
        "outputId": "1f82a162-42b6-453e-a54f-e20162c77513"
      },
      "execution_count": 5,
      "outputs": [
        {
          "output_type": "stream",
          "name": "stdout",
          "text": [
            "Help on function integer_log in module sympy.core.power:\n",
            "\n",
            "integer_log(y, x)\n",
            "    Returns ``(e, bool)`` where e is the largest nonnegative integer\n",
            "    such that :math:`|y| \\geq |x^e|` and ``bool`` is True if $y = x^e$.\n",
            "    \n",
            "    Examples\n",
            "    ========\n",
            "    \n",
            "    >>> from sympy import integer_log\n",
            "    >>> integer_log(125, 5)\n",
            "    (3, True)\n",
            "    >>> integer_log(17, 9)\n",
            "    (1, False)\n",
            "    >>> integer_log(4, -2)\n",
            "    (2, True)\n",
            "    >>> integer_log(-125,-5)\n",
            "    (3, True)\n",
            "    \n",
            "    See Also\n",
            "    ========\n",
            "    integer_nthroot\n",
            "    sympy.ntheory.primetest.is_square\n",
            "    sympy.ntheory.factor_.multiplicity\n",
            "    sympy.ntheory.factor_.perfect_power\n",
            "\n"
          ]
        }
      ]
    },
    {
      "cell_type": "code",
      "source": [
        "def cuadrados_fibonacci(n):\n",
        "    fibs = []\n",
        "    a, b = 0, 1\n",
        "    while a < n:\n",
        "        fibs.append(a)\n",
        "        a, b = b, a+b\n",
        "    return fibs\n",
        "\n",
        "cuadrados_fibonacci(10000)"
      ],
      "metadata": {
        "colab": {
          "base_uri": "https://localhost:8080/"
        },
        "id": "SnJMAxgyDIEX",
        "outputId": "0362f1c0-34c4-4e0e-a005-ec754d108ee3"
      },
      "execution_count": 6,
      "outputs": [
        {
          "output_type": "execute_result",
          "data": {
            "text/plain": [
              "[0,\n",
              " 1,\n",
              " 1,\n",
              " 2,\n",
              " 3,\n",
              " 5,\n",
              " 8,\n",
              " 13,\n",
              " 21,\n",
              " 34,\n",
              " 55,\n",
              " 89,\n",
              " 144,\n",
              " 233,\n",
              " 377,\n",
              " 610,\n",
              " 987,\n",
              " 1597,\n",
              " 2584,\n",
              " 4181,\n",
              " 6765]"
            ]
          },
          "metadata": {},
          "execution_count": 6
        }
      ]
    },
    {
      "cell_type": "code",
      "source": [
        "from sympy import sqrt\n",
        "\n",
        "def es_cuadrado(n):\n",
        "    if int(sqrt(n)) ** 2 == n:\n",
        "        return True\n",
        "    else:\n",
        "        return False\n",
        "\n",
        "\n",
        "es_cuadrado(0), es_cuadrado(1), es_cuadrado(144)"
      ],
      "metadata": {
        "colab": {
          "base_uri": "https://localhost:8080/"
        },
        "id": "kedSr8unDSu2",
        "outputId": "ced26e9d-e980-4cb5-a285-788f8db05729"
      },
      "execution_count": 8,
      "outputs": [
        {
          "output_type": "execute_result",
          "data": {
            "text/plain": [
              "(True, True, True)"
            ]
          },
          "metadata": {},
          "execution_count": 8
        }
      ]
    },
    {
      "cell_type": "markdown",
      "source": [
        "---------------------------------------------------------------------------------------------------------"
      ],
      "metadata": {
        "id": "_l0896IYG147"
      }
    },
    {
      "cell_type": "markdown",
      "source": [
        "El código de abajo nos da cuales de los numeros de fibonacci son cuadrados, números menores a 10**20"
      ],
      "metadata": {
        "id": "ozq1deE6FP2u"
      }
    },
    {
      "cell_type": "code",
      "source": [
        "from sympy import sqrt\n",
        "\n",
        "def es_cuadrado(n):\n",
        "    return int(sqrt(n)) ** 2 == n\n",
        "\n",
        "def cuadrados_fibonacci(n):\n",
        "    fibs = []\n",
        "    a, b = 0, 1\n",
        "    while a < n:\n",
        "        if es_cuadrado(a):\n",
        "            fibs.append(a)\n",
        "        a, b = b, a+b\n",
        "    return fibs\n",
        "\n",
        "cuadrados_fibonacci(10**20)\n"
      ],
      "metadata": {
        "colab": {
          "base_uri": "https://localhost:8080/"
        },
        "id": "zF_utBoQFDeC",
        "outputId": "f8f0cbc9-a653-4612-ac03-9d4b62510c37"
      },
      "execution_count": 9,
      "outputs": [
        {
          "output_type": "execute_result",
          "data": {
            "text/plain": [
              "[0, 1, 1, 144]"
            ]
          },
          "metadata": {},
          "execution_count": 9
        }
      ]
    },
    {
      "cell_type": "markdown",
      "source": [
        "Nos dan los cubos de los números de Fibonacci"
      ],
      "metadata": {
        "id": "ygwAuTlSGfDo"
      }
    },
    {
      "cell_type": "code",
      "source": [],
      "metadata": {
        "id": "iREkTJ1zFh1S"
      },
      "execution_count": null,
      "outputs": []
    },
    {
      "cell_type": "code",
      "source": [
        "from sympy import sqrt\n",
        "\n",
        "def es_cubo(n):\n",
        "    return int(sqrt(n)) ** 3 == n\n",
        "\n",
        "def cubo_fibonacci(n):\n",
        "    fibs = []\n",
        "    a, b = 0, 1\n",
        "    while a < n:\n",
        "        if es_cubo(a):\n",
        "            fibs.append(a)\n",
        "        a, b = b, a+b\n",
        "    return fibs\n",
        "\n",
        "cubo_fibonacci(10**20)\n",
        "\n"
      ],
      "metadata": {
        "colab": {
          "base_uri": "https://localhost:8080/"
        },
        "outputId": "27232318-703b-413c-b3dd-88ea67beba6b",
        "id": "KvDR9zPuFiOZ"
      },
      "execution_count": 16,
      "outputs": [
        {
          "output_type": "execute_result",
          "data": {
            "text/plain": [
              "[0, 1, 1, 8]"
            ]
          },
          "metadata": {},
          "execution_count": 16
        }
      ]
    },
    {
      "cell_type": "markdown",
      "source": [
        "Nos da los números de Fibonacci que tienen cuarta potencia"
      ],
      "metadata": {
        "id": "wHa_FwvuGl7b"
      }
    },
    {
      "cell_type": "code",
      "source": [
        "\n",
        "\n",
        "from sympy import sqrt\n",
        "\n",
        "def es_cuarta(n):\n",
        "    return int(sqrt(n)) ** 4== n\n",
        "\n",
        "def cuarta_fibonacci(n):\n",
        "    fibs = []\n",
        "    a, b = 0, 1\n",
        "    while a < n:\n",
        "        if es_cuarta(a):\n",
        "            fibs.append(a)\n",
        "        a, b = b, a+b\n",
        "    return fibs\n",
        "\n",
        "cuarta_fibonacci(10**20)\n",
        "\n"
      ],
      "metadata": {
        "colab": {
          "base_uri": "https://localhost:8080/"
        },
        "outputId": "786afe5b-eca6-4b87-ce6a-7176c3517f60",
        "id": "N6Az2rp1F8XG"
      },
      "execution_count": 15,
      "outputs": [
        {
          "output_type": "execute_result",
          "data": {
            "text/plain": [
              "[0, 1, 1]"
            ]
          },
          "metadata": {},
          "execution_count": 15
        }
      ]
    }
  ]
}