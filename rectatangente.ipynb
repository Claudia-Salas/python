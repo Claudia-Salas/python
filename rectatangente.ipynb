{
  "nbformat": 4,
  "nbformat_minor": 0,
  "metadata": {
    "colab": {
      "provenance": [],
      "authorship_tag": "ABX9TyNg4Gigtq1HA3LcIXgFJ+dy",
      "include_colab_link": true
    },
    "kernelspec": {
      "name": "python3",
      "display_name": "Python 3"
    },
    "language_info": {
      "name": "python"
    }
  },
  "cells": [
    {
      "cell_type": "markdown",
      "metadata": {
        "id": "view-in-github",
        "colab_type": "text"
      },
      "source": [
        "<a href=\"https://colab.research.google.com/github/Claudia-Salas/python/blob/main/rectatangente.ipynb\" target=\"_parent\"><img src=\"https://colab.research.google.com/assets/colab-badge.svg\" alt=\"Open In Colab\"/></a>"
      ]
    },
    {
      "cell_type": "markdown",
      "source": [
        "Ecuación de recta tangente\n",
        "Dada una expresión algebraica y un punto, define una función que regrese la ecuación de la recta tangente en el punto. (La ecuación se puede representar con Eq)."
      ],
      "metadata": {
        "id": "6M5EAg78iXca"
      }
    },
    {
      "cell_type": "code",
      "execution_count": 9,
      "metadata": {
        "colab": {
          "base_uri": "https://localhost:8080/",
          "height": 39
        },
        "id": "aMQkTn_3iHZC",
        "outputId": "98a404d5-2415-49f1-ef76-dafea8765a15"
      },
      "outputs": [
        {
          "output_type": "execute_result",
          "data": {
            "text/plain": [
              "y = 8⋅x - 7"
            ],
            "text/latex": "$\\displaystyle y = 8 x - 7$"
          },
          "metadata": {},
          "execution_count": 9
        }
      ],
      "source": [
        "from sympy import init_printing, symbols, Eq, diff\n",
        "init_printing(use_latex=True)\n",
        "\n",
        "\"\"\"como vamos a ocupar a x primero tenemos que decir que es un simbolo\"\"\"\n",
        "x=symbols('x')\n",
        "\n",
        "\"\"\"sabemos que la eccion es y=mx+b\"\"\"\n",
        "\n",
        "def recta(eq,p):\n",
        "    y=symbols('y')\n",
        "    \"\"\"para el valor que despues le vamos a dar a p, vamos a poner que en donde este x se sutituya por p\"\"\"\n",
        "    b=eq.subs({x:p})\n",
        "    \"\"\"obtenemos la derivada de la función\"\"\"\n",
        "    d=diff(eq)\n",
        "    fpy=d.subs({x:p})\n",
        "    tangente=Eq(y,b+fpy*(x-p))\n",
        "\n",
        "    return tangente\n",
        "\n",
        "recta(x**2+2*x+2,3)"
      ]
    }
  ]
}