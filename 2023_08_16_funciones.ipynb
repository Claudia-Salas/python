{
  "cells": [
    {
      "cell_type": "markdown",
      "metadata": {
        "id": "view-in-github",
        "colab_type": "text"
      },
      "source": [
        "<a href=\"https://colab.research.google.com/github/Claudia-Salas/python/blob/main/2023_08_16_funciones.ipynb\" target=\"_parent\"><img src=\"https://colab.research.google.com/assets/colab-badge.svg\" alt=\"Open In Colab\"/></a>"
      ]
    },
    {
      "cell_type": "markdown",
      "metadata": {
        "id": "x9bL1N5JSBsK"
      },
      "source": [
        "Funciones\n",
        "=========\n",
        "\n",
        "**Date:** 20223-08-16\n",
        "\n"
      ]
    },
    {
      "cell_type": "markdown",
      "metadata": {
        "id": "YoxWujZSSBsM"
      },
      "source": [
        "## Funciones\n",
        "\n"
      ]
    },
    {
      "cell_type": "code",
      "execution_count": 5,
      "metadata": {
        "colab": {
          "base_uri": "https://localhost:8080/"
        },
        "id": "1nZHeCQgSBsN",
        "outputId": "d5d76903-434d-4033-932a-9c1ad4cd3d77"
      },
      "outputs": [
        {
          "output_type": "execute_result",
          "data": {
            "text/plain": [
              "['Juan Diego', 'Verania', 'Rosa', 'Yessica', 'Karen', 'Uriel', 'Ruth']"
            ]
          },
          "metadata": {},
          "execution_count": 5
        }
      ],
      "source": [
        "inscritos = [\"Juan Diego\", \"Verania\", \"Rosa\", \"Yessica\", \"Karen\"]\n",
        "oyentes = [\"Uriel\", \"Ruth\"]\n",
        "estudiantes = inscritos + oyentes\n",
        "estudiantes"
      ]
    },
    {
      "cell_type": "code",
      "execution_count": 1,
      "metadata": {
        "colab": {
          "base_uri": "https://localhost:8080/"
        },
        "id": "daTUQ3iUSBsO",
        "outputId": "bf2c210e-3682-4a27-bc2b-66a6ade02095"
      },
      "outputs": [
        {
          "output_type": "execute_result",
          "data": {
            "text/plain": [
              "49"
            ]
          },
          "metadata": {},
          "execution_count": 1
        }
      ],
      "source": [
        "cuadrado = 25\n",
        "\n",
        "def cuadrado(n):\n",
        "    return n**2\n",
        "\n",
        "cuadrado(7)"
      ]
    },
    {
      "cell_type": "markdown",
      "source": [
        "def primero definimos la funcion y despues al poner cuadrado(7) nos da 7 al cuadrado"
      ],
      "metadata": {
        "id": "0sEMNm5wSJU_"
      }
    },
    {
      "cell_type": "code",
      "execution_count": 9,
      "metadata": {
        "colab": {
          "base_uri": "https://localhost:8080/"
        },
        "id": "UdkuRS86SBsP",
        "outputId": "d0864e2b-fa7b-44a3-b1d7-ee2fa64d03a8"
      },
      "outputs": [
        {
          "output_type": "execute_result",
          "data": {
            "text/plain": [
              "('¡Hola, Gisell! ¿Cómo estás?', '¿Qué materias llevas, Gisell?')"
            ]
          },
          "metadata": {},
          "execution_count": 9
        }
      ],
      "source": [
        "def saludo(persona):\n",
        "    return \"¡Hola, \" + persona + \"! ¿Cómo estás?\"\n",
        "\n",
        "def materias(persona):\n",
        "    return \"¿Qué materias llevas, \" + persona + \"?\"\n",
        "\n",
        "saludo(\"Gisell\"), materias(\"Gisell\")"
      ]
    },
    {
      "cell_type": "markdown",
      "source": [
        "se ponen las indicaciones en el mismo renglon con una coma porque solo imprime lo ultimo que se le pide"
      ],
      "metadata": {
        "id": "FVl9rY8aTd4-"
      }
    },
    {
      "cell_type": "code",
      "execution_count": 10,
      "metadata": {
        "colab": {
          "base_uri": "https://localhost:8080/"
        },
        "id": "M6giEi8lSBsP",
        "outputId": "8b9a0cc0-1447-4a5b-8d4a-1b61dabdbf60"
      },
      "outputs": [
        {
          "output_type": "stream",
          "name": "stdout",
          "text": [
            "¡Hola, Juan Diego! ¿Cómo estás?\n",
            "¿Qué materias llevas, Juan Diego?\n",
            "\n",
            "¡Hola, Verania! ¿Cómo estás?\n",
            "¿Qué materias llevas, Verania?\n",
            "\n",
            "¡Hola, Rosa! ¿Cómo estás?\n",
            "¿Qué materias llevas, Rosa?\n",
            "\n",
            "¡Hola, Yessica! ¿Cómo estás?\n",
            "¿Qué materias llevas, Yessica?\n",
            "\n",
            "¡Hola, Karen! ¿Cómo estás?\n",
            "¿Qué materias llevas, Karen?\n",
            "\n",
            "¡Hola, Uriel! ¿Cómo estás?\n",
            "¿Qué materias llevas, Uriel?\n",
            "\n",
            "¡Hola, Ruth! ¿Cómo estás?\n",
            "¿Qué materias llevas, Ruth?\n",
            "\n"
          ]
        }
      ],
      "source": [
        "for estudiante in estudiantes:\n",
        "    print(saludo(estudiante))\n",
        "    print(materias(estudiante))\n",
        "    print()"
      ]
    },
    {
      "cell_type": "code",
      "execution_count": 14,
      "metadata": {
        "colab": {
          "base_uri": "https://localhost:8080/"
        },
        "id": "DibiwOGkSBsQ",
        "outputId": "91ec6b89-b138-4c96-e4c3-4f84566c0f17"
      },
      "outputs": [
        {
          "output_type": "execute_result",
          "data": {
            "text/plain": [
              "[0,\n",
              " 1,\n",
              " 1,\n",
              " 2,\n",
              " 3,\n",
              " 5,\n",
              " 8,\n",
              " 13,\n",
              " 21,\n",
              " 34,\n",
              " 55,\n",
              " 89,\n",
              " 144,\n",
              " 233,\n",
              " 377,\n",
              " 610,\n",
              " 987,\n",
              " 1597,\n",
              " 2584,\n",
              " 4181,\n",
              " 6765]"
            ]
          },
          "metadata": {},
          "execution_count": 14
        }
      ],
      "source": [
        "def cuadrados_fibonacci(n):\n",
        "    fibs = []\n",
        "    a, b = 0, 1\n",
        "    while a < n:\n",
        "        fibs.append(a)\n",
        "        a, b = b, a+b\n",
        "    return fibs\n",
        "\n",
        "cuadrados_fibonacci(10000)"
      ]
    },
    {
      "cell_type": "code",
      "execution_count": 18,
      "metadata": {
        "colab": {
          "base_uri": "https://localhost:8080/"
        },
        "id": "xycG-mecSBsQ",
        "outputId": "daa204cf-1f70-492d-d0a3-1a881e5569af"
      },
      "outputs": [
        {
          "output_type": "execute_result",
          "data": {
            "text/plain": [
              "[0, 1, 4, 9, 16, 25, 36, 49, 64, 81, 100]"
            ]
          },
          "metadata": {},
          "execution_count": 18
        }
      ],
      "source": [
        "def cuadrados(n):\n",
        "    cua = []\n",
        "    for i in range(n):\n",
        "        if i**2 <= n:\n",
        "            cua.append(i**2)\n",
        "        else:\n",
        "            break\n",
        "    return cua\n",
        "\n",
        "cuadrados(100)"
      ]
    },
    {
      "cell_type": "code",
      "execution_count": 35,
      "metadata": {
        "colab": {
          "base_uri": "https://localhost:8080/"
        },
        "id": "a2YsTpijSBsR",
        "outputId": "7d747ebe-78df-4b53-e9cc-e2f2186352c4"
      },
      "outputs": [
        {
          "output_type": "execute_result",
          "data": {
            "text/plain": [
              "4"
            ]
          },
          "metadata": {},
          "execution_count": 35
        }
      ],
      "source": [
        "int(4.999999999)"
      ]
    },
    {
      "cell_type": "code",
      "execution_count": 19,
      "metadata": {
        "colab": {
          "base_uri": "https://localhost:8080/"
        },
        "id": "twfKAsMKSBsR",
        "outputId": "7834099c-9d60-4797-88a7-8e58f86a534b"
      },
      "outputs": [
        {
          "output_type": "execute_result",
          "data": {
            "text/plain": [
              "(True, False, True)"
            ]
          },
          "metadata": {},
          "execution_count": 19
        }
      ],
      "source": [
        "from sympy import sqrt\n",
        "\n",
        "def es_cuadrado(n):\n",
        "    if int(sqrt(n)) ** 2 == n:\n",
        "        return True\n",
        "    else:\n",
        "        return False\n",
        "\n",
        "es_cuadrado(25), es_cuadrado(20), es_cuadrado(99999999222222222**2)"
      ]
    },
    {
      "cell_type": "markdown",
      "source": [
        "funcion sympy regresa un simbolo, no da flotantes, cuales tiene  raiz cuadrada no con flotantes por eso se ocupa sympy"
      ],
      "metadata": {
        "id": "jiG25J3-UuyN"
      }
    },
    {
      "cell_type": "code",
      "execution_count": 32,
      "metadata": {
        "colab": {
          "base_uri": "https://localhost:8080/"
        },
        "id": "If_pjcSSSBsS",
        "outputId": "83c42d49-6aea-46a7-9196-ca8b37486850"
      },
      "outputs": [
        {
          "output_type": "execute_result",
          "data": {
            "text/plain": [
              "[0, 1, 1, 144]"
            ]
          },
          "metadata": {},
          "execution_count": 32
        }
      ],
      "source": [
        "from sympy import sqrt\n",
        "\n",
        "def es_cuadrado(n):\n",
        "    return int(sqrt(n)) ** 2 == n\n",
        "\n",
        "def cuadrados_fibonacci(n):\n",
        "    fibs = []\n",
        "    a, b = 0, 1\n",
        "    while a < n:\n",
        "        if es_cuadrado(a):\n",
        "            fibs.append(a)\n",
        "        a, b = b, a+b\n",
        "    return fibs\n",
        "\n",
        "cuadrados_fibonacci(1000000000000000000000)"
      ]
    },
    {
      "cell_type": "markdown",
      "source": [
        "los numeros de fubbinacci que tiene cuadrados perfectos"
      ],
      "metadata": {
        "id": "6YI8HlllV8Ks"
      }
    },
    {
      "cell_type": "code",
      "execution_count": 21,
      "metadata": {
        "colab": {
          "base_uri": "https://localhost:8080/"
        },
        "id": "1KCO-7ARSBsS",
        "outputId": "70d52673-1939-480e-ea61-851290d6ad52"
      },
      "outputs": [
        {
          "output_type": "stream",
          "name": "stdout",
          "text": [
            "-- ¡Qué milagro que viene por aquí!\n",
            "-- Vine a traerle este humilde obsequio\n",
            "-- ¿No quiere pasar a tomar una tacita de café?\n"
          ]
        }
      ],
      "source": [
        "def diálogo(evento, objeto, bebida):\n",
        "    print(f\"-- ¡Qué {evento} que viene por aquí!\")\n",
        "    print(f\"-- Vine a traerle este humilde {objeto}\")\n",
        "    print(f\"-- ¿No quiere pasar a tomar {bebida}?\")\n",
        "\n",
        "diálogo(\"milagro\", \"obsequio\", \"una tacita de café\")"
      ]
    },
    {
      "cell_type": "markdown",
      "source": [
        "f al inicio vamos agregar mas cosas en la oracion"
      ],
      "metadata": {
        "id": "BUS8o2bDXI_h"
      }
    },
    {
      "cell_type": "code",
      "execution_count": 24,
      "metadata": {
        "colab": {
          "base_uri": "https://localhost:8080/"
        },
        "id": "Vio7wScuSBsT",
        "outputId": "a73da7e4-e003-4b5c-9f39-90e6a7ab6e58"
      },
      "outputs": [
        {
          "output_type": "stream",
          "name": "stdout",
          "text": [
            "-- ¡Qué casualidad que viene por aquí!\n",
            "-- Vine a traerle este humilde regalo\n",
            "-- ¿No quiere pasar a tomar un té?\n"
          ]
        }
      ],
      "source": [
        "diálogo(\"casualidad\", \"regalo\", \"un té\")"
      ]
    },
    {
      "cell_type": "code",
      "execution_count": 25,
      "metadata": {
        "colab": {
          "base_uri": "https://localhost:8080/"
        },
        "id": "sCyn9viSSBsT",
        "outputId": "1b44bd53-962e-42b0-8d72-351b99f66618"
      },
      "outputs": [
        {
          "output_type": "stream",
          "name": "stdout",
          "text": [
            "-- ¡Qué milagro que viene por aquí!\n",
            "-- Vine a traerle este humilde obsequio\n",
            "-- ¿No quiere pasar a tomar una tacita de café?\n"
          ]
        }
      ],
      "source": [
        "def diálogo(evento=\"milagro\", objeto=\"obsequio\", bebida=\"una tacita de café\"):\n",
        "    print(f\"-- ¡Qué {evento} que viene por aquí!\")\n",
        "    print(f\"-- Vine a traerle este humilde {objeto}\")\n",
        "    print(f\"-- ¿No quiere pasar a tomar {bebida}?\")\n",
        "\n",
        "diálogo()"
      ]
    },
    {
      "cell_type": "code",
      "execution_count": null,
      "metadata": {
        "id": "Gz3ARhCHSBsT"
      },
      "outputs": [],
      "source": [
        "diálogo(\"casualidad\", \"regalo\", \"un té\")"
      ]
    },
    {
      "cell_type": "code",
      "execution_count": null,
      "metadata": {
        "id": "9XrEHPItSBsU"
      },
      "outputs": [],
      "source": [
        "diálogo(bebida=\"atole\", evento=\"sorpresa\", objeto=\"presente\")"
      ]
    },
    {
      "cell_type": "code",
      "execution_count": null,
      "metadata": {
        "id": "Z6z_NYN9SBsU"
      },
      "outputs": [],
      "source": [
        "diálogo(bebida=\"un refresco\")"
      ]
    },
    {
      "cell_type": "code",
      "execution_count": 26,
      "metadata": {
        "colab": {
          "base_uri": "https://localhost:8080/"
        },
        "id": "mciAnw_5SBsU",
        "outputId": "a8b1cd66-df08-41c9-eb72-7448e0ada0f5"
      },
      "outputs": [
        {
          "output_type": "stream",
          "name": "stdout",
          "text": [
            "-- ¡Qué coincidencia que viene por aquí!\n",
            "-- Vine a traerle este humilde obsequio\n",
            "-- ¿No quiere pasar a tomar una tacita de café?\n"
          ]
        }
      ],
      "source": [
        "def diálogo(evento, objeto=\"obsequio\", bebida=\"una tacita de café\"):\n",
        "    print(f\"-- ¡Qué {evento} que viene por aquí!\")\n",
        "    print(f\"-- Vine a traerle este humilde {objeto}\")\n",
        "    print(f\"-- ¿No quiere pasar a tomar {bebida}?\")\n",
        "\n",
        "diálogo(\"coincidencia\")"
      ]
    },
    {
      "cell_type": "code",
      "execution_count": null,
      "metadata": {
        "id": "xeD25IwYSBsU"
      },
      "outputs": [],
      "source": [
        "diálogo(\"coincidencia\", bebida=\"una copita\")"
      ]
    },
    {
      "cell_type": "markdown",
      "metadata": {
        "id": "b1OIOyivSBsV"
      },
      "source": [
        "## Ejemplo práctico\n",
        "\n"
      ]
    },
    {
      "cell_type": "code",
      "execution_count": 27,
      "metadata": {
        "colab": {
          "base_uri": "https://localhost:8080/"
        },
        "id": "6Sj1TIl7SBsV",
        "outputId": "30e34298-88b9-4c73-b3fe-7db28a5f21e7"
      },
      "outputs": [
        {
          "output_type": "execute_result",
          "data": {
            "text/plain": [
              "[0, 1, 4, 9, 16, 25, 36, 49, 64, 81, 100]"
            ]
          },
          "metadata": {},
          "execution_count": 27
        }
      ],
      "source": [
        "def cuadrados(n):\n",
        "    cua = []\n",
        "    for i in range(n):\n",
        "        if i**2 <= n:\n",
        "            cua.append(i**2)\n",
        "        else:\n",
        "            break\n",
        "    return cua\n",
        "\n",
        "cuadrados(100)"
      ]
    },
    {
      "cell_type": "code",
      "execution_count": 28,
      "metadata": {
        "colab": {
          "base_uri": "https://localhost:8080/"
        },
        "id": "pMIMb93USBsV",
        "outputId": "760546a9-5c60-46cc-8761-8061ac71bb10"
      },
      "outputs": [
        {
          "output_type": "execute_result",
          "data": {
            "text/plain": [
              "[25, 36, 49, 64, 81, 100]"
            ]
          },
          "metadata": {},
          "execution_count": 28
        }
      ],
      "source": [
        "def cuadrados(n, inferior=0):\n",
        "    cua = []\n",
        "    for i in range(n):\n",
        "        if inferior <= i**2 <= n:\n",
        "            cua.append(i**2)\n",
        "        elif i**2 > n:\n",
        "            break\n",
        "    return cua\n",
        "\n",
        "cuadrados(100, inferior=24)"
      ]
    },
    {
      "cell_type": "markdown",
      "source": [
        "los n cuadrados hasta el 100 pero que no empiece en 0, que sean inferiores al 24"
      ],
      "metadata": {
        "id": "y_MbefRFZU5S"
      }
    },
    {
      "cell_type": "code",
      "execution_count": 31,
      "metadata": {
        "colab": {
          "base_uri": "https://localhost:8080/",
          "height": 35
        },
        "id": "ZdUqajbTSBsV",
        "outputId": "86b6407e-0fbc-4a6f-ddb6-cfbc06ba2174"
      },
      "outputs": [
        {
          "output_type": "execute_result",
          "data": {
            "text/plain": [
              "'Hola Gisell'"
            ],
            "application/vnd.google.colaboratory.intrinsic+json": {
              "type": "string"
            }
          },
          "metadata": {},
          "execution_count": 31
        }
      ],
      "source": [
        "def saludador(saludo):\n",
        "    def tttttttttttt(persona):\n",
        "        return saludo + \" \" + persona\n",
        "    return tttttttttttt\n",
        "\n",
        "f = saludador(\"Hola\")\n",
        "f(\"Gisell\")"
      ]
    },
    {
      "cell_type": "markdown",
      "source": [
        "tttttttttttt es una funcion y la funcion saludador regresa una cadena"
      ],
      "metadata": {
        "id": "_FlfP-BQZ6MI"
      }
    },
    {
      "cell_type": "code",
      "execution_count": 33,
      "metadata": {
        "colab": {
          "base_uri": "https://localhost:8080/",
          "height": 35
        },
        "id": "jUoXPaZtSBsV",
        "outputId": "449ece9e-5fbe-4ffb-f27f-890aeab7c76e"
      },
      "outputs": [
        {
          "output_type": "execute_result",
          "data": {
            "text/plain": [
              "'Que tal Gisell'"
            ],
            "application/vnd.google.colaboratory.intrinsic+json": {
              "type": "string"
            }
          },
          "metadata": {},
          "execution_count": 33
        }
      ],
      "source": [
        "g = saludador(\"Que tal\")\n",
        "g(\"Gisell\")"
      ]
    },
    {
      "cell_type": "markdown",
      "metadata": {
        "id": "Z-Te4MmZSBsW"
      },
      "source": [
        "## Tarea\n",
        "\n"
      ]
    },
    {
      "cell_type": "markdown",
      "metadata": {
        "id": "xSi5BMU9SBsW"
      },
      "source": [
        "Escribir una función que tenga un argumento obligatorio $n$ y un argumento opcional $pot$, y que regrese los números de fibonacci menores que $n$ que sean una potencia $pot$ exacta.\n",
        "\n"
      ]
    },
    {
      "cell_type": "code",
      "execution_count": 36,
      "metadata": {
        "colab": {
          "base_uri": "https://localhost:8080/"
        },
        "outputId": "8fff5c60-2a30-4f0c-ff55-b2ff388c0996",
        "id": "-gY2i3MxbESL"
      },
      "outputs": [
        {
          "output_type": "execute_result",
          "data": {
            "text/plain": [
              "[0, 1, 1, 144]"
            ]
          },
          "metadata": {},
          "execution_count": 36
        }
      ],
      "source": [
        "from sympy import sqrt\n",
        "\n",
        "def es_potencia(n,pot=2):\n",
        "    return int(sqrt(n)) ** 2 == n\n",
        "\n",
        "def cuadrados_fibonacci(n,pot=2):\n",
        "    fibs = []\n",
        "    a, b = 0, 1\n",
        "    while a < n:\n",
        "        if es_cuadrado(a):\n",
        "            fibs.append(a)\n",
        "        a, b = b, a+b\n",
        "    return fibs\n",
        "\n",
        "cuadrados_fibonacci(1000000000000000000000)"
      ]
    },
    {
      "cell_type": "markdown",
      "metadata": {
        "id": "re81ZawISBsW"
      },
      "source": [
        "## Documentación de las funciones y funciones anónimas\n",
        "\n"
      ]
    },
    {
      "cell_type": "code",
      "execution_count": 34,
      "metadata": {
        "colab": {
          "base_uri": "https://localhost:8080/"
        },
        "id": "9dBwHxJESBsW",
        "outputId": "fb27aa41-0d78-4eb9-d234-620dd2b5c8fc"
      },
      "outputs": [
        {
          "output_type": "stream",
          "name": "stdout",
          "text": [
            "Help on function saludador in module __main__:\n",
            "\n",
            "saludador(saludo='Hola')\n",
            "    Una función que regresa funciones saludadoras.\n",
            "\n"
          ]
        }
      ],
      "source": [
        "def saludador(saludo=\"Hola\"):\n",
        "    \"\"\"Una función que regresa funciones saludadoras.\"\"\"\n",
        "    return lambda persona: saludo + \" \" + persona\n",
        "\n",
        "help(saludador)"
      ]
    },
    {
      "cell_type": "code",
      "execution_count": null,
      "metadata": {
        "id": "2z5m17YfSBsW"
      },
      "outputs": [],
      "source": [
        "g = saludador(\"Que tal\")\n",
        "g(\"Karen\")"
      ]
    },
    {
      "cell_type": "code",
      "execution_count": null,
      "metadata": {
        "id": "_rVC2Bd5SBsW"
      },
      "outputs": [],
      "source": [
        "fun = lambda x: x**2\n",
        "\n",
        "fun(4)"
      ]
    },
    {
      "cell_type": "markdown",
      "metadata": {
        "id": "bkGe7W5OSBsW"
      },
      "source": [
        "## Copia superficial\n",
        "\n"
      ]
    },
    {
      "cell_type": "markdown",
      "metadata": {
        "id": "ABQsXzbqSBsW"
      },
      "source": [
        "En inglés se llama *shallow copy*.\n",
        "\n"
      ]
    },
    {
      "cell_type": "code",
      "execution_count": null,
      "metadata": {
        "id": "4nWd1H7PSBsX"
      },
      "outputs": [],
      "source": [
        "estudiantes"
      ]
    },
    {
      "cell_type": "code",
      "execution_count": null,
      "metadata": {
        "id": "1g_AtnXLSBsX"
      },
      "outputs": [],
      "source": [
        "alumnos = estudiantes\n",
        "alumnos.append(\"Nuevo\")\n",
        "alumnos"
      ]
    },
    {
      "cell_type": "code",
      "execution_count": null,
      "metadata": {
        "id": "AAwNvgRXSBsX"
      },
      "outputs": [],
      "source": [
        "estudiantes"
      ]
    },
    {
      "cell_type": "code",
      "execution_count": null,
      "metadata": {
        "id": "V0HL0TbnSBsX"
      },
      "outputs": [],
      "source": [
        "a = 1\n",
        "b = a\n",
        "b = b+1\n",
        "b"
      ]
    },
    {
      "cell_type": "code",
      "execution_count": null,
      "metadata": {
        "id": "UmkikWcUSBsX"
      },
      "outputs": [],
      "source": [
        "a"
      ]
    },
    {
      "cell_type": "markdown",
      "metadata": {
        "id": "zWGyyDb_SBsY"
      },
      "source": [
        "### Más métodos del tipo lista\n",
        "\n"
      ]
    },
    {
      "cell_type": "code",
      "execution_count": null,
      "metadata": {
        "id": "i2AZyOp-SBsY"
      },
      "outputs": [],
      "source": [
        "alumnos.pop()"
      ]
    },
    {
      "cell_type": "code",
      "execution_count": null,
      "metadata": {
        "id": "VqeFZtdISBsY"
      },
      "outputs": [],
      "source": [
        "alumnos"
      ]
    },
    {
      "cell_type": "code",
      "execution_count": null,
      "metadata": {
        "id": "HSHzosUESBsY"
      },
      "outputs": [],
      "source": [
        "estudiantes"
      ]
    },
    {
      "cell_type": "code",
      "execution_count": null,
      "metadata": {
        "id": "7sWj6qwnSBsY"
      },
      "outputs": [],
      "source": [
        "alumnos2 = estudiantes.copy()\n",
        "alumnos2"
      ]
    },
    {
      "cell_type": "code",
      "execution_count": null,
      "metadata": {
        "id": "frXT267jSBsY"
      },
      "outputs": [],
      "source": [
        "alumnos2.append(\"Nuevo\")\n",
        "alumnos2"
      ]
    },
    {
      "cell_type": "code",
      "execution_count": null,
      "metadata": {
        "id": "iBIYdgQpSBsZ"
      },
      "outputs": [],
      "source": [
        "estudiantes"
      ]
    }
  ],
  "metadata": {
    "kernelspec": {
      "display_name": "Python 3",
      "language": "python",
      "name": "python3"
    },
    "language_info": {
      "codemirror_mode": {
        "name": "ipython",
        "version": 3
      },
      "file_extension": ".py",
      "mimetype": "text/x-python",
      "name": "python",
      "nbconvert_exporter": "python",
      "pygments_lexer": "ipython3",
      "version": "3.9.2"
    },
    "org": null,
    "colab": {
      "provenance": [],
      "include_colab_link": true
    }
  },
  "nbformat": 4,
  "nbformat_minor": 0
}