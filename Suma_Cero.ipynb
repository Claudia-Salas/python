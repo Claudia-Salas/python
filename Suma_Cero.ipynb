{
  "nbformat": 4,
  "nbformat_minor": 0,
  "metadata": {
    "colab": {
      "provenance": [],
      "authorship_tag": "ABX9TyNdEMj/V7468yCBaJFFfxPM",
      "include_colab_link": true
    },
    "kernelspec": {
      "name": "python3",
      "display_name": "Python 3"
    },
    "language_info": {
      "name": "python"
    }
  },
  "cells": [
    {
      "cell_type": "markdown",
      "metadata": {
        "id": "view-in-github",
        "colab_type": "text"
      },
      "source": [
        "<a href=\"https://colab.research.google.com/github/Claudia-Salas/python/blob/main/Suma_Cero.ipynb\" target=\"_parent\"><img src=\"https://colab.research.google.com/assets/colab-badge.svg\" alt=\"Open In Colab\"/></a>"
      ]
    },
    {
      "cell_type": "markdown",
      "source": [
        "Definir una funcion tal que regrese un conjunto de números enteros aleatorios, dos argumentos: cantidad y rango"
      ],
      "metadata": {
        "id": "OMo4DGisMz7e"
      }
    },
    {
      "cell_type": "markdown",
      "source": [
        "El siguiente código genera con `random` 5 numeros aleatorios que se encuentren entre -30 y 30"
      ],
      "metadata": {
        "id": "gcTOliKEN4Jz"
      }
    },
    {
      "cell_type": "code",
      "execution_count": 19,
      "metadata": {
        "colab": {
          "base_uri": "https://localhost:8080/"
        },
        "id": "Tc3BKvdzMPQN",
        "outputId": "234f9055-8416-404f-8a1f-2cba595263c8"
      },
      "outputs": [
        {
          "output_type": "execute_result",
          "data": {
            "text/plain": [
              "{-42, -31, -29, -9, -2, 19, 24, 35, 40, 41, 47}"
            ]
          },
          "metadata": {},
          "execution_count": 19
        }
      ],
      "source": [
        "from random import randint\n",
        "\n",
        "def random (n,R):\n",
        "    C=[]\n",
        "    for i in range(n):\n",
        "        C.append(randint(-R,R))\n",
        "    return set(C)\n",
        "\n",
        "a=random(12,50)\n",
        "a\n"
      ]
    },
    {
      "cell_type": "markdown",
      "source": [
        "del conjunto que damos hace parejas combinandolas entre si\n",
        "\n",
        "---\n",
        "\n"
      ],
      "metadata": {
        "id": "Xrq0FcdpN2ig"
      }
    },
    {
      "cell_type": "code",
      "source": [
        "from itertools import combinations\n",
        "\n",
        "def zero_sum(rset):\n",
        "    for i in range(1,len(rset)+1):\n",
        "        for subset in combinations (rset,i):\n",
        "            pass\n",
        "list(combinations({2,4,5},2))"
      ],
      "metadata": {
        "colab": {
          "base_uri": "https://localhost:8080/"
        },
        "id": "nhLxXvsgOaBi",
        "outputId": "94fc024d-d035-440d-9c8b-61cdb20d92ef"
      },
      "execution_count": 2,
      "outputs": [
        {
          "output_type": "execute_result",
          "data": {
            "text/plain": [
              "[(2, 4), (2, 5), (4, 5)]"
            ]
          },
          "metadata": {},
          "execution_count": 2
        }
      ]
    },
    {
      "cell_type": "markdown",
      "source": [
        "Definir una función tal que dado un conjunto de números enteros, determina si tiene un subconjunto que sume cero"
      ],
      "metadata": {
        "id": "_qgLHumvPRFa"
      }
    },
    {
      "cell_type": "markdown",
      "source": [
        "En la oparte de arriba se nombro `a` al conjunto que nos arroja los números aleatorios, para que de ellos se vea cuales suman cero"
      ],
      "metadata": {
        "id": "b56DufvaRKTh"
      }
    },
    {
      "cell_type": "code",
      "source": [
        "from itertools import combinations\n",
        "def zero_sum(rset):\n",
        "    for i in range (1,len(rset)+1):\n",
        "        for subset in combinations(rset,i):\n",
        "            if sum(subset)==0:\n",
        "                return subset\n",
        "    return False\n",
        "\n",
        "zero_sum(a)"
      ],
      "metadata": {
        "colab": {
          "base_uri": "https://localhost:8080/"
        },
        "id": "SeTVAFBFPerP",
        "outputId": "079272e4-09da-458e-8546-460177567e0b"
      },
      "execution_count": 20,
      "outputs": [
        {
          "output_type": "execute_result",
          "data": {
            "text/plain": [
              "(-31, 40, -9)"
            ]
          },
          "metadata": {},
          "execution_count": 20
        }
      ]
    }
  ]
}