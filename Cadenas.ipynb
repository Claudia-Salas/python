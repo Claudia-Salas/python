{
  "nbformat": 4,
  "nbformat_minor": 0,
  "metadata": {
    "colab": {
      "provenance": [],
      "authorship_tag": "ABX9TyO4fJK9JpAeka6E2MTFSk8c",
      "include_colab_link": true
    },
    "kernelspec": {
      "name": "python3",
      "display_name": "Python 3"
    },
    "language_info": {
      "name": "python"
    }
  },
  "cells": [
    {
      "cell_type": "markdown",
      "metadata": {
        "id": "view-in-github",
        "colab_type": "text"
      },
      "source": [
        "<a href=\"https://colab.research.google.com/github/Claudia-Salas/python/blob/main/Cadenas.ipynb\" target=\"_parent\"><img src=\"https://colab.research.google.com/assets/colab-badge.svg\" alt=\"Open In Colab\"/></a>"
      ]
    },
    {
      "cell_type": "code",
      "execution_count": 3,
      "metadata": {
        "colab": {
          "base_uri": "https://localhost:8080/",
          "height": 36
        },
        "id": "FcjrQ8FwEmZY",
        "outputId": "c336aede-b439-4287-d2a1-d058219c6bae"
      },
      "outputs": [
        {
          "output_type": "execute_result",
          "data": {
            "text/plain": [
              "'Hola mundo'"
            ],
            "application/vnd.google.colaboratory.intrinsic+json": {
              "type": "string"
            }
          },
          "metadata": {},
          "execution_count": 3
        }
      ],
      "source": [
        "greeting=\"Hola\"+ \" mundo\"\n",
        "greeting"
      ]
    },
    {
      "cell_type": "code",
      "source": [
        "greeting[0]"
      ],
      "metadata": {
        "colab": {
          "base_uri": "https://localhost:8080/",
          "height": 36
        },
        "id": "6ros6S3_FUVQ",
        "outputId": "237dcfe3-5fce-47ee-8ca1-5e984f84ece1"
      },
      "execution_count": 4,
      "outputs": [
        {
          "output_type": "execute_result",
          "data": {
            "text/plain": [
              "'H'"
            ],
            "application/vnd.google.colaboratory.intrinsic+json": {
              "type": "string"
            }
          },
          "metadata": {},
          "execution_count": 4
        }
      ]
    },
    {
      "cell_type": "markdown",
      "source": [
        "la cadena se empieza a contar desde cero, por eso en la posición cero se encuentra la H\n"
      ],
      "metadata": {
        "id": "9OU8M1nfFaB-"
      }
    },
    {
      "cell_type": "code",
      "source": [
        "greeting[4]"
      ],
      "metadata": {
        "colab": {
          "base_uri": "https://localhost:8080/",
          "height": 36
        },
        "id": "kcDH8KvqFhr-",
        "outputId": "1236c531-f6a7-4c10-db8d-164530fa0c77"
      },
      "execution_count": 6,
      "outputs": [
        {
          "output_type": "execute_result",
          "data": {
            "text/plain": [
              "' '"
            ],
            "application/vnd.google.colaboratory.intrinsic+json": {
              "type": "string"
            }
          },
          "metadata": {},
          "execution_count": 6
        }
      ]
    },
    {
      "cell_type": "markdown",
      "source": [
        "se cuenta también el espacio"
      ],
      "metadata": {
        "id": "jhM2BuWqFpYy"
      }
    },
    {
      "cell_type": "code",
      "source": [
        "a='\"Hola\"\\n they said'\n",
        "print(a)"
      ],
      "metadata": {
        "colab": {
          "base_uri": "https://localhost:8080/"
        },
        "id": "13QyN20rFsF5",
        "outputId": "9dad563c-a0ce-49a6-8186-18ce604a5b2b"
      },
      "execution_count": 11,
      "outputs": [
        {
          "output_type": "stream",
          "name": "stdout",
          "text": [
            "\"Hola\"\n",
            " they said\n"
          ]
        }
      ]
    },
    {
      "cell_type": "markdown",
      "source": [
        "\\n hace el salto de renglon"
      ],
      "metadata": {
        "id": "c97GuXFGGFwJ"
      }
    },
    {
      "cell_type": "code",
      "source": [
        "print(r'c:\\some\\name')"
      ],
      "metadata": {
        "colab": {
          "base_uri": "https://localhost:8080/"
        },
        "id": "W0-fCFjnGI-V",
        "outputId": "012a0300-60cb-40b6-ace4-c4e27c32e1c5"
      },
      "execution_count": 12,
      "outputs": [
        {
          "output_type": "stream",
          "name": "stdout",
          "text": [
            "c:\\some\\name\n"
          ]
        }
      ]
    },
    {
      "cell_type": "markdown",
      "source": [
        "la r al inicia hace una cadena cruda, imprime tal cual lo que se escribio\n"
      ],
      "metadata": {
        "id": "pnQmGU6RGZoL"
      }
    },
    {
      "cell_type": "code",
      "source": [
        "word='Jupyter-python'\n",
        "len(word)"
      ],
      "metadata": {
        "colab": {
          "base_uri": "https://localhost:8080/"
        },
        "id": "RiHaQULhGgf5",
        "outputId": "7e4e6c24-097e-4773-ab78-ddc4f5f976bb"
      },
      "execution_count": 13,
      "outputs": [
        {
          "output_type": "execute_result",
          "data": {
            "text/plain": [
              "14"
            ]
          },
          "metadata": {},
          "execution_count": 13
        }
      ]
    },
    {
      "cell_type": "markdown",
      "source": [
        "len nos dice el tamaño de la cadena"
      ],
      "metadata": {
        "id": "XsDUVB1TGsQI"
      }
    },
    {
      "cell_type": "code",
      "source": [
        "word[0:5]"
      ],
      "metadata": {
        "colab": {
          "base_uri": "https://localhost:8080/",
          "height": 36
        },
        "id": "gH6pejhqGvUw",
        "outputId": "220c8102-c070-4947-cb78-8194090beb8d"
      },
      "execution_count": 14,
      "outputs": [
        {
          "output_type": "execute_result",
          "data": {
            "text/plain": [
              "'Jupyt'"
            ],
            "application/vnd.google.colaboratory.intrinsic+json": {
              "type": "string"
            }
          },
          "metadata": {},
          "execution_count": 14
        }
      ]
    },
    {
      "cell_type": "markdown",
      "source": [
        "que de la palabra word solo nos imprima de la letra en la posicion 0 hasta antes de la 5,es decir, la que se encuentra en la posición 4"
      ],
      "metadata": {
        "id": "iyThjdPFGydH"
      }
    },
    {
      "cell_type": "code",
      "source": [],
      "metadata": {
        "id": "4_F-WJgMG92A"
      },
      "execution_count": null,
      "outputs": []
    }
  ]
}